{
  "nbformat": 4,
  "nbformat_minor": 0,
  "metadata": {
    "colab": {
      "name": "Projet_IA.ipynb",
      "provenance": [],
      "collapsed_sections": []
    },
    "kernelspec": {
      "name": "python3",
      "display_name": "Python 3"
    }
  },
  "cells": [
    {
      "cell_type": "markdown",
      "metadata": {
        "id": "ANTcH-9u4XbN"
      },
      "source": [
        "<h1><center>$$\\underline{{\\color{blue}{Ecole~Nationale~des~Sciences~de~l'Informatique}}}$$</center></h1>\r\n",
        "<h2><center>$${\\color{red}{\\underline{Projet~IA}}}$$</center></h2>\r\n",
        "<h3><center>$$\\large{{\\color{green}{Subjet:}}~\\underline{Système~de~recommandation~des~livres}}$$</center></h3>\r\n",
        "<h3><center>$$Ce~travail~est~réalisé~par:$$</center></h3>\r\n",
        "<h3><center>$${\\color{red}{\\underline{Abir~Rokbani~~~-~~~Mouna~Ben~Gacem}}}$$</center></h3>\r\n",
        "<h3><center>$$Enseignante:~{\\color{blue}{\\underline{Raoudha~Chebil}\r\n",
        "}}$$</center></h3>"
      ]
    },
    {
      "cell_type": "markdown",
      "metadata": {
        "id": "0Pub02sE4sIc"
      },
      "source": [
        " ${\\color{green}{*}}~Load~packages$"
      ]
    },
    {
      "cell_type": "code",
      "metadata": {
        "id": "Fxswibg2Nvod"
      },
      "source": [
        "import pandas as pd\r\n",
        "import numpy as np\r\n",
        "import matplotlib.pyplot as plt\r\n",
        "import seaborn as sns"
      ],
      "execution_count": 113,
      "outputs": []
    },
    {
      "cell_type": "markdown",
      "metadata": {
        "id": "O7e15rLW43Ni"
      },
      "source": [
        " ${\\color{green}{*}}~Load~data$"
      ]
    },
    {
      "cell_type": "code",
      "metadata": {
        "id": "Z9L9i38uOGXU",
        "colab": {
          "base_uri": "https://localhost:8080/"
        },
        "outputId": "0fd55a5c-d7c5-47b1-86c5-2dd20c0058df"
      },
      "source": [
        "book_data = pd.read_csv('BX-Books.csv', sep=';',error_bad_lines=False , encoding=\"latin-1\")\r\n",
        "book_data.columns = ['book_id', 'book_title', 'book_author', 'year_of_publication', 'publisher', 'imageUrlS', 'imageUrlM', 'imageUrlL']\r\n",
        "user_data = pd.read_csv('BX-Users.csv', sep=';',error_bad_lines=False , encoding=\"latin-1\")\r\n",
        "user_data.columns = ['user_id', 'Location', 'Age']\r\n",
        "book_rating = pd.read_csv('BX-Book-Ratings.csv', sep=';',error_bad_lines=False , encoding=\"latin-1\")\r\n",
        "book_rating.columns = ['user_id', 'book_id', 'bookRating']"
      ],
      "execution_count": 114,
      "outputs": [
        {
          "output_type": "stream",
          "text": [
            "b'Skipping line 6452: expected 8 fields, saw 9\\nSkipping line 43667: expected 8 fields, saw 10\\nSkipping line 51751: expected 8 fields, saw 9\\n'\n",
            "b'Skipping line 92038: expected 8 fields, saw 9\\nSkipping line 104319: expected 8 fields, saw 9\\nSkipping line 121768: expected 8 fields, saw 9\\n'\n",
            "b'Skipping line 144058: expected 8 fields, saw 9\\nSkipping line 150789: expected 8 fields, saw 9\\nSkipping line 157128: expected 8 fields, saw 9\\nSkipping line 180189: expected 8 fields, saw 9\\nSkipping line 185738: expected 8 fields, saw 9\\n'\n",
            "b'Skipping line 209388: expected 8 fields, saw 9\\nSkipping line 220626: expected 8 fields, saw 9\\nSkipping line 227933: expected 8 fields, saw 11\\nSkipping line 228957: expected 8 fields, saw 10\\nSkipping line 245933: expected 8 fields, saw 9\\nSkipping line 251296: expected 8 fields, saw 9\\nSkipping line 259941: expected 8 fields, saw 9\\nSkipping line 261529: expected 8 fields, saw 9\\n'\n",
            "/usr/local/lib/python3.6/dist-packages/IPython/core/interactiveshell.py:2718: DtypeWarning: Columns (3) have mixed types.Specify dtype option on import or set low_memory=False.\n",
            "  interactivity=interactivity, compiler=compiler, result=result)\n"
          ],
          "name": "stderr"
        }
      ]
    },
    {
      "cell_type": "markdown",
      "metadata": {
        "id": "tTaQFWbq5mce"
      },
      "source": [
        "# ${\\color{green}{I)}}~Data~Exploration$"
      ]
    },
    {
      "cell_type": "code",
      "metadata": {
        "id": "IdolGI7AOmV9",
        "colab": {
          "base_uri": "https://localhost:8080/"
        },
        "outputId": "35c7a568-88d2-4764-be85-3909ab436d5c"
      },
      "source": [
        "print(book_data.shape)\r\n",
        "print(user_data.shape)\r\n",
        "print(book_rating.shape)"
      ],
      "execution_count": 115,
      "outputs": [
        {
          "output_type": "stream",
          "text": [
            "(271360, 8)\n",
            "(278858, 3)\n",
            "(1149780, 3)\n"
          ],
          "name": "stdout"
        }
      ]
    },
    {
      "cell_type": "code",
      "metadata": {
        "id": "NFl2qhOOSvCY",
        "colab": {
          "base_uri": "https://localhost:8080/",
          "height": 366
        },
        "outputId": "295fe95c-6fa8-4c13-f2e6-92486c5f5083"
      },
      "source": [
        "book_data.head()"
      ],
      "execution_count": 116,
      "outputs": [
        {
          "output_type": "execute_result",
          "data": {
            "text/html": [
              "<div>\n",
              "<style scoped>\n",
              "    .dataframe tbody tr th:only-of-type {\n",
              "        vertical-align: middle;\n",
              "    }\n",
              "\n",
              "    .dataframe tbody tr th {\n",
              "        vertical-align: top;\n",
              "    }\n",
              "\n",
              "    .dataframe thead th {\n",
              "        text-align: right;\n",
              "    }\n",
              "</style>\n",
              "<table border=\"1\" class=\"dataframe\">\n",
              "  <thead>\n",
              "    <tr style=\"text-align: right;\">\n",
              "      <th></th>\n",
              "      <th>book_id</th>\n",
              "      <th>book_title</th>\n",
              "      <th>book_author</th>\n",
              "      <th>year_of_publication</th>\n",
              "      <th>publisher</th>\n",
              "      <th>imageUrlS</th>\n",
              "      <th>imageUrlM</th>\n",
              "      <th>imageUrlL</th>\n",
              "    </tr>\n",
              "  </thead>\n",
              "  <tbody>\n",
              "    <tr>\n",
              "      <th>0</th>\n",
              "      <td>0195153448</td>\n",
              "      <td>Classical Mythology</td>\n",
              "      <td>Mark P. O. Morford</td>\n",
              "      <td>2002</td>\n",
              "      <td>Oxford University Press</td>\n",
              "      <td>http://images.amazon.com/images/P/0195153448.0...</td>\n",
              "      <td>http://images.amazon.com/images/P/0195153448.0...</td>\n",
              "      <td>http://images.amazon.com/images/P/0195153448.0...</td>\n",
              "    </tr>\n",
              "    <tr>\n",
              "      <th>1</th>\n",
              "      <td>0002005018</td>\n",
              "      <td>Clara Callan</td>\n",
              "      <td>Richard Bruce Wright</td>\n",
              "      <td>2001</td>\n",
              "      <td>HarperFlamingo Canada</td>\n",
              "      <td>http://images.amazon.com/images/P/0002005018.0...</td>\n",
              "      <td>http://images.amazon.com/images/P/0002005018.0...</td>\n",
              "      <td>http://images.amazon.com/images/P/0002005018.0...</td>\n",
              "    </tr>\n",
              "    <tr>\n",
              "      <th>2</th>\n",
              "      <td>0060973129</td>\n",
              "      <td>Decision in Normandy</td>\n",
              "      <td>Carlo D'Este</td>\n",
              "      <td>1991</td>\n",
              "      <td>HarperPerennial</td>\n",
              "      <td>http://images.amazon.com/images/P/0060973129.0...</td>\n",
              "      <td>http://images.amazon.com/images/P/0060973129.0...</td>\n",
              "      <td>http://images.amazon.com/images/P/0060973129.0...</td>\n",
              "    </tr>\n",
              "    <tr>\n",
              "      <th>3</th>\n",
              "      <td>0374157065</td>\n",
              "      <td>Flu: The Story of the Great Influenza Pandemic...</td>\n",
              "      <td>Gina Bari Kolata</td>\n",
              "      <td>1999</td>\n",
              "      <td>Farrar Straus Giroux</td>\n",
              "      <td>http://images.amazon.com/images/P/0374157065.0...</td>\n",
              "      <td>http://images.amazon.com/images/P/0374157065.0...</td>\n",
              "      <td>http://images.amazon.com/images/P/0374157065.0...</td>\n",
              "    </tr>\n",
              "    <tr>\n",
              "      <th>4</th>\n",
              "      <td>0393045218</td>\n",
              "      <td>The Mummies of Urumchi</td>\n",
              "      <td>E. J. W. Barber</td>\n",
              "      <td>1999</td>\n",
              "      <td>W. W. Norton &amp;amp; Company</td>\n",
              "      <td>http://images.amazon.com/images/P/0393045218.0...</td>\n",
              "      <td>http://images.amazon.com/images/P/0393045218.0...</td>\n",
              "      <td>http://images.amazon.com/images/P/0393045218.0...</td>\n",
              "    </tr>\n",
              "  </tbody>\n",
              "</table>\n",
              "</div>"
            ],
            "text/plain": [
              "      book_id  ...                                          imageUrlL\n",
              "0  0195153448  ...  http://images.amazon.com/images/P/0195153448.0...\n",
              "1  0002005018  ...  http://images.amazon.com/images/P/0002005018.0...\n",
              "2  0060973129  ...  http://images.amazon.com/images/P/0060973129.0...\n",
              "3  0374157065  ...  http://images.amazon.com/images/P/0374157065.0...\n",
              "4  0393045218  ...  http://images.amazon.com/images/P/0393045218.0...\n",
              "\n",
              "[5 rows x 8 columns]"
            ]
          },
          "metadata": {
            "tags": []
          },
          "execution_count": 116
        }
      ]
    },
    {
      "cell_type": "code",
      "metadata": {
        "id": "sogGkP7nTdnD",
        "colab": {
          "base_uri": "https://localhost:8080/",
          "height": 195
        },
        "outputId": "f648abf8-83be-4e67-bedc-bffc6af6a1cd"
      },
      "source": [
        "user_data.head()"
      ],
      "execution_count": 117,
      "outputs": [
        {
          "output_type": "execute_result",
          "data": {
            "text/html": [
              "<div>\n",
              "<style scoped>\n",
              "    .dataframe tbody tr th:only-of-type {\n",
              "        vertical-align: middle;\n",
              "    }\n",
              "\n",
              "    .dataframe tbody tr th {\n",
              "        vertical-align: top;\n",
              "    }\n",
              "\n",
              "    .dataframe thead th {\n",
              "        text-align: right;\n",
              "    }\n",
              "</style>\n",
              "<table border=\"1\" class=\"dataframe\">\n",
              "  <thead>\n",
              "    <tr style=\"text-align: right;\">\n",
              "      <th></th>\n",
              "      <th>user_id</th>\n",
              "      <th>Location</th>\n",
              "      <th>Age</th>\n",
              "    </tr>\n",
              "  </thead>\n",
              "  <tbody>\n",
              "    <tr>\n",
              "      <th>0</th>\n",
              "      <td>1</td>\n",
              "      <td>nyc, new york, usa</td>\n",
              "      <td>NaN</td>\n",
              "    </tr>\n",
              "    <tr>\n",
              "      <th>1</th>\n",
              "      <td>2</td>\n",
              "      <td>stockton, california, usa</td>\n",
              "      <td>18.0</td>\n",
              "    </tr>\n",
              "    <tr>\n",
              "      <th>2</th>\n",
              "      <td>3</td>\n",
              "      <td>moscow, yukon territory, russia</td>\n",
              "      <td>NaN</td>\n",
              "    </tr>\n",
              "    <tr>\n",
              "      <th>3</th>\n",
              "      <td>4</td>\n",
              "      <td>porto, v.n.gaia, portugal</td>\n",
              "      <td>17.0</td>\n",
              "    </tr>\n",
              "    <tr>\n",
              "      <th>4</th>\n",
              "      <td>5</td>\n",
              "      <td>farnborough, hants, united kingdom</td>\n",
              "      <td>NaN</td>\n",
              "    </tr>\n",
              "  </tbody>\n",
              "</table>\n",
              "</div>"
            ],
            "text/plain": [
              "   user_id                            Location   Age\n",
              "0        1                  nyc, new york, usa   NaN\n",
              "1        2           stockton, california, usa  18.0\n",
              "2        3     moscow, yukon territory, russia   NaN\n",
              "3        4           porto, v.n.gaia, portugal  17.0\n",
              "4        5  farnborough, hants, united kingdom   NaN"
            ]
          },
          "metadata": {
            "tags": []
          },
          "execution_count": 117
        }
      ]
    },
    {
      "cell_type": "code",
      "metadata": {
        "id": "SvHG8rQVTi8h",
        "colab": {
          "base_uri": "https://localhost:8080/",
          "height": 195
        },
        "outputId": "924a43ea-f126-42ea-debb-7df4f7b32e44"
      },
      "source": [
        "book_rating.head()"
      ],
      "execution_count": 118,
      "outputs": [
        {
          "output_type": "execute_result",
          "data": {
            "text/html": [
              "<div>\n",
              "<style scoped>\n",
              "    .dataframe tbody tr th:only-of-type {\n",
              "        vertical-align: middle;\n",
              "    }\n",
              "\n",
              "    .dataframe tbody tr th {\n",
              "        vertical-align: top;\n",
              "    }\n",
              "\n",
              "    .dataframe thead th {\n",
              "        text-align: right;\n",
              "    }\n",
              "</style>\n",
              "<table border=\"1\" class=\"dataframe\">\n",
              "  <thead>\n",
              "    <tr style=\"text-align: right;\">\n",
              "      <th></th>\n",
              "      <th>user_id</th>\n",
              "      <th>book_id</th>\n",
              "      <th>bookRating</th>\n",
              "    </tr>\n",
              "  </thead>\n",
              "  <tbody>\n",
              "    <tr>\n",
              "      <th>0</th>\n",
              "      <td>276725</td>\n",
              "      <td>034545104X</td>\n",
              "      <td>0</td>\n",
              "    </tr>\n",
              "    <tr>\n",
              "      <th>1</th>\n",
              "      <td>276726</td>\n",
              "      <td>0155061224</td>\n",
              "      <td>5</td>\n",
              "    </tr>\n",
              "    <tr>\n",
              "      <th>2</th>\n",
              "      <td>276727</td>\n",
              "      <td>0446520802</td>\n",
              "      <td>0</td>\n",
              "    </tr>\n",
              "    <tr>\n",
              "      <th>3</th>\n",
              "      <td>276729</td>\n",
              "      <td>052165615X</td>\n",
              "      <td>3</td>\n",
              "    </tr>\n",
              "    <tr>\n",
              "      <th>4</th>\n",
              "      <td>276729</td>\n",
              "      <td>0521795028</td>\n",
              "      <td>6</td>\n",
              "    </tr>\n",
              "  </tbody>\n",
              "</table>\n",
              "</div>"
            ],
            "text/plain": [
              "   user_id     book_id  bookRating\n",
              "0   276725  034545104X           0\n",
              "1   276726  0155061224           5\n",
              "2   276727  0446520802           0\n",
              "3   276729  052165615X           3\n",
              "4   276729  0521795028           6"
            ]
          },
          "metadata": {
            "tags": []
          },
          "execution_count": 118
        }
      ]
    },
    {
      "cell_type": "code",
      "metadata": {
        "id": "AnevLah8UIhd",
        "colab": {
          "base_uri": "https://localhost:8080/"
        },
        "outputId": "c71f2119-a70b-4906-f5bf-b3203b70bdff"
      },
      "source": [
        "book_data.dtypes"
      ],
      "execution_count": 119,
      "outputs": [
        {
          "output_type": "execute_result",
          "data": {
            "text/plain": [
              "book_id                object\n",
              "book_title             object\n",
              "book_author            object\n",
              "year_of_publication    object\n",
              "publisher              object\n",
              "imageUrlS              object\n",
              "imageUrlM              object\n",
              "imageUrlL              object\n",
              "dtype: object"
            ]
          },
          "metadata": {
            "tags": []
          },
          "execution_count": 119
        }
      ]
    },
    {
      "cell_type": "code",
      "metadata": {
        "id": "jiqusL1wUPr-",
        "colab": {
          "base_uri": "https://localhost:8080/"
        },
        "outputId": "8112448d-3a0d-48e7-a003-0c8e1335518b"
      },
      "source": [
        "user_data.dtypes"
      ],
      "execution_count": 120,
      "outputs": [
        {
          "output_type": "execute_result",
          "data": {
            "text/plain": [
              "user_id       int64\n",
              "Location     object\n",
              "Age         float64\n",
              "dtype: object"
            ]
          },
          "metadata": {
            "tags": []
          },
          "execution_count": 120
        }
      ]
    },
    {
      "cell_type": "code",
      "metadata": {
        "id": "VE1mIxqpUTyf",
        "colab": {
          "base_uri": "https://localhost:8080/"
        },
        "outputId": "a2d3a2ed-9a69-46f4-fa28-66b114b39c9d"
      },
      "source": [
        "book_rating.dtypes"
      ],
      "execution_count": 121,
      "outputs": [
        {
          "output_type": "execute_result",
          "data": {
            "text/plain": [
              "user_id        int64\n",
              "book_id       object\n",
              "bookRating     int64\n",
              "dtype: object"
            ]
          },
          "metadata": {
            "tags": []
          },
          "execution_count": 121
        }
      ]
    },
    {
      "cell_type": "code",
      "metadata": {
        "id": "2oZd6HeoUYNV",
        "colab": {
          "base_uri": "https://localhost:8080/"
        },
        "outputId": "34f5a0e4-6be7-4d7b-8e86-1346938fda63"
      },
      "source": [
        "book_data.isna().sum()"
      ],
      "execution_count": 122,
      "outputs": [
        {
          "output_type": "execute_result",
          "data": {
            "text/plain": [
              "book_id                0\n",
              "book_title             0\n",
              "book_author            1\n",
              "year_of_publication    0\n",
              "publisher              2\n",
              "imageUrlS              0\n",
              "imageUrlM              0\n",
              "imageUrlL              3\n",
              "dtype: int64"
            ]
          },
          "metadata": {
            "tags": []
          },
          "execution_count": 122
        }
      ]
    },
    {
      "cell_type": "code",
      "metadata": {
        "id": "rv1gRE-lUlnr",
        "colab": {
          "base_uri": "https://localhost:8080/"
        },
        "outputId": "2c748931-09cb-4978-dd7a-c8fed2dd7680"
      },
      "source": [
        "user_data.isna().sum()"
      ],
      "execution_count": 123,
      "outputs": [
        {
          "output_type": "execute_result",
          "data": {
            "text/plain": [
              "user_id          0\n",
              "Location         0\n",
              "Age         110762\n",
              "dtype: int64"
            ]
          },
          "metadata": {
            "tags": []
          },
          "execution_count": 123
        }
      ]
    },
    {
      "cell_type": "code",
      "metadata": {
        "id": "-V50bTJBUxyc",
        "colab": {
          "base_uri": "https://localhost:8080/"
        },
        "outputId": "a86aa4ce-d111-4a85-d807-1618a363e9d7"
      },
      "source": [
        "book_rating.isna().sum()"
      ],
      "execution_count": 124,
      "outputs": [
        {
          "output_type": "execute_result",
          "data": {
            "text/plain": [
              "user_id       0\n",
              "book_id       0\n",
              "bookRating    0\n",
              "dtype: int64"
            ]
          },
          "metadata": {
            "tags": []
          },
          "execution_count": 124
        }
      ]
    },
    {
      "cell_type": "code",
      "metadata": {
        "id": "1U_FuTUUU6N7",
        "colab": {
          "base_uri": "https://localhost:8080/",
          "height": 334
        },
        "outputId": "72a00f4e-609a-4e0e-bcde-7d2f9ca766dd"
      },
      "source": [
        "plt.rc(\"font\", size=15)\r\n",
        "book_rating.bookRating.value_counts(sort=False).plot(kind='bar')\r\n",
        "plt.title('Rating Distribution\\n')\r\n",
        "plt.xlabel('Rating')\r\n",
        "plt.ylabel('Count')\r\n",
        "plt.show()"
      ],
      "execution_count": 125,
      "outputs": [
        {
          "output_type": "display_data",
          "data": {
            "image/png": "[encoded data removed]",
            "text/plain": [
              "<Figure size 432x288 with 1 Axes>"
            ]
          },
          "metadata": {
            "tags": [],
            "needs_background": "light"
          }
        }
      ]
    },
    {
      "cell_type": "code",
      "metadata": {
        "id": "8khjchYteS9N",
        "colab": {
          "base_uri": "https://localhost:8080/",
          "height": 330
        },
        "outputId": "ee77be0a-a5fa-4192-8a2f-4d9897e50751"
      },
      "source": [
        "user_data.Age.hist(bins=[0, 5,10, 15,20,25, 30, 35,40,45, 50, 55,60,65,70,75,80,90,100])\r\n",
        "plt.title('Age Distribution\\n')\r\n",
        "plt.xlabel('Age')\r\n",
        "plt.ylabel('Count')\r\n",
        "plt.show()"
      ],
      "execution_count": 126,
      "outputs": [
        {
          "output_type": "display_data",
          "data": {
            "image/png": "[encoded data removed]",
            "text/plain": [
              "<Figure size 432x288 with 1 Axes>"
            ]
          },
          "metadata": {
            "tags": [],
            "needs_background": "light"
          }
        }
      ]
    },
    {
      "cell_type": "code",
      "metadata": {
        "id": "xfWq_Weqf5BP",
        "colab": {
          "base_uri": "https://localhost:8080/",
          "height": 225
        },
        "outputId": "7d424ada-2696-4cf4-c202-c126e635addb"
      },
      "source": [
        "data = pd.DataFrame(book_rating.groupby('book_id')['bookRating'].mean())\r\n",
        "data['ratingCount'] = pd.DataFrame(book_rating.groupby('book_id')['bookRating'].count())\r\n",
        "data.sort_values('ratingCount', ascending=False).head()"
      ],
      "execution_count": 127,
      "outputs": [
        {
          "output_type": "execute_result",
          "data": {
            "text/html": [
              "<div>\n",
              "<style scoped>\n",
              "    .dataframe tbody tr th:only-of-type {\n",
              "        vertical-align: middle;\n",
              "    }\n",
              "\n",
              "    .dataframe tbody tr th {\n",
              "        vertical-align: top;\n",
              "    }\n",
              "\n",
              "    .dataframe thead th {\n",
              "        text-align: right;\n",
              "    }\n",
              "</style>\n",
              "<table border=\"1\" class=\"dataframe\">\n",
              "  <thead>\n",
              "    <tr style=\"text-align: right;\">\n",
              "      <th></th>\n",
              "      <th>bookRating</th>\n",
              "      <th>ratingCount</th>\n",
              "    </tr>\n",
              "    <tr>\n",
              "      <th>book_id</th>\n",
              "      <th></th>\n",
              "      <th></th>\n",
              "    </tr>\n",
              "  </thead>\n",
              "  <tbody>\n",
              "    <tr>\n",
              "      <th>0971880107</th>\n",
              "      <td>1.019584</td>\n",
              "      <td>2502</td>\n",
              "    </tr>\n",
              "    <tr>\n",
              "      <th>0316666343</th>\n",
              "      <td>4.468726</td>\n",
              "      <td>1295</td>\n",
              "    </tr>\n",
              "    <tr>\n",
              "      <th>0385504209</th>\n",
              "      <td>4.652322</td>\n",
              "      <td>883</td>\n",
              "    </tr>\n",
              "    <tr>\n",
              "      <th>0060928336</th>\n",
              "      <td>3.448087</td>\n",
              "      <td>732</td>\n",
              "    </tr>\n",
              "    <tr>\n",
              "      <th>0312195516</th>\n",
              "      <td>4.334716</td>\n",
              "      <td>723</td>\n",
              "    </tr>\n",
              "  </tbody>\n",
              "</table>\n",
              "</div>"
            ],
            "text/plain": [
              "            bookRating  ratingCount\n",
              "book_id                            \n",
              "0971880107    1.019584         2502\n",
              "0316666343    4.468726         1295\n",
              "0385504209    4.652322          883\n",
              "0060928336    3.448087          732\n",
              "0312195516    4.334716          723"
            ]
          },
          "metadata": {
            "tags": []
          },
          "execution_count": 127
        }
      ]
    },
    {
      "cell_type": "code",
      "metadata": {
        "id": "vULz7qNCh_Ud",
        "colab": {
          "base_uri": "https://localhost:8080/"
        },
        "outputId": "7cd4f6b0-c10f-4aed-b75f-e9ec66066922"
      },
      "source": [
        "book_rating.bookRating.describe()"
      ],
      "execution_count": 128,
      "outputs": [
        {
          "output_type": "execute_result",
          "data": {
            "text/plain": [
              "count    1.149780e+06\n",
              "mean     2.866950e+00\n",
              "std      3.854184e+00\n",
              "min      0.000000e+00\n",
              "25%      0.000000e+00\n",
              "50%      0.000000e+00\n",
              "75%      7.000000e+00\n",
              "max      1.000000e+01\n",
              "Name: bookRating, dtype: float64"
            ]
          },
          "metadata": {
            "tags": []
          },
          "execution_count": 128
        }
      ]
    },
    {
      "cell_type": "code",
      "metadata": {
        "id": "yPOX_aGi3Lye",
        "colab": {
          "base_uri": "https://localhost:8080/"
        },
        "outputId": "5b4cd74c-9636-4711-ad09-82ced6be4a33"
      },
      "source": [
        "book_rating['bookRating'].value_counts()"
      ],
      "execution_count": 129,
      "outputs": [
        {
          "output_type": "execute_result",
          "data": {
            "text/plain": [
              "0     716109\n",
              "8     103736\n",
              "10     78610\n",
              "7      76457\n",
              "9      67541\n",
              "5      50974\n",
              "6      36924\n",
              "4       8904\n",
              "3       5996\n",
              "2       2759\n",
              "1       1770\n",
              "Name: bookRating, dtype: int64"
            ]
          },
          "metadata": {
            "tags": []
          },
          "execution_count": 129
        }
      ]
    },
    {
      "cell_type": "code",
      "metadata": {
        "id": "tFyPQ8Rj3e10",
        "colab": {
          "base_uri": "https://localhost:8080/",
          "height": 362
        },
        "outputId": "7436b7d9-05b1-46b9-9d51-7d6119fd45d9"
      },
      "source": [
        "sns.boxplot(book_rating['bookRating'])"
      ],
      "execution_count": 130,
      "outputs": [
        {
          "output_type": "stream",
          "text": [
            "/usr/local/lib/python3.6/dist-packages/seaborn/_decorators.py:43: FutureWarning: Pass the following variable as a keyword arg: x. From version 0.12, the only valid positional argument will be `data`, and passing other arguments without an explicit keyword will result in an error or misinterpretation.\n",
            "  FutureWarning\n"
          ],
          "name": "stderr"
        },
        {
          "output_type": "execute_result",
          "data": {
            "text/plain": [
              "<matplotlib.axes._subplots.AxesSubplot at 0x7f46e0b5c748>"
            ]
          },
          "metadata": {
            "tags": []
          },
          "execution_count": 130
        },
        {
          "output_type": "display_data",
          "data": {
            "image/png": "[encoded data removed]",
            "text/plain": [
              "<Figure size 432x288 with 1 Axes>"
            ]
          },
          "metadata": {
            "tags": [],
            "needs_background": "light"
          }
        }
      ]
    },
    {
      "cell_type": "code",
      "metadata": {
        "id": "Xp3aLxSu3_-n",
        "colab": {
          "base_uri": "https://localhost:8080/"
        },
        "outputId": "531ab3a2-baec-40de-9da4-8a34fa79a3f7"
      },
      "source": [
        "print(\"Unique UserID count: %s\" % str(book_rating['user_id'].nunique()))\r\n",
        "print(\"Unique BookID count: %s\" % str(book_rating['book_id'].nunique()))"
      ],
      "execution_count": 131,
      "outputs": [
        {
          "output_type": "stream",
          "text": [
            "Unique UserID count: 105283\n",
            "Unique BookID count: 340556\n"
          ],
          "name": "stdout"
        }
      ]
    },
    {
      "cell_type": "markdown",
      "metadata": {
        "id": "AhWlPC3cuJPb"
      },
      "source": [
        "# ${\\color{green}{II)}}~Collaborative~Filtering~$\r\n",
        "\r\n",
        "\r\n"
      ]
    },
    {
      "cell_type": "code",
      "metadata": {
        "id": "8rN7EdLBuMSL",
        "colab": {
          "base_uri": "https://localhost:8080/",
          "height": 402
        },
        "outputId": "4362426c-900d-4469-849f-ce32ff36ea2a"
      },
      "source": [
        "data1 = pd.merge(book_rating, book_data, on='book_id')\r\n",
        "columns = ['year_of_publication', 'publisher', 'book_author', 'imageUrlS', 'imageUrlM', 'imageUrlL']\r\n",
        "data1 = data1.drop(columns, axis=1)\r\n",
        "data1.head(220)"
      ],
      "execution_count": 132,
      "outputs": [
        {
          "output_type": "execute_result",
          "data": {
            "text/html": [
              "<div>\n",
              "<style scoped>\n",
              "    .dataframe tbody tr th:only-of-type {\n",
              "        vertical-align: middle;\n",
              "    }\n",
              "\n",
              "    .dataframe tbody tr th {\n",
              "        vertical-align: top;\n",
              "    }\n",
              "\n",
              "    .dataframe thead th {\n",
              "        text-align: right;\n",
              "    }\n",
              "</style>\n",
              "<table border=\"1\" class=\"dataframe\">\n",
              "  <thead>\n",
              "    <tr style=\"text-align: right;\">\n",
              "      <th></th>\n",
              "      <th>user_id</th>\n",
              "      <th>book_id</th>\n",
              "      <th>bookRating</th>\n",
              "      <th>book_title</th>\n",
              "    </tr>\n",
              "  </thead>\n",
              "  <tbody>\n",
              "    <tr>\n",
              "      <th>0</th>\n",
              "      <td>276725</td>\n",
              "      <td>034545104X</td>\n",
              "      <td>0</td>\n",
              "      <td>Flesh Tones: A Novel</td>\n",
              "    </tr>\n",
              "    <tr>\n",
              "      <th>1</th>\n",
              "      <td>2313</td>\n",
              "      <td>034545104X</td>\n",
              "      <td>5</td>\n",
              "      <td>Flesh Tones: A Novel</td>\n",
              "    </tr>\n",
              "    <tr>\n",
              "      <th>2</th>\n",
              "      <td>6543</td>\n",
              "      <td>034545104X</td>\n",
              "      <td>0</td>\n",
              "      <td>Flesh Tones: A Novel</td>\n",
              "    </tr>\n",
              "    <tr>\n",
              "      <th>3</th>\n",
              "      <td>8680</td>\n",
              "      <td>034545104X</td>\n",
              "      <td>5</td>\n",
              "      <td>Flesh Tones: A Novel</td>\n",
              "    </tr>\n",
              "    <tr>\n",
              "      <th>4</th>\n",
              "      <td>10314</td>\n",
              "      <td>034545104X</td>\n",
              "      <td>9</td>\n",
              "      <td>Flesh Tones: A Novel</td>\n",
              "    </tr>\n",
              "    <tr>\n",
              "      <th>...</th>\n",
              "      <td>...</td>\n",
              "      <td>...</td>\n",
              "      <td>...</td>\n",
              "      <td>...</td>\n",
              "    </tr>\n",
              "    <tr>\n",
              "      <th>215</th>\n",
              "      <td>37712</td>\n",
              "      <td>038550120X</td>\n",
              "      <td>0</td>\n",
              "      <td>A Painted House</td>\n",
              "    </tr>\n",
              "    <tr>\n",
              "      <th>216</th>\n",
              "      <td>37800</td>\n",
              "      <td>038550120X</td>\n",
              "      <td>9</td>\n",
              "      <td>A Painted House</td>\n",
              "    </tr>\n",
              "    <tr>\n",
              "      <th>217</th>\n",
              "      <td>39441</td>\n",
              "      <td>038550120X</td>\n",
              "      <td>0</td>\n",
              "      <td>A Painted House</td>\n",
              "    </tr>\n",
              "    <tr>\n",
              "      <th>218</th>\n",
              "      <td>39646</td>\n",
              "      <td>038550120X</td>\n",
              "      <td>0</td>\n",
              "      <td>A Painted House</td>\n",
              "    </tr>\n",
              "    <tr>\n",
              "      <th>219</th>\n",
              "      <td>39773</td>\n",
              "      <td>038550120X</td>\n",
              "      <td>0</td>\n",
              "      <td>A Painted House</td>\n",
              "    </tr>\n",
              "  </tbody>\n",
              "</table>\n",
              "<p>220 rows × 4 columns</p>\n",
              "</div>"
            ],
            "text/plain": [
              "     user_id     book_id  bookRating            book_title\n",
              "0     276725  034545104X           0  Flesh Tones: A Novel\n",
              "1       2313  034545104X           5  Flesh Tones: A Novel\n",
              "2       6543  034545104X           0  Flesh Tones: A Novel\n",
              "3       8680  034545104X           5  Flesh Tones: A Novel\n",
              "4      10314  034545104X           9  Flesh Tones: A Novel\n",
              "..       ...         ...         ...                   ...\n",
              "215    37712  038550120X           0       A Painted House\n",
              "216    37800  038550120X           9       A Painted House\n",
              "217    39441  038550120X           0       A Painted House\n",
              "218    39646  038550120X           0       A Painted House\n",
              "219    39773  038550120X           0       A Painted House\n",
              "\n",
              "[220 rows x 4 columns]"
            ]
          },
          "metadata": {
            "tags": []
          },
          "execution_count": 132
        }
      ]
    },
    {
      "cell_type": "code",
      "metadata": {
        "id": "P-euO6IOuabs",
        "colab": {
          "base_uri": "https://localhost:8080/",
          "height": 195
        },
        "outputId": "843c680e-559b-4e90-e403-80324ec20acf"
      },
      "source": [
        "data2 = (data1.groupby(by = ['book_title'])['bookRating'].count().reset_index().rename(columns = {'bookRating': 'total'})[['book_title', 'total']])\r\n",
        "data2.head()"
      ],
      "execution_count": 133,
      "outputs": [
        {
          "output_type": "execute_result",
          "data": {
            "text/html": [
              "<div>\n",
              "<style scoped>\n",
              "    .dataframe tbody tr th:only-of-type {\n",
              "        vertical-align: middle;\n",
              "    }\n",
              "\n",
              "    .dataframe tbody tr th {\n",
              "        vertical-align: top;\n",
              "    }\n",
              "\n",
              "    .dataframe thead th {\n",
              "        text-align: right;\n",
              "    }\n",
              "</style>\n",
              "<table border=\"1\" class=\"dataframe\">\n",
              "  <thead>\n",
              "    <tr style=\"text-align: right;\">\n",
              "      <th></th>\n",
              "      <th>book_title</th>\n",
              "      <th>total</th>\n",
              "    </tr>\n",
              "  </thead>\n",
              "  <tbody>\n",
              "    <tr>\n",
              "      <th>0</th>\n",
              "      <td>A Light in the Storm: The Civil War Diary of ...</td>\n",
              "      <td>4</td>\n",
              "    </tr>\n",
              "    <tr>\n",
              "      <th>1</th>\n",
              "      <td>Always Have Popsicles</td>\n",
              "      <td>1</td>\n",
              "    </tr>\n",
              "    <tr>\n",
              "      <th>2</th>\n",
              "      <td>Apple Magic (The Collector's series)</td>\n",
              "      <td>1</td>\n",
              "    </tr>\n",
              "    <tr>\n",
              "      <th>3</th>\n",
              "      <td>Ask Lily (Young Women of Faith: Lily Series, ...</td>\n",
              "      <td>1</td>\n",
              "    </tr>\n",
              "    <tr>\n",
              "      <th>4</th>\n",
              "      <td>Beyond IBM: Leadership Marketing and Finance ...</td>\n",
              "      <td>1</td>\n",
              "    </tr>\n",
              "  </tbody>\n",
              "</table>\n",
              "</div>"
            ],
            "text/plain": [
              "                                          book_title  total\n",
              "0   A Light in the Storm: The Civil War Diary of ...      4\n",
              "1                              Always Have Popsicles      1\n",
              "2               Apple Magic (The Collector's series)      1\n",
              "3   Ask Lily (Young Women of Faith: Lily Series, ...      1\n",
              "4   Beyond IBM: Leadership Marketing and Finance ...      1"
            ]
          },
          "metadata": {
            "tags": []
          },
          "execution_count": 133
        }
      ]
    },
    {
      "cell_type": "code",
      "metadata": {
        "id": "0xH8onw_vg_l",
        "colab": {
          "base_uri": "https://localhost:8080/",
          "height": 402
        },
        "outputId": "593f875b-3ab5-42c9-98e4-c58357c7a0be"
      },
      "source": [
        "data3 =data1.merge(data2, left_on = 'book_title', right_on = 'book_title', how = 'left')\r\n",
        "data3.head(220)"
      ],
      "execution_count": 134,
      "outputs": [
        {
          "output_type": "execute_result",
          "data": {
            "text/html": [
              "<div>\n",
              "<style scoped>\n",
              "    .dataframe tbody tr th:only-of-type {\n",
              "        vertical-align: middle;\n",
              "    }\n",
              "\n",
              "    .dataframe tbody tr th {\n",
              "        vertical-align: top;\n",
              "    }\n",
              "\n",
              "    .dataframe thead th {\n",
              "        text-align: right;\n",
              "    }\n",
              "</style>\n",
              "<table border=\"1\" class=\"dataframe\">\n",
              "  <thead>\n",
              "    <tr style=\"text-align: right;\">\n",
              "      <th></th>\n",
              "      <th>user_id</th>\n",
              "      <th>book_id</th>\n",
              "      <th>bookRating</th>\n",
              "      <th>book_title</th>\n",
              "      <th>total</th>\n",
              "    </tr>\n",
              "  </thead>\n",
              "  <tbody>\n",
              "    <tr>\n",
              "      <th>0</th>\n",
              "      <td>276725</td>\n",
              "      <td>034545104X</td>\n",
              "      <td>0</td>\n",
              "      <td>Flesh Tones: A Novel</td>\n",
              "      <td>60</td>\n",
              "    </tr>\n",
              "    <tr>\n",
              "      <th>1</th>\n",
              "      <td>2313</td>\n",
              "      <td>034545104X</td>\n",
              "      <td>5</td>\n",
              "      <td>Flesh Tones: A Novel</td>\n",
              "      <td>60</td>\n",
              "    </tr>\n",
              "    <tr>\n",
              "      <th>2</th>\n",
              "      <td>6543</td>\n",
              "      <td>034545104X</td>\n",
              "      <td>0</td>\n",
              "      <td>Flesh Tones: A Novel</td>\n",
              "      <td>60</td>\n",
              "    </tr>\n",
              "    <tr>\n",
              "      <th>3</th>\n",
              "      <td>8680</td>\n",
              "      <td>034545104X</td>\n",
              "      <td>5</td>\n",
              "      <td>Flesh Tones: A Novel</td>\n",
              "      <td>60</td>\n",
              "    </tr>\n",
              "    <tr>\n",
              "      <th>4</th>\n",
              "      <td>10314</td>\n",
              "      <td>034545104X</td>\n",
              "      <td>9</td>\n",
              "      <td>Flesh Tones: A Novel</td>\n",
              "      <td>60</td>\n",
              "    </tr>\n",
              "    <tr>\n",
              "      <th>...</th>\n",
              "      <td>...</td>\n",
              "      <td>...</td>\n",
              "      <td>...</td>\n",
              "      <td>...</td>\n",
              "      <td>...</td>\n",
              "    </tr>\n",
              "    <tr>\n",
              "      <th>215</th>\n",
              "      <td>37712</td>\n",
              "      <td>038550120X</td>\n",
              "      <td>0</td>\n",
              "      <td>A Painted House</td>\n",
              "      <td>838</td>\n",
              "    </tr>\n",
              "    <tr>\n",
              "      <th>216</th>\n",
              "      <td>37800</td>\n",
              "      <td>038550120X</td>\n",
              "      <td>9</td>\n",
              "      <td>A Painted House</td>\n",
              "      <td>838</td>\n",
              "    </tr>\n",
              "    <tr>\n",
              "      <th>217</th>\n",
              "      <td>39441</td>\n",
              "      <td>038550120X</td>\n",
              "      <td>0</td>\n",
              "      <td>A Painted House</td>\n",
              "      <td>838</td>\n",
              "    </tr>\n",
              "    <tr>\n",
              "      <th>218</th>\n",
              "      <td>39646</td>\n",
              "      <td>038550120X</td>\n",
              "      <td>0</td>\n",
              "      <td>A Painted House</td>\n",
              "      <td>838</td>\n",
              "    </tr>\n",
              "    <tr>\n",
              "      <th>219</th>\n",
              "      <td>39773</td>\n",
              "      <td>038550120X</td>\n",
              "      <td>0</td>\n",
              "      <td>A Painted House</td>\n",
              "      <td>838</td>\n",
              "    </tr>\n",
              "  </tbody>\n",
              "</table>\n",
              "<p>220 rows × 5 columns</p>\n",
              "</div>"
            ],
            "text/plain": [
              "     user_id     book_id  bookRating            book_title  total\n",
              "0     276725  034545104X           0  Flesh Tones: A Novel     60\n",
              "1       2313  034545104X           5  Flesh Tones: A Novel     60\n",
              "2       6543  034545104X           0  Flesh Tones: A Novel     60\n",
              "3       8680  034545104X           5  Flesh Tones: A Novel     60\n",
              "4      10314  034545104X           9  Flesh Tones: A Novel     60\n",
              "..       ...         ...         ...                   ...    ...\n",
              "215    37712  038550120X           0       A Painted House    838\n",
              "216    37800  038550120X           9       A Painted House    838\n",
              "217    39441  038550120X           0       A Painted House    838\n",
              "218    39646  038550120X           0       A Painted House    838\n",
              "219    39773  038550120X           0       A Painted House    838\n",
              "\n",
              "[220 rows x 5 columns]"
            ]
          },
          "metadata": {
            "tags": []
          },
          "execution_count": 134
        }
      ]
    },
    {
      "cell_type": "code",
      "metadata": {
        "id": "99xPqqnfv-SA",
        "colab": {
          "base_uri": "https://localhost:8080/",
          "height": 402
        },
        "outputId": "0399a5b0-48b2-4a77-acf9-bf55e9df51fd"
      },
      "source": [
        "pop_value = 50\r\n",
        "data4 = data3.query('total >= @pop_value')\r\n",
        "data4.head(220)"
      ],
      "execution_count": 135,
      "outputs": [
        {
          "output_type": "execute_result",
          "data": {
            "text/html": [
              "<div>\n",
              "<style scoped>\n",
              "    .dataframe tbody tr th:only-of-type {\n",
              "        vertical-align: middle;\n",
              "    }\n",
              "\n",
              "    .dataframe tbody tr th {\n",
              "        vertical-align: top;\n",
              "    }\n",
              "\n",
              "    .dataframe thead th {\n",
              "        text-align: right;\n",
              "    }\n",
              "</style>\n",
              "<table border=\"1\" class=\"dataframe\">\n",
              "  <thead>\n",
              "    <tr style=\"text-align: right;\">\n",
              "      <th></th>\n",
              "      <th>user_id</th>\n",
              "      <th>book_id</th>\n",
              "      <th>bookRating</th>\n",
              "      <th>book_title</th>\n",
              "      <th>total</th>\n",
              "    </tr>\n",
              "  </thead>\n",
              "  <tbody>\n",
              "    <tr>\n",
              "      <th>0</th>\n",
              "      <td>276725</td>\n",
              "      <td>034545104X</td>\n",
              "      <td>0</td>\n",
              "      <td>Flesh Tones: A Novel</td>\n",
              "      <td>60</td>\n",
              "    </tr>\n",
              "    <tr>\n",
              "      <th>1</th>\n",
              "      <td>2313</td>\n",
              "      <td>034545104X</td>\n",
              "      <td>5</td>\n",
              "      <td>Flesh Tones: A Novel</td>\n",
              "      <td>60</td>\n",
              "    </tr>\n",
              "    <tr>\n",
              "      <th>2</th>\n",
              "      <td>6543</td>\n",
              "      <td>034545104X</td>\n",
              "      <td>0</td>\n",
              "      <td>Flesh Tones: A Novel</td>\n",
              "      <td>60</td>\n",
              "    </tr>\n",
              "    <tr>\n",
              "      <th>3</th>\n",
              "      <td>8680</td>\n",
              "      <td>034545104X</td>\n",
              "      <td>5</td>\n",
              "      <td>Flesh Tones: A Novel</td>\n",
              "      <td>60</td>\n",
              "    </tr>\n",
              "    <tr>\n",
              "      <th>4</th>\n",
              "      <td>10314</td>\n",
              "      <td>034545104X</td>\n",
              "      <td>9</td>\n",
              "      <td>Flesh Tones: A Novel</td>\n",
              "      <td>60</td>\n",
              "    </tr>\n",
              "    <tr>\n",
              "      <th>...</th>\n",
              "      <td>...</td>\n",
              "      <td>...</td>\n",
              "      <td>...</td>\n",
              "      <td>...</td>\n",
              "      <td>...</td>\n",
              "    </tr>\n",
              "    <tr>\n",
              "      <th>222</th>\n",
              "      <td>43842</td>\n",
              "      <td>038550120X</td>\n",
              "      <td>0</td>\n",
              "      <td>A Painted House</td>\n",
              "      <td>838</td>\n",
              "    </tr>\n",
              "    <tr>\n",
              "      <th>223</th>\n",
              "      <td>44963</td>\n",
              "      <td>038550120X</td>\n",
              "      <td>0</td>\n",
              "      <td>A Painted House</td>\n",
              "      <td>838</td>\n",
              "    </tr>\n",
              "    <tr>\n",
              "      <th>224</th>\n",
              "      <td>49683</td>\n",
              "      <td>038550120X</td>\n",
              "      <td>0</td>\n",
              "      <td>A Painted House</td>\n",
              "      <td>838</td>\n",
              "    </tr>\n",
              "    <tr>\n",
              "      <th>225</th>\n",
              "      <td>53174</td>\n",
              "      <td>038550120X</td>\n",
              "      <td>0</td>\n",
              "      <td>A Painted House</td>\n",
              "      <td>838</td>\n",
              "    </tr>\n",
              "    <tr>\n",
              "      <th>226</th>\n",
              "      <td>53220</td>\n",
              "      <td>038550120X</td>\n",
              "      <td>8</td>\n",
              "      <td>A Painted House</td>\n",
              "      <td>838</td>\n",
              "    </tr>\n",
              "  </tbody>\n",
              "</table>\n",
              "<p>220 rows × 5 columns</p>\n",
              "</div>"
            ],
            "text/plain": [
              "     user_id     book_id  bookRating            book_title  total\n",
              "0     276725  034545104X           0  Flesh Tones: A Novel     60\n",
              "1       2313  034545104X           5  Flesh Tones: A Novel     60\n",
              "2       6543  034545104X           0  Flesh Tones: A Novel     60\n",
              "3       8680  034545104X           5  Flesh Tones: A Novel     60\n",
              "4      10314  034545104X           9  Flesh Tones: A Novel     60\n",
              "..       ...         ...         ...                   ...    ...\n",
              "222    43842  038550120X           0       A Painted House    838\n",
              "223    44963  038550120X           0       A Painted House    838\n",
              "224    49683  038550120X           0       A Painted House    838\n",
              "225    53174  038550120X           0       A Painted House    838\n",
              "226    53220  038550120X           8       A Painted House    838\n",
              "\n",
              "[220 rows x 5 columns]"
            ]
          },
          "metadata": {
            "tags": []
          },
          "execution_count": 135
        }
      ]
    },
    {
      "cell_type": "code",
      "metadata": {
        "id": "YBneq2hDwdZg",
        "colab": {
          "base_uri": "https://localhost:8080/"
        },
        "outputId": "e2bba789-b194-40a4-d738-b13ed45100c9"
      },
      "source": [
        "data3.shape"
      ],
      "execution_count": 136,
      "outputs": [
        {
          "output_type": "execute_result",
          "data": {
            "text/plain": [
              "(1031136, 5)"
            ]
          },
          "metadata": {
            "tags": []
          },
          "execution_count": 136
        }
      ]
    },
    {
      "cell_type": "code",
      "metadata": {
        "id": "8UoOXasMwiac",
        "colab": {
          "base_uri": "https://localhost:8080/"
        },
        "outputId": "ca0a9af4-0704-4ca2-aa75-fe8d8e3a3ac0"
      },
      "source": [
        "data4.shape"
      ],
      "execution_count": 137,
      "outputs": [
        {
          "output_type": "execute_result",
          "data": {
            "text/plain": [
              "(288740, 5)"
            ]
          },
          "metadata": {
            "tags": []
          },
          "execution_count": 137
        }
      ]
    },
    {
      "cell_type": "code",
      "metadata": {
        "id": "JkBhJNhTwki5",
        "colab": {
          "base_uri": "https://localhost:8080/"
        },
        "outputId": "875559d4-6d3a-4e22-8394-0d85621b13d5"
      },
      "source": [
        "from scipy.sparse import csr_matrix\r\n",
        "data4 = data4.drop_duplicates(['user_id', 'book_title'])\r\n",
        "data4_pivot = data4.pivot(index = 'book_title', columns = 'user_id', values = 'bookRating').fillna(0)\r\n",
        "data_matrix = csr_matrix(data4_pivot.values)\r\n",
        "data4_pivot.shape"
      ],
      "execution_count": 138,
      "outputs": [
        {
          "output_type": "execute_result",
          "data": {
            "text/plain": [
              "(2444, 47994)"
            ]
          },
          "metadata": {
            "tags": []
          },
          "execution_count": 138
        }
      ]
    },
    {
      "cell_type": "code",
      "metadata": {
        "id": "yaYzT1QO0pqw",
        "colab": {
          "base_uri": "https://localhost:8080/"
        },
        "outputId": "751eea9b-18a4-4a23-d94a-a5c5da5541be"
      },
      "source": [
        "from sklearn.neighbors import NearestNeighbors\r\n",
        "knn = NearestNeighbors(metric = 'cosine')\r\n",
        "knn.fit(data_matrix)"
      ],
      "execution_count": 139,
      "outputs": [
        {
          "output_type": "execute_result",
          "data": {
            "text/plain": [
              "NearestNeighbors(algorithm='auto', leaf_size=30, metric='cosine',\n",
              "                 metric_params=None, n_jobs=None, n_neighbors=5, p=2,\n",
              "                 radius=1.0)"
            ]
          },
          "metadata": {
            "tags": []
          },
          "execution_count": 139
        }
      ]
    },
    {
      "cell_type": "code",
      "metadata": {
        "colab": {
          "base_uri": "https://localhost:8080/"
        },
        "id": "CU5EKxBin1cp",
        "outputId": "edc8c401-abfe-46ef-8d82-22a3bf0b4af7"
      },
      "source": [
        "dict = {}\r\n",
        "for i in range(data_matrix.shape[0]):\r\n",
        "  dict[data4_pivot.index[i]] = i\r\n",
        "print(dict)"
      ],
      "execution_count": 140,
      "outputs": [
        {
          "output_type": "stream",
          "text": [
            "{'10 Lb. Penalty': 0, '16 Lighthouse Road': 1, '1984': 2, '1st to Die: A Novel': 3, '2010: Odyssey Two': 4, '204 Rosewood Lane': 5, '2061: Odyssey Three': 6, '24 Hours': 7, '2nd Chance': 8, '3rd Degree': 9, '4 Blondes': 10, '50 Simple Things You Can Do to Save the Earth': 11, '84 Charing Cross Road': 12, 'A 2nd Helping of Chicken Soup for the Soul (Chicken Soup for the Soul Series (Paper))': 13, 'A Beautiful Mind: The Life of Mathematical Genius and Nobel Laureate John Nash': 14, 'A Bend in the Road': 15, 'A Case of Need': 16, 'A Child Called \\\\It\\\\\": One Child\\'s Courage to Survive\"': 17, 'A Civil Action': 18, 'A Clockwork Orange (Norton Paperback Fiction)': 19, 'A Cold Heart (Alex Delaware Novels (Paperback))': 20, 'A Cold Heart: An Alex Delaware Novel': 21, 'A Confederacy of Dunces': 22, 'A Confederacy of Dunces (Evergreen Book)': 23, 'A Cry In The Night': 24, \"A Cup of Tea (Ballantine Reader's Circle)\": 25, 'A Dangerous Fortune': 26, 'A Darkness More Than Night': 27, 'A Day Late and a Dollar Short': 28, 'A Density of Souls': 29, 'A Fine Balance': 30, 'A Game of Thrones (A Song of Ice and Fire, Book 1)': 31, 'A Girl Named Zippy: Growing Up Small in Mooreland Indiana (Today Show Book Club #3)': 32, 'A Great Deliverance': 33, 'A Heartbreaking Work Of Staggering Genius : A Memoir Based on a True Story': 34, 'A Heartbreaking Work of Staggering Genius': 35, 'A Is for Alibi (Kinsey Millhone Mysteries (Paperback))': 36, 'A Kiss of Shadows (Meredith Gentry Novels (Paperback))': 37, 'A Knight in Shining Armor': 38, 'A Lesson Before Dying (Vintage Contemporaries (Paperback))': 39, 'A Light in the Window (The Mitford Years)': 40, 'A Little Princess': 41, 'A Long Fatal Love Chase': 42, \"A Maiden's Grave\": 43, 'A Man Named Dave: A Story of Triumph and Forgiveness': 44, 'A Man in Full': 45, 'A Map of the World': 46, 'A Monk Swimming : A Memoir': 47, 'A Natural History of the Senses': 48, 'A New Song (Mitford Years (Paperback))': 49, 'A Night to Remember': 50, 'A Painted House': 51, 'A Passage to India': 52, 'A Patchwork Planet': 53, \"A Patchwork Planet (Ballantine Reader's Circle)\": 54, 'A Perfect Stranger': 55, 'A Pirate Looks at Fifty': 56, 'A Place Called Freedom': 57, 'A Place of Execution': 58, 'A Portrait of the Artist As a Young Man': 59, 'A Prayer for Owen Meany': 60, 'A RIVER RUNS THROUGH IT AND OTHER STORIES : AND OTHER STORIES': 61, \"A Rose For Her Grave &amp; Other True Cases (Ann Rule's Crime Files)\": 62, 'A Season Beyond a Kiss': 63, \"A Second Chicken Soup for the Woman's Soul (Chicken Soup for the Soul Series)\": 64, 'A Secret Affair': 65, 'A Separate Peace': 66, 'A Short Guide to a Happy Life': 67, 'A Simple Plan': 68, 'A Small Death in Lisbon': 69, 'A Son of the Circus': 70, 'A Spell for Chameleon (Xanth Novels (Paperback))': 71, 'A Sudden Change of Heart': 72, 'A Swiftly Tilting Planet': 73, 'A Theory of Relativity': 74, 'A Thief of Time (Joe Leaphorn/Jim Chee Novels)': 75, 'A Thin Dark Line (Mysteries &amp; Horror)': 76, \"A Thousand Acres (Ballantine Reader's Circle)\": 77, 'A Time to Kill': 78, 'A Traitor to Memory': 79, 'A Tree Grows in Brooklyn': 80, \"A Virtuous Woman (Oprah's Book Club (Paperback))\": 81, 'A Walk Across America': 82, 'A Walk in the Woods: Rediscovering America on the Appalachian Trail': 83, 'A Walk in the Woods: Rediscovering America on the Appalachian Trail (Official Guides to the Appalachian Trail)': 84, 'A Walk to Remember': 85, 'A Widow for One Year': 86, 'A Widow for One Year : A Novel': 87, 'A Wind in the Door': 88, 'A Wizard of Earthsea (Earthsea Trilogy, Book 1)': 89, 'A Woman Betrayed': 90, 'A Woman of Substance': 91, 'A Wrinkle In Time': 92, 'A Wrinkle in Time': 93, 'A Year in Provence': 94, 'A Yellow Raft in Blue Water': 95, 'AGE OF INNOCENCE (MOVIE TIE-IN)': 96, \"ANGELA'S ASHES\": 97, 'Abduction': 98, 'About Face': 99, 'About a Boy': 100, 'About a Boy (Movie Tie-In)': 101, 'Absolute Power': 102, 'Acceptable Risk': 103, 'Accident': 104, 'Accidental Tourist': 105, 'Accordion Crimes': 106, 'Acts of Malice': 107, \"Acts of War (Tom Clancy's Op Center (Paperback))\": 108, 'Adventures of Huckleberry Finn': 109, 'Affinity': 110, 'After All These Years': 111, 'After Dark': 112, 'After the Fire': 113, \"Ahab's Wife: Or, The Star-Gazer: A Novel\": 114, 'Airframe': 115, 'Alaska': 116, 'Alias Grace': 117, 'Alias Grace : A Novel': 118, 'Alive : The Story of the Andes Survivors (Avon Nonfiction)': 119, 'All Around the Town': 120, 'All Creatures Great and Small': 121, 'All He Ever Wanted': 122, 'All I Need Is You': 123, 'All I Need to Know I Learned from My Cat': 124, 'All I Really Need to Know': 125, 'All I Really Need to Know I Learned in Kindergarten: Uncommon Thoughts on Common Things': 126, 'All Quiet on the Western Front': 127, 'All That Glitters (Landry)': 128, 'All That Remains (Kay Scarpetta Mysteries (Paperback))': 129, 'All Things Wise and Wonderful': 130, 'All Through the Night (Holiday Classics)': 131, \"All over but the Shoutin'\": 132, 'All the Pretty Horses (The Border Trilogy, Vol 1)': 133, \"All the Queen's Men\": 134, 'Along Came a Spider (Alex Cross Novels)': 135, 'American Gods': 136, 'American Gods: A Novel': 137, 'American Psycho (Vintage Contemporaries)': 138, 'Amsterdam : A Novel': 139, 'Amy and Isabelle : A novel': 140, 'An Accidental Woman': 141, 'An Equal Music': 142, 'An Indecent Obsession': 143, 'An Instance of the Fingerpost': 144, 'And Ladies of the Club': 145, 'And Never Let Her Go : Thomas Capano: The Deadly Seducer': 146, 'And Then There Were None': 147, 'And Then There Were None : A Novel': 148, 'And Then You Die': 149, 'Angel': 150, 'Angel Falls': 151, \"Angela's Ashes (MMP) : A Memoir\": 152, \"Angela's Ashes: A Memoir\": 153, 'Angelas Ashes': 154, 'Angels': 155, 'Angels &amp; Demons': 156, 'Angels Flight (Detective Harry Bosch Mysteries)': 157, 'Angle of Repose (Contemporary American Fiction)': 158, 'Angry Housewives Eating Bon Bons': 159, \"Angry Housewives Eating Bon Bons (Ballantine Reader's Circle)\": 160, 'Angus, Thongs and Full-Frontal Snogging: Confessions of Georgia Nicolson': 161, \"Anil's Ghost (Vintage International)\": 162, 'Animal Dreams': 163, 'Animal Farm': 164, 'Animal Husbandry': 165, 'Anne Frank: The Diary of a Young Girl': 166, 'Anne of Avonlea (Anne of Green Gables Novels (Paperback))': 167, 'Anne of Green Gables': 168, 'Anne of Green Gables (Anne of Green Gables Novels (Paperback))': 169, 'Anne of Ingleside (Anne of Green Gables Novels (Paperback))': 170, 'Anne of Windy Poplars (Anne of Green Gables Novels (Paperback))': 171, 'Anne of the Island': 172, \"Anne's House of Dreams\": 173, 'Another City, Not My Own: A Novel in the Form of a Memoir': 174, 'Another Roadside Attraction': 175, 'Answered Prayers': 176, 'Anthem': 177, 'Apocalipstick': 178, 'Apollo 13 : Lost Moon': 179, 'Apollyon: The Destroyer Is Unleashed (Left Behind No. 5)': 180, 'Archangel': 181, \"Are You There God?  It's Me, Margaret\": 182, 'Artemis Fowl (Artemis Fowl, Book 1)': 183, 'As Nature Made Him: The Boy Who Was Raised As a Girl': 184, 'As the Crow Flies': 185, 'Ashes to Ashes': 186, 'Asking for Trouble: A Novel': 187, 'Assassins: Assignment: Jerusalem, Target: Antichrist (Left Behind No. 6)': 188, 'At Home in Mitford (The Mitford Years)': 189, 'At Risk': 190, 'Atlantis Found': 191, 'Atlas Shrugged': 192, 'Atonement : A Novel': 193, 'Atonement: A Novel': 194, 'Autobiography of a Face': 195, 'Awakening': 196, 'B Is for Burglar (Kinsey Millhone Mysteries (Paperback))': 197, 'BAG OF BONES : A NOVEL': 198, 'BODY FARM': 199, 'Babyhood': 200, 'Babyville': 201, \"Bachelor Brothers' Bed &amp; Breakfast\": 202, 'Back Roads': 203, \"Back When We Were Grownups : A Novel (Ballantine Reader's Circle)\": 204, 'Back When We Were Grownups: A Novel': 205, 'Bad Boy': 206, 'Bad Heir Day': 207, 'Bad Love (Alex Delaware Novels (Paperback))': 208, 'Bag of Bones': 209, 'Balzac and the Little Chinese Seamstress': 210, 'Balzac and the Little Chinese Seamstress : A Novel': 211, \"Band of Brothers : E Company, 506th Regiment, 101st Airborne from Normandy to Hitler's Eagle's Nest\": 212, 'Bare Bones : A Novel': 213, 'Barrel Fever : Stories and Essays (Barrel Fever)': 214, 'Basket Case': 215, 'Bastard Out of Carolina': 216, 'Battlefield Earth: A Saga of the Year 3000': 217, 'Baudolino': 218, 'Be Cool': 219, 'Beach House': 220, 'Beach Music': 221, 'Bearing an Hourglass (Incarnations of Immortality (Paperback))': 222, 'Beauty': 223, 'Bee Season: A Novel': 224, 'Before I Say Good-Bye': 225, 'Before I Say Good-Bye : A Novel': 226, \"Before Women Had Wings (Ballantine Reader's Circle)\": 227, 'Before and After': 228, 'Behind the Scenes at the Museum': 229, 'Behind the Scenes at the Museum : A Novel': 230, 'Bel Canto': 231, 'Bel Canto: A Novel': 232, 'Belinda': 233, 'Bell Jar': 234, 'Bellwether': 235, 'Beloved': 236, 'Beloved (Plume Contemporary Fiction)': 237, 'Beneath the Skin': 238, 'Betrayal in Death': 239, 'Between Friends': 240, 'Beyond Eden': 241, \"Big Cherry Holler: A Big Stone Gap Novel (Ballantine Reader's Circle)\": 242, 'Big Fish': 243, 'Big Stone Gap': 244, \"Big Stone Gap: A Novel (Ballantine Reader's Circle)\": 245, 'Big Trouble': 246, 'Billy': 247, 'Billy Straight : A Novel': 248, \"Bio-Strike (Tom Clancy's Power Plays (Paperback))\": 249, 'Bird by Bird: Some Instructions on Writing and Life': 250, 'Birdman': 251, 'Birds of Prey: A Novel of Suspense': 252, 'Birthright': 253, 'Bitter Harvest': 254, 'Bitter Sweet': 255, 'Bittersweet': 256, 'Black Friday': 257, 'Black Hawk Down (Movie Tie-in)': 258, 'Black Hawk Down: A Story of Modern War': 259, 'Black House': 260, 'Black Lightning': 261, 'Black Like Me': 262, 'Black Notice': 263, 'Black Sunday': 264, 'Black Water': 265, 'Black and Blue': 266, 'Black and Blue : A Novel': 267, 'Blackberry Wine': 268, 'Blackbird: A Childhood Lost and Found': 269, 'Blackout': 270, 'Blackwood Farm (Rice, Anne, Vampire Chronicles.)': 271, 'Bleachers': 272, 'Bless Me, Ultima': 273, 'Blessings': 274, 'Blessings : A Novel': 275, 'Blind Faith': 276, 'Blindness (Harvest Book)': 277, 'Blindsight': 278, 'Blindsighted': 279, 'Blood Lure': 280, 'Blood Orchid': 281, 'Blood Shot (V.I. Warshawski Novels (Paperback))': 282, 'Blood Work': 283, 'Blood and Gold (Rice, Anne, Vampire Chronicles.)': 284, 'Bloodline': 285, 'Bloodstream': 286, 'Bloodsucking Fiends: A Love Story': 287, 'Bloody Bones (Anita Blake Vampire Hunter (Paperback))': 288, 'Blow Fly: A Scarpetta Novel': 289, 'Blue Diary': 290, 'Blue Highways a Journey Into America': 291, 'Blue Moon': 292, 'Blue Shoe': 293, 'Body of Evidence': 294, 'Body of Evidence (Kay Scarpetta Mysteries (Paperback))': 295, 'Body of Lies': 296, 'Book Club': 297, 'Booked to Die (Cliff Janeway Novels (Paperback))': 298, 'Bookends : A Novel': 299, 'Border Music': 300, 'Born in Fire': 301, 'Born in Ice': 302, 'Born in Shame': 303, 'Bourne Identity': 304, \"Boy's Life\": 305, 'Brain Droppings': 306, 'Brave New World': 307, 'Brazen Virtue': 308, 'Breach of Promise': 309, 'Breakfast of Champions': 310, \"Breaking Point (Tom Clancy's Net Force, No. 4)\": 311, 'Breath, Eyes, Memory': 312, 'Breathing Lessons': 313, 'Briar Rose': 314, 'Brideshead Revisited': 315, 'Bridge to Terabithia': 316, 'Bridget Jones : The Edge of Reason': 317, \"Bridget Jones's Diary\": 318, 'Bridget Jones: The Edge of Reason': 319, 'Burn Factor': 320, 'Burn Marks (V.I. Warshawski Novels (Paperback))': 321, 'Butterfly (Orphans)': 322, 'By the Light of the Moon': 323, 'Bygones': 324, 'C Is for Corpse (Kinsey Millhone Mysteries (Paperback))': 325, \"CAT'S EYE\": 326, 'CHOCOLATE FOR A WOMANS SOUL : 77 STORIES TO FEED YOUR SPIRIT AND WARM YOUR HEART (Chocolate)': 327, 'CRY IN THE NIGHT, A': 328, 'Cabin': 329, 'Call of the Wild': 330, 'Can You Keep a Secret?': 331, 'Candide (Penguin Classics)': 332, 'Cane River': 333, \"Cane River (Oprah's Book Club (Paperback))\": 334, 'Cannery Row': 335, 'Capital Crimes': 336, 'Caribbean': 337, 'Carnal Innocence': 338, 'Carolina Moon': 339, 'Carrie': 340, 'Carter Beats the Devil': 341, 'Castles': 342, 'Cat &amp; Mouse (Alex Cross Novels)': 343, 'Cat and Mouse': 344, \"Cat's Cradle\": 345, \"Cat's Eye\": 346, 'Catch 22': 347, 'Catch Me If You Can: The True Story of a Real Fake': 348, 'Catering to Nobody': 349, 'Catherine, Called Birdy (Trophy Newbery)': 350, 'Cause Celeb': 351, 'Cause of Death': 352, 'Cavedweller': 353, 'Celestial Navigation': 354, 'Certain Prey': 355, 'Changes': 356, 'Chapterhouse Dune (Dune Chronicles, Book 6)': 357, 'Charade': 358, 'Charlie and the Chocolate Factory': 359, \"Charlotte's Web\": 360, \"Charlotte's Web (Trophy Newbery)\": 361, 'Charming Billy': 362, 'Charms for Easy Life': 363, 'Chasing Cezanne': 364, 'Chasing the Dime': 365, 'Cheaper by the Dozen': 366, 'Cheet (Plume Books)': 367, 'Chesapeake': 368, 'Chesapeake Blue (Quinn Brothers (Hardcover))': 369, 'Chicken Soup for the College Soul : Inspiring and Humorous Stories for College Students (Chicken Soup for the Soul)': 370, \"Chicken Soup for the Mother's Soul (Chicken Soup for the Soul Series (Paper))\": 371, \"Chicken Soup for the Pet Lover's Soul (Chicken Soup for the Soul)\": 372, 'Chicken Soup for the Soul (Chicken Soup for the Soul)': 373, 'Chicken Soup for the Teenage Soul (Chicken Soup for the Soul)': 374, 'Chicken Soup for the Teenage Soul II (Chicken Soup for the Soul Series)': 375, \"Chicken Soup for the Woman's Soul (Chicken Soup for the Soul Series (Paper))\": 376, 'Child of My Heart': 377, \"Childhood's End\": 378, 'Children of Dune (Dune Chronicles, Book 3)': 379, 'Chocolat': 380, 'Choke': 381, 'Chopping Spree': 382, 'Chosen Prey': 383, 'Christine': 384, 'Christmas Box (Christmas Box Trilogy)': 385, 'Christy': 386, 'Chromosome 6': 387, 'Circle of Friends': 388, 'Circle of Three: A Novel': 389, 'Circus of the Damned (Anita Blake Vampire Hunter (Paperback))': 390, 'City of Bones': 391, 'City of Golden Shadow (Otherland, Volume 1)': 392, 'City of Light': 393, 'Clan of the Cave Bear': 394, 'Claws and Effect': 395, 'Clear and Present Danger': 396, 'Clear and Present Danger (Jack Ryan Novels)': 397, 'Cloud Nine': 398, 'Club Dead (Southern Vampire Mysteries)': 399, 'Coast Road: A Novel': 400, 'Coastliners : A Novel': 401, 'Code to Zero': 402, 'Cold Blooded': 403, 'Cold Case': 404, 'Cold Fire': 405, 'Cold Mountain': 406, 'Cold Mountain : A Novel': 407, 'Cold Paradise (Stone Barrington Novels (Paperback))': 408, 'Cold Sassy Tree': 409, 'Colony': 410, 'Color Purple': 411, 'Come to Grief': 412, 'Comeback': 413, 'Coming Home': 414, 'Communion : A True Story': 415, 'Compelling Evidence': 416, 'Confessions of a Shopaholic': 417, 'Confessions of a Shopaholic (Summer Display Opportunity)': 418, 'Confessions of a Sociopathic Social Climber : The Katya Livingston Chronicles (Katya Livingston Chronicles (Hardcover))': 419, 'Confessions of an Ugly Stepsister : A Novel': 420, 'Congo': 421, 'Considering Kate (The Stanislaskis) (Silhouette Special Edition)': 422, 'Contact': 423, 'Contagion': 424, 'Conversations with God : An Uncommon Dialogue (Book 1)': 425, 'Coraline': 426, \"Cordina's Crown Jewel\": 427, \"Corelli's Mandolin : A Novel\": 428, 'Couplehood': 429, 'Courting Trouble': 430, 'Coyote Blue': 431, 'Coyote Waits (Joe Leaphorn/Jim Chee Novels)': 432, 'Cradle and All': 433, 'Crazy for You': 434, 'Crazy in Alabama': 435, 'Creature': 436, 'Creed for the Third Millennium': 437, 'Critical Judgment': 438, 'Critical Mass': 439, 'Crocodile on the Sandbank': 440, 'Crooked Little Heart': 441, 'Crossings': 442, 'Crow Lake (Today Show Book Club #7)': 443, 'Cruel &amp; Unusual (Kay Scarpetta Mysteries (Paperback))': 444, 'Cry Wolf': 445, 'Cry to Heaven': 446, \"Cry, the Beloved Country (Oprah's Book Club)\": 447, 'Cryptonomicon': 448, 'Crystal Line': 449, 'Cuba Libre': 450, 'Cujo': 451, \"Cybernation (Tom Clancy's Net Force, No. 6)\": 452, 'D Is for Deadbeat (Kinsey Millhone Mysteries (Paperback))': 453, 'DAUGHTER OF TIME': 454, 'DEAD BY SUNSET : DEAD BY SUNSET': 455, 'Daddy': 456, \"Daddy's Little Girl\": 457, 'Daisy Fay and the Miracle Man': 458, 'Dance Hall of the Dead (Joe Leaphorn Novels)': 459, 'Dance upon the Air (Three Sisters Island Trilogy)': 460, 'Dances With Wolves': 461, 'Dandelion Wine (Grand Master Editions)': 462, 'Dangerous': 463, 'Dangerous to Know': 464, 'Daring to Dream': 465, 'Dark Angel': 466, 'Dark Horse': 467, 'Dark Lady': 468, 'Dark Paradise': 469, 'Dark Rivers of the Heart': 470, 'Dark Water (Mira Romantic Suspense)': 471, 'Darkest Hour (Cutler)': 472, 'Darkfall': 473, 'Darkness': 474, \"Darwin's Radio\": 475, 'Das Parfum: Die Geschichte Eines Morders': 476, 'Dating Big Bird': 477, 'Dating Game': 478, 'Dating Without Novocaine (Red Dress Ink)': 479, 'Daughter of Fortune': 480, \"Daughter of Fortune : A Novel (Oprah's Book Club (Hardcover))\": 481, 'Daughter of Fortune: A Novel': 482, 'Dave Barry in Cyberspace': 483, \"Dave Barry's Greatest Hits\": 484, 'Dawn (Cutler)': 485, 'Day of Confession': 486, 'Daybreak': 487, 'Dazzle': 488, 'Dead Aim': 489, 'Dead Even': 490, 'Dead Famous': 491, 'Dead Ringer': 492, 'Dead Run': 493, 'Dead Sleep': 494, 'Dead Until Dark (Southern Vampire Mysteries)': 495, 'Dead in the Water': 496, 'Deadly Decisions': 497, 'Death du Jour': 498, 'Death in Holy Orders : An Adam Dalgliesh Mystery': 499, 'Death of A Salesman': 500, 'Debt of Honor': 501, 'Debt of Honor (Jack Ryan Novels)': 502, 'Deception Point': 503, 'Deception on His Mind': 504, 'Decider': 505, 'Deck the Halls': 506, 'Deck the Halls (Holiday Classics)': 507, 'Deep South': 508, 'Degree of Guilt': 509, 'Deja Dead': 510, 'Demolition Angel': 511, 'Demon Seed': 512, 'Der Vorleser': 513, 'Desecration: Antichrist Takes the Throne (Left Behind No. 9)': 514, 'Desert Solitaire': 515, 'Desperation': 516, 'Detective: A Novel': 517, 'Devices and Desires': 518, \"Devil's Waltz (Alex Delaware Novels (Paperback))\": 519, 'Diary of a Mad Bride (Summer Display Opportunity)': 520, 'Different Seasons': 521, 'Different Seasons (Signet)': 522, 'Digital Fortress : A Thriller': 523, 'Dinner at the Homesick Restaurant': 524, \"Dirk Gently's Holistic Detective Agency\": 525, 'Dirty Jokes and Beer : Stories of the Unrefined': 526, 'Disclosure': 527, 'Disgrace': 528, 'Disobedience: A Novel': 529, 'Distant Shores': 530, 'Divine Secrets of the Ya-Ya Sisterhood : A Novel': 531, 'Divine Secrets of the Ya-Ya Sisterhood: A Novel': 532, 'Dog Handling': 533, 'Doing Good': 534, 'Dolores Claiborne': 535, \"Don't Let's Go to the Dogs Tonight : An African Childhood\": 536, \"Don't Stand Too Close to a Naked Man\": 537, \"Don't Sweat the Small Stuff and It's All Small Stuff : Simple Ways to Keep the Little Things from Taking Over Your Life (Don't Sweat the Small Stuff Series)\": 538, 'Doomsday Book': 539, 'Downtown': 540, \"Dr. Atkins' New Diet Revolution\": 541, 'Dr. Death (Alex Delaware Novels (Paperback))': 542, 'Dr. Death: A Novel': 543, 'Dracula': 544, 'Dracula (Signet Classics (Paperback))': 545, 'Dragon Tears': 546, 'Dragonflight (Dragonriders of Pern Trilogy (Paperback))': 547, 'Dragonfly in Amber': 548, 'Dragons of Autumn Twilight (Dragonlance Chronicles, Vol 1)': 549, 'Dragonsdawn': 550, 'Dream Country': 551, 'Dreamcatcher': 552, 'Driving Force': 553, 'Drowning Ruth': 554, \"Drowning Ruth (Oprah's Book Club)\": 555, 'Drums of Autumn': 556, \"Dude, Where's My Country?\": 557, 'Dune': 558, 'Dune (Remembering Tomorrow)': 559, 'Dune Messiah (Dune Chronicles, Book 2)': 560, 'Dust to Dust': 561, 'Dying for Chocolate (Culinary Mysteries (Paperback))': 562, 'Dying to Please': 563, 'E Is for Evidence: A Kinsey Millhone Mystery (Kinsey Millhone Mysteries (Paperback))': 564, 'EVERYTHING SHE EVER WANTED': 565, 'East of Eden': 566, \"East of Eden (Oprah's Book Club)\": 567, 'East of the Mountains': 568, 'East of the Mountains (Vintage Contemporaries (Paperback))': 569, 'Easy Prey': 570, 'Eaters of the Dead': 571, 'Eats, Shoots &amp; Leaves: The Zero Tolerance Approach to Punctuation': 572, 'Echoes': 573, 'Eden Close': 574, \"Einstein's Dreams\": 575, 'Eleventh Hour: An FBI Thriller (FBI Thriller (Jove Paperback))': 576, 'Elfstones of Shannara': 577, 'Ella Minnow Pea: A Novel in Letters': 578, 'Ellen Foster': 579, 'Embraced by the Light': 580, 'Emma': 581, 'Empire Falls': 582, 'Empty Promises': 583, \"Enchanters' End Game (The Belgariad, Book 5)\": 584, 'Enchantment': 585, 'Endangered Species (Anna Pigeon Mysteries (Paperback))': 586, \"Ender's Game (Ender Wiggins Saga (Paperback))\": 587, \"Ender's Shadow\": 588, 'Enemy Women: A Novel': 589, 'Engaging Men (Red Dress Ink (Paperback))': 590, 'Engaging The Enemy': 591, 'Envy': 592, 'Eragon (Inheritance, Book 1)': 593, 'Escape the Night': 594, 'Eternity': 595, 'Eva Luna': 596, 'Even Cowgirls Get the Blues': 597, 'Evening': 598, 'Evening Class': 599, 'Every Breath You Take : A True Story of Obsession, Revenge, and Murder': 600, 'Every Living Thing': 601, 'Everything Is Illuminated : A Novel': 602, \"Everything's Eventual : 14 Dark Tales\": 603, 'Exclusive': 604, 'Executive Orders': 605, 'Executive Orders (Jack Ryan Novels)': 606, 'Exit to Eden': 607, 'Exodus': 608, 'Extreme Measures': 609, 'Eye of the Beholder': 610, 'Eyes of Prey': 611, 'Eyes of a Child': 612, 'Eyes of the Dragon': 613, 'F Is for Fugitive (Kinsey Millhone Mysteries (Paperback))': 614, 'FIRST WIVES CLUB': 615, 'FLOOD TIDE': 616, 'FOREVER : A Novel of Good and Evil, Love and Hope': 617, 'FORREST GUMP (Movie Tie in)': 618, \"FROM POTTER'S FIELD\": 619, 'Face the Fire (Three Sisters Island Trilogy)': 620, 'Fahrenheit 451': 621, 'Faking It': 622, 'Fall On Your Knees (Oprah #45)': 623, 'Fall on Your Knees': 624, 'Fallen Hearts': 625, 'Falling Angels': 626, 'Falling Leaves Brit Edition': 627, 'Falling Leaves: The True Story of an Unwanted Chinese Daughter': 628, 'False Memory': 629, 'False Pretenses': 630, 'Family Album': 631, 'Family Blessings': 632, 'Family Honor': 633, 'Family: The Ties That Bind and Gag': 634, 'Farewell To Arms': 635, 'Farewell to Manzanar: A True Story of Japanese American Experience During and  After the World War II Internment': 636, 'Farm Fatale: A Comedy of Country Manors': 637, 'Fast Food Nation: The Dark Side of the All-American Meal': 638, 'Fast Women': 639, 'Fat Tuesday': 640, 'Fatal': 641, 'Fatal Cure': 642, 'Fatal Voyage': 643, 'Fatherhood': 644, 'Fault Lines': 645, 'Fear Nothing': 646, 'Fear and Loathing in Las Vegas : A Savage Journey to the Heart of the American Dream': 647, 'Feast of All Saints': 648, \"Felicia's Journey\": 649, 'Female Intelligence': 650, 'Fever': 651, 'Fever Pitch': 652, 'Field of Thirteen': 653, 'Fierce Invalids Home from Hot Climates': 654, 'Fight Club': 655, 'Filthy Rich': 656, 'Final Appeal': 657, 'Final Target': 658, 'Find Me': 659, 'Finding Moon': 660, 'Finding the Dream': 661, 'Fine Things': 662, 'Fingersmith': 663, 'Fire Ice: A Novel from the Numa Files (Kurt Austin Adventures (Paperback))': 664, 'Firebird': 665, 'Firefly Beach': 666, 'Firefly Summer': 667, 'Firestarter': 668, 'Firestorm (Anna Pigeon Mysteries (Paperback))': 669, 'First Offense': 670, 'Fishbowl (Red Dress Ink (Paperback))': 671, 'Five Days in Paris': 672, 'Five Quarters of the Orange': 673, 'Flashback': 674, 'Flatland: A Romance of Many Dimensions (Dover Thrift Editions)': 675, 'Flesh Tones: A Novel': 676, 'Flesh and Blood': 677, 'Flight Lessons': 678, 'Flight of the Old Dog': 679, 'Flirting with Pete : A Novel': 680, 'Flowers In The Attic (Dollanganger)': 681, 'Flowers for Algernon (Bantam Classic)': 682, 'Fluke : Or, I Know Why the Winged Whale Sings': 683, 'Follow the Stars Home': 684, 'For Better, for Worse: A Novel': 685, 'For Love': 686, 'For the Roses': 687, 'For the Sake of Elena': 688, 'Forbidden Fruit': 689, 'Forever and Always': 690, 'Forever... : A Novel of Good and Evil, Love and Hope': 691, \"Fortune's Hand\": 692, \"Fortune's Rocks : A Novel\": 693, \"Fortune's Rocks: A Novel\": 694, \"Foucault's Pendulum\": 695, 'Foundation (Foundation Novels (Paperback))': 696, 'Four Blind Mice': 697, 'Four Blondes': 698, 'Four Past Midnight': 699, 'Four To Score (A Stephanie Plum Novel)': 700, 'Fourplay: A Novel': 701, 'Fourth Procedure': 702, 'Frankenstein': 703, 'Frankenstein (Changing Our World)': 704, 'Franny and Zooey': 705, 'Free': 706, 'Free Fall': 707, 'French Silk': 708, 'Friday': 709, 'Fried Green Tomatoes at the Whistle Stop Cafe': 710, \"From Potter's Field\": 711, 'From a Buick 8': 712, 'From a Buick 8 : A Novel': 713, 'From the Corner of His Eye': 714, 'From the Heart: Tonight and Always/A Matter of Choice/Endings and Beginnings': 715, 'From the Mixed-Up Files of Mrs. Basil E. Frankweiler': 716, \"Full Blast (Janet Evanovich's Full Series)\": 717, 'Full Circle': 718, \"Full House (Janet Evanovich's Full Series)\": 719, \"Full Speed (Janet Evanovich's Full Series)\": 720, \"Full Tilt (Janet Evanovich's Full Series)\": 721, 'G Is for Gumshoe (Kinsey Millhone Mysteries (Paperback))': 722, 'GARDEN OF SHADOWS (Dollanger Saga (Paperback))': 723, 'Gai-Jin: A Novel of Japan': 724, 'Galapagos': 725, \"Galileo's Daughter: A Historical Memoir of Science, Faith, and Love\": 726, 'Gap Creek: A Novel': 727, 'Gap Creek: The Story Of A Marriage': 728, 'Gap Creek: The Story of a Marriage': 729, 'Gates of Paradise': 730, 'Geek Love': 731, 'Generation X: Tales for an Accelerated Culture': 732, 'Genuine Lies': 733, \"Gerald's Game\": 734, 'Get Shorty': 735, 'Getting Over It': 736, 'Getting Rid Of Bradley': 737, 'Ghost Moon': 738, 'Gift from the Sea': 739, 'Girl With a Pearl Earring': 740, 'Girl in Hyacinth Blue': 741, 'Girl with a Pearl Earring': 742, 'Girl, Interrupted': 743, 'Girlfriend in a Coma': 744, 'Girlfriends: Invisible Bonds, Enduring Ties': 745, 'Girls Night': 746, \"Girls' Poker Night\": 747, 'Glory in Death': 748, 'Go Ask Alice': 749, 'God Emperor of Dune (Dune Chronicles, Book 4)': 750, 'God Save the Sweet Potato Queens': 751, 'Godplayer': 752, 'Going Home': 753, 'Gone But Not Forgotten': 754, 'Gone For Good': 755, 'Gone for Good': 756, 'Gone with the Wind': 757, 'Good Harbor: A Novel': 758, 'Good Omens': 759, 'Good in Bed': 760, 'Gorky Park': 761, 'Grand Avenue': 762, 'Granny Dan': 763, 'Grave Secrets': 764, 'Grave Secrets (Temperance Brennan Novel (Hardcover))': 765, 'Gravity : A Novel of Medical Suspense': 766, 'Great Expectations': 767, 'Grendel': 768, 'Griffin &amp; Sabine: An Extraordinary Correspondence': 769, 'Ground Zero and Beyond': 770, 'Growing Pains of Adrian Mole': 771, 'Growing Up': 772, 'Guardian': 773, 'Guardian Angel': 774, 'Guilt': 775, 'Guilty Pleasures (Anita Blake Vampire Hunter (Paperback))': 776, 'Guilty as Sin': 777, 'Guns, Germs, and Steel: The Fates of Human Societies': 778, 'H Is for Homicide (Kinsey Millhone Mysteries (Paperback))': 779, 'Half Asleep in Frog Pajamas': 780, 'Hamlet': 781, \"Hanna's Daughters (Ballantine Reader's Circle)\": 782, 'Hannibal': 783, 'Hard Eight : A Stephanie Plum Novel (A Stephanie Plum Novel)': 784, 'Hard Time (V.I. Warshawski Novels (Paperback))': 785, 'Harmful Intent': 786, 'Harriet the Spy': 787, 'Harry Potter and the Chamber of Secrets (Book 2)': 788, 'Harry Potter and the Goblet of Fire (Book 4)': 789, 'Harry Potter and the Order of the Phoenix (Book 5)': 790, 'Harry Potter and the Prisoner of Azkaban (Book 3)': 791, \"Harry Potter and the Sorcerer's Stone (Book 1)\": 792, \"Harry Potter and the Sorcerer's Stone (Harry Potter (Paperback))\": 793, 'Harvest': 794, 'Hatchet': 795, 'Haunted': 796, \"Having Our Say : The Delany Sisters' First 100 Years\": 797, 'Hawaii': 798, \"He Sees You When You're Sleeping : A Novel\": 799, 'Heart Song (Logan)': 800, 'Heart of a Warrior': 801, 'Heart of the Sea (Irish Trilogy)': 802, 'Heartbeat': 803, 'Heartbreaker': 804, 'Hearts In Atlantis': 805, 'Hearts In Atlantis : New Fiction': 806, 'Hearts in Atlantis': 807, 'Heaven': 808, 'Heaven and Earth (Three Sisters Island Trilogy)': 809, 'Heir to the Empire (Star Wars: The Thrawn Trilogy, Vol. 1)': 810, 'Hello, Darkness': 811, 'Hemlock Bay': 812, \"Her Father's House\": 813, 'Here on Earth': 814, \"Here on Earth (Oprah's Book Club)\": 815, \"Hidden Agendas (Tom Clancy's Net Force, No. 2)\": 816, 'Hidden Jewel (Landry)': 817, 'Hidden Riches': 818, 'Hide &amp; Seek': 819, 'Hideaway': 820, 'Hiding Place': 821, 'Hiding in the Shadows (Shadows Trilogy (Paperback))': 822, 'High Fidelity': 823, 'High Five (A Stephanie Plum Novel)': 824, 'High Maintenance': 825, 'High Tide': 826, 'Hill Towns': 827, 'Hiroshima': 828, \"Hitchhikers's Guide to the Galaxy\": 829, 'Hocus Pocus': 830, 'Holding the Dream (Dream Trilogy)': 831, 'Holes': 832, 'Holes (Yearling Newbery)': 833, 'Holidays on Ice : Stories': 834, 'Home Song': 835, 'Home for the Holidays': 836, 'Homecoming': 837, 'Homeport': 838, 'Honest Illusions': 839, 'Honor Among Thieves': 840, 'Hornet Flight': 841, \"Hornet's Nest\": 842, 'Horse Whisperer': 843, 'Hot Ice': 844, 'Hot Six : A Stephanie Plum Novel (A Stephanie Plum Novel)': 845, 'House Atreides (Dune: House Trilogy, Book 1)': 846, 'House of Leaves': 847, 'House of Sand and Fog': 848, 'Housekeeping': 849, 'How Stella Got Her Groove Back': 850, 'How To Win Friends And Influence People': 851, 'How the Garcia Girls Lost Their Accents (Plume Contemporary Fiction)': 852, 'How to Be Good': 853, 'How to Eat Fried Worms': 854, 'How to Make an American Quilt': 855, 'Howards End': 856, 'Hunting Badger (Joe Leaphorn/Jim Chee Novels)': 857, 'Hunting Season (Anna Pigeon Novels (Paperback))': 858, 'Hurricane Bay': 859, 'Hush': 860, 'I Capture the Castle': 861, \"I Don't Know How She Does It\": 862, \"I Don't Know How She Does It: The Life of Kate Reddy, Working Mother\": 863, 'I Heard the Owl Call My Name': 864, 'I Is for Innocent': 865, 'I Know This Much Is True': 866, \"I Know This Much Is True (Oprah's Book Club)\": 867, 'I Know Why the Caged Bird Sings': 868, 'I Never Promised You a Rose Garden': 869, \"I'll Be Seeing You\": 870, \"I'll Take Manhattan\": 871, \"I'm Not Really Here\": 872, \"I'm a Stranger Here Myself: Notes on Returning to America After 20 Years Away\": 873, 'I, Robot': 874, 'Iacocca: An Autobiography': 875, \"Ice Bound: A Doctor's Incredible Battle for Survival at the South Pole\": 876, 'Icebound': 877, 'Iced': 878, 'Icy Sparks': 879, 'Idoru': 880, \"If I'd Killed Him When I Met Him (Elizabeth MacPherson Novels (Paperback))\": 881, 'If Looks Could Kill': 882, 'If Only It Were True': 883, 'If Tomorrow Comes': 884, 'Ill Wind (Anna Pigeon Mysteries (Paperback))': 885, 'Illuminati.': 886, 'Illusions': 887, 'Illusions: The Adventures of a Reluctant Messiah': 888, 'Imajica': 889, 'Imitation in Death (Eve Dallas Mysteries (Paperback))': 890, 'Impulse': 891, 'In Cold Blood (Vintage International)': 892, 'In Her Shoes : A Novel': 893, 'In Pursuit of the Proper Sinner': 894, 'In a Sunburned Country': 895, 'In the Heart of the Sea: The Tragedy of the Whaleship Essex': 896, \"In the Kitchen With Rosie: Oprah's Favorite Recipes\": 897, 'In the Lake of the Woods': 898, 'In the Presence of the Enemy': 899, 'Inca Gold (Clive Cussler)': 900, 'Inconceivable': 901, 'Inner Harbor (Quinn Brothers (Paperback))': 902, 'Insomnia': 903, 'Intensity': 904, 'Interest of Justice': 905, 'Interpreter of Maladies': 906, 'Interview with the Vampire': 907, 'Into Thin Air : A Personal Account of the Mount Everest Disaster': 908, 'Into Thin Air : A Personal Account of the Mt. Everest Disaster': 909, 'Into the Forest': 910, 'Into the Wild': 911, 'Invasion': 912, 'Invasion of Privacy': 913, 'Invisible Man': 914, 'Invisible Monsters': 915, 'Irish Hearts': 916, 'Irish Rebel (Special Edition, 1328)': 917, 'Ironweed': 918, 'Irresistible Forces': 919, 'Ishmael: An Adventure of the Mind and Spirit': 920, 'Island': 921, 'Island of the Blue Dolphins': 922, 'Island of the Blue Dolphins (Laurel Leaf Books)': 923, 'Isle of Dogs': 924, 'It': 925, 'It Was on Fire When I Lay Down on It': 926, \"It's Always Something\": 927, \"It's My F---ing Birthday : A Novel\": 928, \"It's Not About the Bike: My Journey Back to Life\": 929, 'J Is for Judgment': 930, 'Jack &amp; Jill (Alex Cross Novels)': 931, 'Jackdaws': 932, 'Jacob Have I Loved': 933, 'James and the Giant Peach': 934, 'Jane Eyre': 935, 'Jane Eyre (Bantam Classics)': 936, 'Jane Eyre (Penguin Classics)': 937, 'Jazz (Plume Contemporary Fiction)': 938, 'Jemima J': 939, 'Jemima J: A Novel About Ugly Ducklings and Swans': 940, 'Jennifer Government : A Novel': 941, 'Jewel': 942, \"Jewel (Oprah's Book Club)\": 943, 'Jewels': 944, 'Jewels of the Sun (Irish Trilogy)': 945, 'Jitterbug Perfume': 946, 'Job: A Comedy of Justice': 947, 'Johnny Angel': 948, 'Jonathan Livingston Seagull': 949, 'Journey': 950, 'Judgment in Death': 951, 'Julie and Romeo: A Novel': 952, 'Julie of the Wolves (Julie of the Wolves)': 953, \"Jupiter's Bones : A Peter Decker/Rina Lazarus Novel (Peter Decker &amp; Rina Lazarus Novels (Paperback))\": 954, 'Jurassic Park': 955, 'K Is for Killer (Kinsey Millhone Mysteries (Paperback))': 956, 'Kaleidoscope': 957, 'Kane &amp; Abel': 958, 'Keeping Faith : A Novel': 959, 'Kentucky Rich': 960, 'Key of Knowledge (Key Trilogy (Paperback))': 961, 'Key of Light (Key Trilogy (Paperback))': 962, 'Key of Valor (Roberts, Nora. Key Trilogy, 3.)': 963, 'Kill and Tell': 964, 'Killer Pancake': 965, 'Killing Time': 966, 'Killjoy': 967, 'King Rat': 968, 'Kiss of the Bees: A Novel of Suspense': 969, 'Kiss the Girls': 970, 'Kitchen': 971, 'Kitchen Confidential: Adventures in the Culinary Underbelly': 972, 'Koko': 973, \"Kushiel's Dart\": 974, 'L Is for Lawless': 975, 'L Is for Lawless (Kinsey Millhone Mysteries)': 976, 'L.A. Requiem': 977, 'LONESOME DOVE': 978, 'Ladder of Years': 979, 'Lady Oracle': 980, 'Lady of Avalon': 981, 'Lake News': 982, 'Lake Wobegon Days': 983, 'Lake Wobegon days': 984, \"Lamb : The Gospel According to Biff, Christ's Childhood Pal\": 985, \"Larry's Party\": 986, 'Lasher': 987, 'Lasher: Lives of the Mayfair Witches (Lives of the Mayfair Witches)': 988, 'Last Chance Saloon': 989, \"Last Dance, Last Chance (Ann Rule's Crime Files)\": 990, 'Last Man Standing': 991, 'Last Orders': 992, 'Lawless': 993, 'Le Divorce (William Abrahams Book)': 994, 'Le Mariage': 995, 'Leap of Faith': 996, \"Left Behind: A Novel of the Earth's Last Days (Left Behind #1)\": 997, \"Left Behind: A Novel of the Earth's Last Days (Left Behind No. 1)\": 998, 'Legacy': 999, 'Legacy of Silence': 1000, 'Legal Tender': 1001, 'Legend': 1002, 'Less Of A Stranger (Silhouette Single Title)': 1003, 'Let Me Call You Sweetheart': 1004, 'Letters from a Nut': 1005, 'Lie Down With Lions': 1006, 'Lies and the Lying Liars Who Tell Them: A Fair and Balanced Look at the Right': 1007, 'Life Before Man': 1008, 'Life Strategies: Doing What Works, Doing What Matters': 1009, 'Life Support': 1010, 'Life of Pi': 1011, \"Life's Little Instruction Book (Life's Little Instruction Books (Paperback))\": 1012, 'Life,the Universe and Everything': 1013, 'Light a Penny Candle': 1014, 'Lightning': 1015, 'Like Water for Chocolate : A Novel in Monthly Installments with Recipes, Romances, and Home Remedies': 1016, 'Like Water for Chocolate: A Novel in Monthly Installments With Recipes, Romances and Home Remedies': 1017, 'Like Water for Chocolate: A Novel in Monthly Installments, With Recipes, Romances, and Home Remedies': 1018, 'Lily White': 1019, 'Lion, the Witch and the Wardrobe': 1020, 'Little Altars Everywhere': 1021, 'Little Altars Everywhere: A Novel': 1022, 'Little Drummer Girl': 1023, 'Little House in the Big Woods': 1024, 'Little House on the Prairie': 1025, 'Little Women': 1026, 'Living Dead in Dallas (Southern Vampire Mysteries)': 1027, 'Living History': 1028, 'Local Girls': 1029, 'Lolita (Vintage International)': 1030, 'London : The Novel': 1031, 'London Transports': 1032, 'Lone Eagle': 1033, 'Lonesome Dove': 1034, 'Long After Midnight': 1035, 'Long Dark Tea Time of the Soul': 1036, 'Long Time No See': 1037, 'Longshot': 1038, 'Looking Back': 1039, 'Lord of the Flies': 1040, 'Los Alamos: A Novel': 1041, 'Lost': 1042, 'Lost Girls': 1043, 'Lost Light': 1044, 'Lost Souls': 1045, 'Lost and Found': 1046, 'Lost in a Good Book: A Thursday Next Novel': 1047, 'Love': 1048, 'Love Medicine': 1049, 'Love in Another Town': 1050, 'Love in the Time of Cholera': 1051, 'Love in the Time of Cholera (Penguin Great Books of the 20th Century)': 1052, 'Lovers': 1053, 'Loves Music, Loves to Dance': 1054, 'Low Country': 1055, 'Lucky': 1056, 'Lucky : A Memoir': 1057, 'Lucky Man: A Memoir': 1058, 'Lucky You': 1059, \"Lucky's Lady\": 1060, 'Lucy Sullivan Is Getting Married': 1061, 'Lullaby: A Novel': 1062, 'Lying Awake': 1063, 'M Is for Malice': 1064, 'M Is for Malice (Kinsey Millhone Mysteries (Hardcover))': 1065, 'MOONLIGHT BECOMES YOU': 1066, 'MY SWEET AUDRINA': 1067, 'Macbeth': 1068, 'Macgregor Brides (Macgregors)': 1069, 'Macgregor Grooms (Macgregors)': 1070, 'Madame Bovary': 1071, 'Magic Kingdom for Sale - Sold! (Magic Kingdom of Landover)': 1072, 'Make the Connection: Ten Steps to a Better Body and a Better Life': 1073, 'Malice': 1074, 'Mama Makes Up Her Mind: And Other Dangers of Southern Living': 1075, 'Man From St Petersburg': 1076, 'Man and Boy: A Novel': 1077, 'Manhattan Hunt Club': 1078, 'Maniac Magee': 1079, 'Marrying Mom': 1080, 'Masquerade': 1081, 'Master of the Game': 1082, 'Matilda': 1083, \"McNally's Secret (Archy McNally Novels (Paperback))\": 1084, 'Me Talk Pretty One Day': 1085, 'Me: Stories of My Life': 1086, 'Melody (Logan)': 1087, 'Memnoch the Devil (Vampire Chronicles, No 5)': 1088, 'Memnoch the Devil : The Vampire Chronicles (Vampire Chronicles)': 1089, 'Memoirs of a Geisha': 1090, 'Memoirs of a Geisha Uk': 1091, 'Memories of Midnight': 1092, 'Men Are from Mars, Women Are from Venus: A Practical Guide for Improving Communication and Getting What You Want in Your Relationships': 1093, 'Mercy': 1094, 'Mere Christianity': 1095, 'Merrick (Vampire Chronicles)': 1096, 'Merrick (Vampire/Witches Chronicles)': 1097, 'Message from Nam': 1098, 'Message in a Bottle': 1099, 'Messiah': 1100, 'Mexico': 1101, 'Microserfs': 1102, 'Middle of Nowhere': 1103, 'Middlesex: A Novel': 1104, 'Midnight': 1105, 'Midnight Bayou': 1106, 'Midnight Voices': 1107, 'Midnight Whispers (Cutler)': 1108, 'Midnight in Ruby Bayou': 1109, 'Midnight in the Garden of Good and Evil': 1110, 'Midnight in the Garden of Good and Evil: A Savannah Story': 1111, \"Midnight's Children\": 1112, 'Midwives: A Novel': 1113, 'Milk and Honey (Peter Decker/Rina Lazarus Novels)': 1114, 'Milkrun': 1115, 'Mind Prey': 1116, 'Mindbend': 1117, 'Miracle Cure': 1118, 'Mirror Image': 1119, 'Misery': 1120, 'Miss Julia Speaks Her Mind : A Novel': 1121, 'Missing Joseph': 1122, 'Mistaken Identity': 1123, 'Mitigating Circumstances': 1124, 'Mixed Blessings': 1125, 'Moment of Truth': 1126, 'Monster : A Novel (Alex Delaware Novels (Paperback))': 1127, 'Monster Blood (Goosebumps, No 3)': 1128, 'Montana': 1129, 'Montana Sky': 1130, 'Moo': 1131, 'Moon Music (Peter Decker &amp; Rina Lazarus Novels (Paperback))': 1132, 'Moonlight Becomes You': 1133, 'Morality for Beautiful Girls (No.1 Ladies Detective Agency)': 1134, 'More Than You Know: A Novel': 1135, 'More Than a Carpenter': 1136, 'Moreta: Dragonlady of Pern': 1137, 'Morning Glory': 1138, 'Morning, Noon &amp; Night': 1139, 'Mortal Fear': 1140, 'Mortal Prey': 1141, 'Mother of Pearl': 1142, \"Mother of Pearl (Oprah's Book Club (Paperback))\": 1143, 'Mount Vernon Love Story : A Novel of George and Martha Washington': 1144, 'Move to Strike': 1145, 'Moving Target': 1146, 'Mr. Maybe': 1147, 'Mr. Murder': 1148, 'Mr. Perfect': 1149, 'Mrs Dalloway': 1150, 'Music in the Night (Logan)': 1151, 'Must Love Dogs': 1152, 'Must Love Dogs: A Novel': 1153, 'Mutant Message Down Under': 1154, 'Mutation': 1155, 'My Antonia': 1156, 'My Dream of You': 1157, 'My Gal Sunday': 1158, 'My Point - And I Do Have One': 1159, 'My Point...And I Do Have One': 1160, 'My Side of the Mountain': 1161, 'My Year of Meats': 1162, 'Mystery': 1163, 'Mystic River': 1164, 'MÃ?Â¶rder ohne Gesicht.': 1165, 'N Is for Noose': 1166, 'N Is for Noose (Kinsey Millhone Mysteries (Hardcover))': 1167, 'Naked': 1168, 'Naked Prey': 1169, 'Naked in Death': 1170, 'Name Dropping : What If Two Very Different Women Had The Same Exact Name?': 1171, 'Name of the Rose': 1172, 'Name of the Rose-Nla': 1173, 'Narcissus in Chains (Anita Blake Vampire Hunter (Paperback))': 1174, 'Nathaniel': 1175, 'Native Tongue': 1176, 'Natural Causes': 1177, 'Neanderthal: A Novel': 1178, 'Needful Things': 1179, 'Needful Things: The Last Castle Rock Story': 1180, 'Nemesis': 1181, 'Nerd in Shining Armor': 1182, 'Net Force': 1183, 'Neuromancer (Remembering Tomorrow)': 1184, 'Never Change': 1185, 'Neverwhere': 1186, 'Nickel and Dimed: On (Not) Getting By in America': 1187, 'Nicolae: The Rise of Antichrist (Left Behind No. 3)': 1188, 'Night': 1189, 'Night Chills': 1190, \"Night Moves (Tom Clancy's Net Force, No. 3)\": 1191, 'Night Prey': 1192, 'Night Shield (Intimate Moments, 1027)': 1193, 'Night Shift': 1194, 'Night Sins': 1195, 'Night Whispers': 1196, 'Night over Water': 1197, 'Nightmares &amp; Dreamscapes': 1198, 'Nights in Rodanthe': 1199, 'Nightshade': 1200, 'Nine Stories': 1201, 'No Greater Love': 1202, 'No One to Trust': 1203, 'No Safe Place': 1204, 'No Second  Chance': 1205, 'Nobody Knows': 1206, 'Nora, Nora: A Novel': 1207, 'Northern Lights (His Dark Materials S.)': 1208, 'Not Without My Daughter': 1209, 'Notes From a Small Planet': 1210, 'Notes from a Small Island': 1211, 'Nothing Lasts Forever': 1212, 'Nothing but the Truth': 1213, 'November of the Heart': 1214, 'Now You See Her': 1215, 'Now You See Me': 1216, 'Now and Forever': 1217, 'Number the Stars (Yearling Newbery)': 1218, 'Numbered Account': 1219, 'OLD MAN AND THE SEA': 1220, 'ONE DAY MY SOUL JUST OPENED UP : 40 DAYS AND 40 NIGHTS TOWARD SPIRITUAL STRENGTH AND PERSONAL GROWTH': 1221, 'Obasan': 1222, 'Object Lessons': 1223, 'Obsidian Butterfly': 1224, 'October Sky: A Memoir': 1225, 'Odd Thomas': 1226, 'Of Mice and Men': 1227, 'Of Mice and Men (Penguin Great Books of the 20th Century)': 1228, 'Oldest Living Confederate Widow Tells All': 1229, 'Omerta': 1230, 'On Mystic Lake': 1231, 'On Wings of Eagles': 1232, 'On Writing': 1233, 'On a Pale Horse (Incarnations of Immortality, Bk. 1)': 1234, 'On the Banks of Plum Creek': 1235, 'On the Occasion of My Last Afternoon': 1236, 'On the Road': 1237, 'On the Road (Penguin 20th Century Classics)': 1238, 'On the Street Where You Live': 1239, 'On the Street Where You Live : A Novel': 1240, 'Once a Thief': 1241, 'Once in a Lifetime': 1242, 'Once upon a More Enlightened Time: More Politically Correct Bedtime Stories': 1243, 'One': 1244, 'One Door Away from Heaven': 1245, \"One Flew Over the Cuckoo's Nest\": 1246, 'One Hundred Years of Solitude': 1247, \"One Hundred Years of Solitude (Oprah's Book Club)\": 1248, 'One Thousand White Women : The Journals of May Dodd: A Novel': 1249, 'One True Thing': 1250, 'One for the Money (A Stephanie Plum Novel)': 1251, 'One for the Money (Stephanie Plum Novels (Paperback))': 1252, 'Open House': 1253, \"Open House (Oprah's Book Club (Paperback))\": 1254, 'Open Season': 1255, 'Oranges Are Not the Only Fruit': 1256, 'Orchid Beach (Holly Barker Novels (Paperback))': 1257, 'Orchid Blues (Holly Barker Novels (Paperback))': 1258, 'Ordinary People': 1259, 'Original Sin': 1260, 'Orlando: A Biography': 1261, 'Oryx and Crake': 1262, 'Oscar and Lucinda': 1263, 'Out of Africa ; and, Shadows on the grass': 1264, 'Out of Sight': 1265, 'Out of This World': 1266, 'Out of the Shadows (Shadows Trilogy (Paperback))': 1267, 'Out on a Limb': 1268, 'Out to Canaan (The Mitford Years)': 1269, 'Outbreak': 1270, 'Outer Banks': 1271, 'Outlander': 1272, 'Over the Edge': 1273, 'P Is for Peril': 1274, 'P Is for Peril (Kinsey Millhone Mysteries (Hardcover))': 1275, 'POSTCARDS': 1276, 'Paddy Clarke Ha Ha Ha': 1277, 'Pagan Babies': 1278, 'Palomino': 1279, 'Pandora : New Tales of the Vampires': 1280, \"Pandora's Clock\": 1281, 'Pandora: New Tales of the Vampires (New Tales of the Vampires)': 1282, 'Paradise': 1283, 'Paradise Lost': 1284, 'Parallel Lies': 1285, 'Paris to the Moon': 1286, 'Partner in Crime': 1287, 'Passage': 1288, 'Patriot Games': 1289, 'Patriot Games (Jack Ryan Novels)': 1290, 'Pattern Recognition': 1291, \"Patty Jane's House of Curl\": 1292, \"Patty Jane's House of Curl (Ballantine Reader's Circle)\": 1293, 'Paula': 1294, 'Pawn of Prophecy (The Belgariad, Book 1)': 1295, 'Pay It Forward': 1296, 'Pay It Forward: A Novel': 1297, 'Payment in Blood': 1298, 'Peace Like a River': 1299, 'Peachtree Road': 1300, 'Pearl in the Mist (Landry)': 1301, 'Pen Pals': 1302, 'Pendragon': 1303, 'Perfect': 1304, \"Perfect Evil (Maggie O'Dell Novels (Paperback))\": 1305, 'Perfume: The Story of a Murderer (Vintage International)': 1306, 'Personal History': 1307, 'Personal Injuries': 1308, 'Pet Sematary': 1309, 'Phantoms': 1310, 'Picture of Dorian Gray': 1311, 'Piercing the Darkness': 1312, 'Pigs in Heaven': 1313, 'Pink Slip': 1314, 'Plague Dogs': 1315, 'Plain Jane': 1316, 'Plain Truth': 1317, 'Plainsong': 1318, 'Plainsong (Vintage Contemporaries)': 1319, 'Plantation: A Lowcountry Tale': 1320, 'Playing for the Ashes': 1321, 'Pleading Guilty': 1322, 'Plum Island': 1323, 'Point of Origin': 1324, 'Poland': 1325, 'Polar Star': 1326, 'Politically Correct Bedtime Stories: Modern Tales for Our Life and Times': 1327, \"Politika (Tom Clancy's Power Plays (Paperback))\": 1328, 'Pop Goes the Weasel': 1329, \"Pope Joan (Ballantine Reader's Circle)\": 1330, 'Portrait in Death': 1331, 'Portrait in Sepia': 1332, 'Portrait in Sepia : A Novel': 1333, 'Portrait of a Killer: Jack the Ripper -- Case Closed': 1334, 'Portrait of a Killer: Jack the Ripper-- Case Closed (Berkley True Crime)': 1335, 'Possessing the Secret of Joy': 1336, 'Possession : A Romance': 1337, 'Postmortem': 1338, 'Postmortem (Kay Scarpetta Mysteries (Paperback))': 1339, 'Pot Shot': 1340, 'Power of a Woman': 1341, 'Practical Demonkeeping': 1342, 'Practical Magic': 1343, 'Prague : A Novel': 1344, 'Praying for Sleep': 1345, 'Prelude to Foundation (Foundation Novels (Paperback))': 1346, 'Presumed Innocent': 1347, \"Pretend You Don't See Her\": 1348, 'Prey': 1349, 'Prey: A Novel': 1350, 'Pride and Prejudice': 1351, 'Pride and Prejudice (Penguin Popular Classics)': 1352, 'Pride and Prejudice (The Penguin English Library, El 72)': 1353, 'Primal Fear': 1354, 'Primary Colors: A Novel of Politics': 1355, 'Prime Cut': 1356, 'Prime Witness': 1357, 'Princess Daisy': 1358, 'Princess in the Spotlight (The Princess Diaries, Vol. 2)': 1359, 'Princess: A True Story of Life Behind the Veil in Saudi Arabia': 1360, 'Private Eyes (Alex Delaware Novels (Paperback))': 1361, 'Private Scandals': 1362, 'Private Screening': 1363, 'Privileged Information': 1364, 'Prodigal Summer': 1365, 'Prodigal Summer: A Novel': 1366, 'Promises': 1367, 'Protect and Defend': 1368, 'Public Secrets': 1369, 'Puerto Vallarta Squeeze': 1370, 'Purity in Death': 1371, 'Purple Cane Road': 1372, 'Q Is for Quarry': 1373, 'Queen Bee of Mimosa Branch': 1374, 'Quentins': 1375, 'REMEMBER ME': 1376, 'ROAD LESS TRAVELED : A New Psychology of Love, Traditional Values, and Spritual Growth (Touchstone Books (Paperback))': 1377, 'RUSSIA HOUSE, THE': 1378, \"Rachel's Holiday\": 1379, 'Rage of Angels': 1380, 'Ragtime': 1381, 'Rain': 1382, 'Rainbow Six': 1383, \"Ralph's Party\": 1384, 'Range of Motion': 1385, 'Ransom': 1386, 'Reader': 1387, 'Reading Lolita in Tehran : A Memoir in Books': 1388, 'Reading Lolita in Tehran: A Memoir in Books': 1389, 'Reap the Wind': 1390, 'Reasonable Doubt': 1391, 'Rebecca': 1392, 'Red Dragon': 1393, 'Red Mars (Mars Trilogy)': 1394, 'Red Rabbit': 1395, 'Red Storm Rising': 1396, 'Redwall (Redwall, Book 1)': 1397, 'Reflections And Dreams': 1398, 'Relic': 1399, 'Reliquary': 1400, 'Remember': 1401, 'Remember Me': 1402, 'Remember When': 1403, 'Remembrance': 1404, 'Rendezvous with Rama': 1405, 'Replay': 1406, 'Resistance : A Novel': 1407, 'Restaurant At the End of the Universe': 1408, 'Reunion in Death': 1409, 'Revenge of the Middle-Aged Woman': 1410, 'Reversible Errors': 1411, 'Reversible Errors: A Novel': 1412, \"Reviving Ophelia: Saving the Selves of Adolescent Girls (Ballantine Reader's Circle)\": 1413, 'Rich Dad, Poor Dad: What the Rich Teach Their Kids About Money--That the Poor and Middle Class Do Not!': 1414, 'Riding in Cars With Boys: Confessions of a Bad Girl Who Makes Good': 1415, 'Ringworld': 1416, 'Riptide': 1417, 'Rising Sun': 1418, 'Rising Tides': 1419, 'River God': 1420, \"River's End\": 1421, 'River, Cross My Heart': 1422, \"Robert Ludlum's The Cassandra Compact (A Covert-One Novel)\": 1423, \"Robert Ludlum's The Hades Factor\": 1424, \"Robert Ludlum's The Paris Option : A Covert-One Novel (A Covert-One Novel)\": 1425, 'Roll of Thunder, Hear My Cry': 1426, 'Roots': 1427, 'Rose': 1428, 'Rose Madder': 1429, 'Rosehaven': 1430, 'Roses Are Red': 1431, 'Roses Are Red (Alex Cross Novels)': 1432, 'Rough Justice': 1433, 'Round Ireland With a Fridge': 1434, 'Ruby (Landry)': 1435, 'Rubyfruit Jungle': 1436, 'Rules of Prey': 1437, 'Running Scared': 1438, 'Running with Scissors': 1439, 'Running with Scissors: A Memoir': 1440, 'Rush Limbaugh Is a Big Fat Idiot: And Other Observations': 1441, 'Russendisko.': 1442, \"Ruthless.Com (Tom Clancy's Power Plays (Paperback))\": 1443, 'SAHARA': 1444, 'SEAT OF THE SOUL': 1445, 'SEEDS OF YESTERDY (Dollanger Saga (Paperback))': 1446, 'SHAMPOO PLANET : SHAMPOO PLANET': 1447, 'SHIPPING NEWS': 1448, 'SILENT NIGHT : The Story of the World War I Christmas Truce': 1449, 'SKINNY LEGS AND ALL': 1450, 'STONES FROM THE RIVER': 1451, \"Sabine's Notebook: In Which the Extraordinary Correspondence of Griffin &amp; Sabine Continues\": 1452, 'Sabriel (The Abhorsen Trilogy)': 1453, 'Sacred Sins': 1454, 'Sacred and Profane (Peter Decker &amp; Rina Lazarus Novels (Paperback))': 1455, 'Safe Harbor': 1456, 'Saint Maybe': 1457, 'Salem Falls': 1458, \"Salem's Lot\": 1459, 'Sanctuary': 1460, 'Sarum: The Novel of England': 1461, 'Saucer': 1462, 'Saving Faith': 1463, 'Saving Grace': 1464, 'Scarlet Feather': 1465, 'Scarlet Letter': 1466, 'Scarlett : The Sequel to Margaret Mitchell\\'s \\\\Gone With the Wind\\\\\"\"': 1467, \"Scarlett: The Sequel to Margaret Mitchell's Gone With the Wind\": 1468, \"Schindler's List\": 1469, 'Sea Glass: A Novel': 1470, 'Sea Swept (Quinn Brothers (Paperback))': 1471, 'Seabiscuit': 1472, 'Seabiscuit: An American Legend': 1473, 'Season of the Machete': 1474, 'Second Child': 1475, 'Second Nature': 1476, 'Second Wind': 1477, 'Secrecy': 1478, 'Secret History': 1479, 'Secret History : A Novel': 1480, 'Secret Prey': 1481, 'Secrets': 1482, 'Secrets of the Morning (Cutler)': 1483, 'Seduction in Death': 1484, 'See How They Run': 1485, 'See Jane Date (Red Dress Ink (Paperback))': 1486, 'Sein Language': 1487, 'Seinlanguage': 1488, 'Seize the Night': 1489, 'Self Matters : Creating Your Life from the Inside Out': 1490, 'Self-Defense (Alex Delaware Novels (Paperback))': 1491, 'Sense and Sensibility': 1492, 'September': 1493, 'Serpent : A Novel from the NUMA Files (Numa Files Series)': 1494, \"Serpent's Tooth : A Peter Decker/Rina Lazarus Novel (Peter Decker &amp; Rina Lazarus Novels (Paperback))\": 1495, 'Servant of the Bones': 1496, 'Seven Habits Of Highly Effective People': 1497, 'Seven Up (A Stephanie Plum Novel)': 1498, 'Seventh Heaven': 1499, 'Sex &amp; the City': 1500, 'Shadow Prey': 1501, \"Shadow Watch (Tom Clancy's Power Plays (Paperback))\": 1502, 'Shadowfires': 1503, 'Shadows': 1504, 'Shattered': 1505, 'She Walks These Hills': 1506, 'She Went All the Way (Avon Light Contemporary Romances)': 1507, 'She Who Remembers': 1508, \"She's Come Undone (Oprah's Book Club (Paperback))\": 1509, \"She's Come Undone (Oprah's Book Club)\": 1510, 'Shell Seekers': 1511, 'Shipping News': 1512, 'Shock': 1513, 'Shock Wave (Dirk Pitt Adventures (Paperback))': 1514, 'Shoeless Joe': 1515, 'Shogun': 1516, 'Shopaholic Takes Manhattan (Summer Display Opportunity)': 1517, 'Shopaholic Ties the Knot': 1518, 'Shopgirl': 1519, 'Shopgirl : A Novella': 1520, 'Show of Evil': 1521, 'Sick Puppy': 1522, 'Siddhartha': 1523, 'Side Effects': 1524, 'Sights Unseen': 1525, 'Silence of the Lambs': 1526, 'Silent Honor': 1527, 'Silent Night : A Christmas Suspense Story': 1528, 'Silent Partner (Alex Delaware Novels (Paperback))': 1529, 'Silent Prey': 1530, 'Silent Treatment': 1531, 'Silent Witness': 1532, 'Silk': 1533, 'Silver Wedding': 1534, 'Simple Abundance:  A Daybook of Comfort and Joy': 1535, 'Sister of My Heart': 1536, 'Sisterhood of the Traveling Pants': 1537, 'Sisters Found': 1538, 'Skeleton Crew': 1539, 'Skin Tight': 1540, 'Skinny Legs and All': 1541, 'Skinwalkers (Joe Leaphorn/Jim Chee Novels)': 1542, 'Skipping Christmas': 1543, 'Slammerkin': 1544, \"Slaughterhouse Five or the Children's Crusade: A Duty Dance With Death\": 1545, 'Sleep No More': 1546, 'Sleepers': 1547, 'Sleepwalk': 1548, 'Slightly Shady': 1549, 'Slow Waltz in Cedar Bend': 1550, 'Small Town Girl': 1551, 'Smart Women': 1552, \"Smilla's Sense of Snow\": 1553, 'Smoke in Mirrors': 1554, 'Snow Crash': 1555, 'Snow Falling on Cedars': 1556, 'Snow in August': 1557, 'Sole Survivor': 1558, 'Someone to Watch Over Me : A Novel': 1559, 'Something More: Excavating Your Authentic Self': 1560, 'Something Wicked This Way Comes': 1561, \"Song of Solomon (Oprah's Book Club (Paperback))\": 1562, \"Songs in Ordinary Time (Oprah's Book Club (Paperback))\": 1563, \"Sophie's World: A Novel About the History of Philosophy\": 1564, 'Sophies Choice': 1565, 'Soul Harvest: The World Takes Sides (Left Behind No. 4)': 1566, 'Soul Mountain': 1567, 'Southern Cross': 1568, 'Space': 1569, 'Speak': 1570, 'Speaker for the Dead (Ender Wiggins Saga (Paperback))': 1571, 'Speaking With the Angel': 1572, 'Speaking in Tongues': 1573, 'Special Delivery': 1574, 'Special Delivery: A Novel': 1575, 'Spencerville': 1576, 'Sphere': 1577, 'Split Second': 1578, \"Split Second (Maggie O'Dell Novels (Paperback))\": 1579, 'Spring Moon: A Novel of China': 1580, 'Ssn': 1581, 'Stalker: A Peter Decker and Rina Lazarus Novel': 1582, 'Stand': 1583, 'Standing in the Rainbow': 1584, 'Standing in the Rainbow : A Novel': 1585, 'Standoff': 1586, 'Stanislaski Brothers (Silhouette Promo)': 1587, 'Stanislaski Sisters': 1588, 'Star': 1589, 'Stardust': 1590, 'Stargirl': 1591, 'Starship Troopers': 1592, \"State of Siege (Tom Clancy's Op-Center, 6)\": 1593, 'Stealing Shadows (Shadows Trilogy (Paperback))': 1594, 'Sticks &amp; Scones': 1595, 'Stiff: The Curious Lives of Human Cadavers': 1596, 'Still Life with Woodpecker': 1597, 'Still Waters': 1598, 'Stillwatch': 1599, 'Stitches in Time': 1600, 'Stolen Lives: Twenty Years in a Desert Jail': 1601, 'Stone Kiss': 1602, 'Stone Kiss (Peter Decker &amp; Rina Lazarus Novels (Hardcover))': 1603, 'Stone of Tears (Sword of Truth, Book 2)': 1604, 'Storm Warning': 1605, 'Storming Heaven': 1606, 'Stormy Weather': 1607, 'Story of O': 1608, 'Straight Man : A Novel (Vintage Contemporaries)': 1609, 'Strange Fits of Passion: A Novel': 1610, 'Strange Highways': 1611, 'Stranger Is Watching': 1612, 'Stranger in a Strange Land (Remembering Tomorrow)': 1613, 'Strangers': 1614, 'Strip Tease': 1615, 'Stuart Little': 1616, 'Stupid White Men ...and Other Sorry Excuses for the State of the Nation!': 1617, 'Stupid White Men. Eine Abrechnung mit dem Amerika unter George W. Bush': 1618, 'Succulent Wild Woman': 1619, 'Sudden Prey': 1620, 'Sula': 1621, \"Sullivan's Island: A Lowcountry Tale\": 1622, 'Summer Island': 1623, 'Summer Light': 1624, 'Summer Pleasures': 1625, 'Summer Sisters': 1626, \"Summer's End\": 1627, 'Summon the Keeper': 1628, 'Sun Also Rises': 1629, 'Sunset in St. Tropez': 1630, 'Superstitious': 1631, 'Surfacing': 1632, 'Survival of the Fittest: An Alex Delaware Novel': 1633, 'Survivor : A Novel': 1634, 'Sushi for Beginners': 1635, \"Suzanne's Diary for Nicholas\": 1636, 'Sweet Liar': 1637, 'Sweet Revenge': 1638, 'Swimming to Catalina': 1639, 'Switcheroo : A Novel': 1640, 'Sword of Shannara': 1641, 'TIME AND AGAIN': 1642, 'Table For Two': 1643, 'Tai-Pan': 1644, \"Tailchaser's Song\": 1645, 'Tales of a Fourth Grade Nothing': 1646, 'Tales of the City (Tales of the City Series, V. 1)': 1647, 'Talk Before Sleep: A Novel': 1648, 'Talking God (Jim Chee Novels)': 1649, 'Taltos: Lives of the Mayfair Witches': 1650, 'Tapestry': 1651, 'Tar Baby': 1652, 'Tara Road': 1653, 'Tarnished Gold (Landry)': 1654, 'Tears of the Giraffe (No.1 Ladies Detective Agency)': 1655, 'Tears of the Moon (Irish Trilogy)': 1656, 'Tell Me Lies (Tell Me Lies)': 1657, 'Tell Me Your Dreams': 1658, 'Tell No One': 1659, 'Temple of the Winds (Sword of Truth, Book 4)': 1660, 'Temptation': 1661, 'Ten Big Ones: A Stephanie Plum Novel': 1662, 'Ten Stupid Things Women Do to Mess Up Their Lives': 1663, 'Tender at the Bone: Growing Up at the Table': 1664, 'Term Limits': 1665, 'Terminal': 1666, 'Texas': 1667, 'That Camden Summer': 1668, 'The 13th Juror': 1669, 'The Absence of Nectar': 1670, 'The Accidental Tourist': 1671, 'The Adventures of Huckleberry Finn (Bantam Classics)': 1672, 'The Alchemist: A Fable About Following Your Dream': 1673, 'The Alibi': 1674, 'The Alienist': 1675, 'The Amazing Adventures of Kavalier &amp; Clay': 1676, 'The Amber Spyglass (His Dark Materials, Book 3)': 1677, 'The Anastasia Syndrome': 1678, 'The Andromeda Strain': 1679, 'The Angel of Darkness': 1680, 'The Apocalypse Watch': 1681, 'The Apprentice': 1682, 'The Arctic Incident (Artemis Fowl, Book 2)': 1683, 'The Arraignment': 1684, 'The Art of Deception': 1685, 'The Art of Happiness: A Handbook for Living': 1686, \"The Artist's Way : A Spiritual Path to Higher Creativity\": 1687, 'The Associate': 1688, 'The Attorney': 1689, 'The Autobiography of Malcolm X': 1690, 'The Awakening': 1691, 'The BFG': 1692, 'The Bachelor (Warner Books Contemporary Romance)': 1693, 'The Bachman Books: Rage, the Long Walk, Roadwork, the Running Man': 1694, 'The Bad Beginning (A Series of Unfortunate Events, Book 1)': 1695, 'The Bad Place': 1696, 'The Ballad of Frankie Silver': 1697, 'The Beach': 1698, 'The Beach House': 1699, 'The Bean Trees': 1700, 'The Beans of Egypt, Maine': 1701, 'The Bear and the Dragon': 1702, 'The Bear and the Dragon (Jack Ryan Novels)': 1703, \"The Beekeeper's Apprentice\": 1704, 'The Bell Jar': 1705, 'The Bell Jar : A Novel (Perennial Classics)': 1706, 'The Best Laid Plans': 1707, 'The Bestseller': 1708, 'The Big Bad Wolf: A Novel': 1709, 'The Black Unicorn (Magic Kingdom of Landover Novel)': 1710, 'The Blessing': 1711, 'The Blind Assassin': 1712, 'The Blooding': 1713, 'The Blue Day Book': 1714, 'The Blue Last: A Richard Jury Mystery (Richard Jury Mysteries (Paperback))': 1715, 'The Blue Nowhere : A Novel': 1716, 'The Bluest Eye': 1717, 'The Body Farm': 1718, 'The Bone Collector (Lincoln Rhyme Novels (Paperback))': 1719, 'The Bone People': 1720, \"The Bonesetter's Daughter\": 1721, 'The Bonfire of the Vanities': 1722, 'The Book Borrower: A Novel': 1723, 'The Book of Questions': 1724, \"The Book of Ruth (Oprah's Book Club (Paperback))\": 1725, \"The Bookman's Wake (Cliff Janeway Novels (Paperback))\": 1726, 'The Bourne Identity': 1727, 'The Bourne Supremacy': 1728, 'The Bourne Ultimatum': 1729, 'The Boy Next Door': 1730, 'The Breaker': 1731, 'The Brethren': 1732, 'The Bridge Across Forever': 1733, 'The Bridges of Madison County': 1734, 'The Burden of Proof': 1735, 'The Burning Man': 1736, 'The Cabinet of Curiosities': 1737, 'The Cardinal of the Kremlin (Jack Ryan Novels)': 1738, 'The Carousel': 1739, 'The Cat Who Ate Danish Modern (Cat Who... (Paperback))': 1740, 'The Cat Who Brought Down the House': 1741, 'The Cat Who Came for Christmas': 1742, 'The Cat Who Came to Breakfast': 1743, 'The Cat Who Could Read Backwards': 1744, 'The Cat Who Knew Shakespeare': 1745, 'The Cat Who Knew a Cardinal': 1746, 'The Cat Who Lived High': 1747, 'The Cat Who Moved a Mountain': 1748, 'The Cat Who Played Brahms': 1749, 'The Cat Who Played Post Office (Cat Who... (Paperback))': 1750, 'The Cat Who Robbed a Bank (Cat Who... (Paperback))': 1751, 'The Cat Who Said Cheese': 1752, 'The Cat Who Sang for the Birds (Cat Who... (Paperback))': 1753, 'The Cat Who Saw Red': 1754, 'The Cat Who Saw Stars (Cat Who... (Paperback))': 1755, 'The Cat Who Smelled a Rat (Cat Who... (Paperback))': 1756, 'The Cat Who Sniffed Glue': 1757, 'The Cat Who Tailed a Thief': 1758, 'The Cat Who Talked to Ghosts': 1759, 'The Cat Who Turned on and Off (Cat Who... (Paperback))': 1760, \"The Cat Who Wasn't There\": 1761, 'The Cat Who Went Up the Creek': 1762, 'The Cat Who Went into the Closet': 1763, 'The Cat Who Went to Heaven': 1764, 'The Cat and the Curmudgeon': 1765, 'The Cat in the Hat': 1766, 'The Catcher in the Rye': 1767, 'The Cater Street Hangman': 1768, 'The Celestine Prophecy': 1769, 'The Celestine Prophecy (Celestine Prophecy)': 1770, 'The Cereal Murders': 1771, 'The Chamber': 1772, 'The Charm School': 1773, 'The Children of Men': 1774, 'The Chocolate War (Laurel Leaf Books)': 1775, 'The Chosen': 1776, 'The Christmas Train': 1777, 'The Cider House Rules': 1778, 'The Claiming of Sleeping Beauty (Erotic Adventures of Sleeping Beauty)': 1779, \"The Clan of the Cave Bear (Earth's Children (Paperback))\": 1780, 'The Client': 1781, 'The Clinic (Alex Delaware Novels (Paperback))': 1782, 'The Cobra Event': 1783, 'The Coffin Dancer (Lincoln Rhyme Novels (Paperback))': 1784, 'The Color Purple': 1785, 'The Color of Magic': 1786, \"The Color of Water: A Black Man's Tribute to His White Mother\": 1787, 'The Concrete Blonde (A Harry Bosch Novel)': 1788, 'The Constant Gardener': 1789, 'The Copper Beech': 1790, 'The Corrections': 1791, 'The Corrections (Oprah Edition)': 1792, 'The Corrections: A Novel': 1793, 'The Cottage': 1794, 'The Cove': 1795, 'The Cradle Will Fall': 1796, 'The Crimson Petal and the White': 1797, 'The Crucible: A Play in Four Acts (Penguin Plays)': 1798, 'The Crush': 1799, 'The Cry of the Halidon': 1800, 'The Curious Incident of the Dog in the Night-Time (Today Show Book Club #13)': 1801, 'The Curious Incident of the Dog in the Night-Time (Vintage Contemporaries)': 1802, 'The Curious Incident of the Dog in the Night-Time : A Novel': 1803, 'The Da Vinci Code': 1804, \"The Dance of Anger: A Woman's Guide to Changing the Patterns of Intimate Relationships\": 1805, 'The Dante Club : A Novel': 1806, 'The Dark Half': 1807, 'The Dark Room': 1808, 'The Darwin Awards II: Unnatural Selection': 1809, 'The Darwin Awards: Evolution in Action': 1810, 'The Day After Tomorrow': 1811, 'The Dead Zone': 1812, 'The Deadhouse': 1813, 'The Death of Vishnu: A Novel': 1814, 'The Deep End of the Ocean': 1815, \"The Deep End of the Ocean (Oprah's Book Club (Hardcover))\": 1816, 'The Devil Wears Prada : A Novel': 1817, 'The Devil in the White City : Murder, Magic, and Madness at the Fair That Changed America (Illinois)': 1818, \"The Devil's Code\": 1819, \"The Devil's Teardrop\": 1820, 'The Diary of Ellen Rimbauer: My Life at Rose Red': 1821, \"The Dilbert Principle: A Cubicle'S-Eye View of Bosses, Meetings, Management Fads &amp; Other Workplace Afflictions\": 1822, \"The Dive From Clausen's Pier (Alex Awards)\": 1823, \"The Dive From Clausen's Pier : A Novel (Vintage Contemporaries (Paperback))\": 1824, 'The Divine Secrets of the Ya-Ya Sisterhood: A Novel': 1825, 'The Diving Bell and the Butterfly : A Memoir of Life in Death': 1826, 'The Dogs of Babel (Today Show Book Club #12)': 1827, 'The Doomsday Conspiracy': 1828, 'The Door to December': 1829, 'The Dragon Reborn (The Wheel of Time, Book 3)': 1830, 'The Drawing of the Three (The Dark Tower, Book 2)': 1831, 'The Dream of Scipio': 1832, \"The Dress Lodger (Ballantine Reader's Circle)\": 1833, 'The Drowning People': 1834, 'The Echo': 1835, 'The Edge': 1836, 'The Edible Woman': 1837, 'The Education of Little Tree (A Zia Book)': 1838, 'The Eight': 1839, 'The Eleventh Commandment': 1840, 'The Emperor of Ocean Park (Today Show Book Club #1)': 1841, 'The Empress File': 1842, 'The Empty Chair': 1843, 'The English Patient': 1844, 'The Eternity Code (Artemis Fowl, Book 3)': 1845, 'The Experiment': 1846, 'The Eye of the World (The Wheel of Time, Book 1)': 1847, 'The Eyes of Darkness': 1848, 'The Eyes of the Dragon': 1849, 'The Eyre Affair (Alex Awards (Awards))': 1850, 'The Eyre Affair: A Novel': 1851, 'The Face': 1852, 'The Face of Deception': 1853, 'The Face of Fear': 1854, 'The Fallen Man (Joe Leaphorn Novels)': 1855, 'The Feast of Love (Vintage Contemporaries (Paperback))': 1856, 'The Fellowship of the Ring (The Lord of the Rings, Part 1)': 1857, 'The Fiery Cross': 1858, 'The Fig Eater : A Novel': 1859, 'The Final Judgment': 1860, 'The Fires of Heaven (The Wheel of Time, Book 5)': 1861, 'The Firm': 1862, 'The First Counsel': 1863, 'The First Eagle (Jim Chee Novels)': 1864, 'The First Horseman': 1865, 'The First Man in Rome': 1866, 'The First Time': 1867, 'The First Victim': 1868, 'The First Wives Club Movie Tie In': 1869, 'The Five People You Meet in Heaven': 1870, 'The Flanders Panel': 1871, 'The Fly on the Wall': 1872, \"The Fool's Run\": 1873, 'The Footprints of God : A Novel': 1874, 'The Forest': 1875, 'The Forest House': 1876, 'The Forgotten (Peter Decker &amp; Rina Lazarus Novels (Paperback))': 1877, 'The Fountainhead': 1878, 'The Four Agreements: A Practical Guide to Personal Freedom': 1879, 'The Fourth Estate': 1880, 'The Fourth Hand': 1881, 'The Frog King: A Love Story': 1882, 'The Funhouse': 1883, 'The Future Homemakers of America': 1884, 'The GREAT GATSBY (Scribner Classic)': 1885, \"The General's Daughter\": 1886, 'The Genesis Code': 1887, 'The Ghost': 1888, 'The Gift': 1889, 'The Girl Who Loved Tom Gordon': 1890, 'The Girl Who Loved Tom Gordon : A Novel': 1891, \"The Girls' Guide to Hunting and Fishing\": 1892, 'The Giver (21st Century Reference)': 1893, 'The Glass Lake': 1894, 'The God of Small Things': 1895, 'The Godfather': 1896, 'The Gold Coast': 1897, 'The Golden Compass (His Dark Materials, Book 1)': 1898, 'The Good Earth (Enriched Classics)': 1899, 'The Grapes of Wrath': 1900, 'The Grapes of Wrath: John Steinbeck Centennial Edition (1902-2002)': 1901, 'The Great Gatsby': 1902, 'The Great Hunt (The Wheel of Time, Book 2)': 1903, 'The Great Train Robbery': 1904, 'The Greatest Generation': 1905, 'The Green Mile': 1906, 'The Green Mile: Coffey on the Mile (Green Mile Series)': 1907, \"The Green Mile: Coffey's Hands (Green Mile Series)\": 1908, 'The Green Mile: Night Journey (Green Mile Series)': 1909, 'The Green Mile: The Bad Death of Eduard Delacroix (Green Mile Series)': 1910, 'The Green Mile: The Complete Serial Novel': 1911, 'The Green Mile: The Mouse on the Mile (Green Mile Series)': 1912, 'The Grilling Season': 1913, 'The Guardian': 1914, 'The Gunslinger (The Dark Tower, Book 1)': 1915, 'The Hammer of Eden: A Novel': 1916, \"The Handmaid's Tale\": 1917, \"The Handmaid's Tale : A Novel\": 1918, \"The Hangman's Beautiful Daughter\": 1919, 'The Hearing': 1920, 'The Heart Is a Lonely Hunter': 1921, 'The Heart of a Woman': 1922, 'The Heir': 1923, 'The Hellfire Club': 1924, 'The Hero and the Crown': 1925, \"The Hitchhiker's Guide to the Galaxy\": 1926, 'The Hobbit': 1927, 'The Hobbit : The Enchanting Prelude to The Lord of the Rings': 1928, 'The Hobbit: or There and Back Again': 1929, 'The Homing': 1930, 'The Honk and Holler Opening Soon': 1931, 'The Horse Whisperer': 1932, 'The Horse You Came In On': 1933, 'The Hot Zone': 1934, 'The Hours : A Novel': 1935, 'The Hours: A Novel': 1936, 'The House of Thunder': 1937, 'The House of the Spirits': 1938, 'The House on Hope Street': 1939, 'The House on Mango Street (Vintage Contemporaries)': 1940, 'The Human Stain : A Novel': 1941, 'The Hundred Secret Senses': 1942, 'The Hunt for Red October': 1943, 'The Hunt for Red October (Jack Ryan Novels)': 1944, 'The Icarus Agenda': 1945, 'The Ice House': 1946, \"The Idiot Girls' Action Adventure Club\": 1947, 'The Indian in the Cupboard': 1948, 'The Indwelling: The Beast Takes Possession (Left Behind #7)': 1949, 'The Invitation': 1950, 'The Island of the Day Before': 1951, 'The Jester': 1952, 'The Joy Luck Club': 1953, 'The Judge': 1954, 'The Jungle (Bantam Classics)': 1955, 'The Juror': 1956, 'The Jury': 1957, \"The Kalahari Typing School for Men (No. 1 Ladies' Detective Agency)\": 1958, 'The Key to Midnight': 1959, 'The Killer Angels': 1960, 'The Killing Game: Only One Can Win...and the Loser Dies': 1961, 'The King of Torts': 1962, 'The Kiss': 1963, \"The Kitchen God's Wife\": 1964, 'The Klone and I: A High-Tech Love Story': 1965, \"The Ladies Auxiliary (Ballantine Reader's Circle)\": 1966, 'The Lake House': 1967, \"The Lake of Dead Languages (Ballantine Reader's Circle)\": 1968, 'The Last Don': 1969, 'The Last Juror': 1970, 'The Last Precinct': 1971, 'The Last Suppers': 1972, 'The Last Time They Met : A Novel': 1973, 'The Laughing Corpse (Anita Blake Vampire Hunter (Paperback))': 1974, 'The Law of Love': 1975, 'The Laws of Our Fathers': 1976, 'The Left Hand of Darkness (Remembering Tomorrow)': 1977, 'The Legend of Bagger Vance': 1978, \"The Liar's Club: A Memoir\": 1979, 'The Light Fantastic (Discworld Novels (Paperback))': 1980, 'The Lilac Bus: Stories': 1981, \"The Lion's Game\": 1982, 'The Lion, the Witch, and the Wardrobe (The Chronicles of Narnia, Book 2)': 1983, 'The List': 1984, 'The Little Friend': 1985, 'The Little Prince': 1986, 'The Long Road Home': 1987, 'The Loop': 1988, 'The Loop: A Novel': 1989, 'The Lord of the Rings (Movie Art Cover)': 1990, \"The Lost Boy: A Foster Child's Search for the Love of a Family\": 1991, 'The Lost Continent: Travels in Small-Town America': 1992, 'The Lost World': 1993, 'The Lost World: A Novel': 1994, 'The Lottery Winner : Alvirah And Willy Stories': 1995, 'The Lottery Winner: Alvirah and Willy Stories': 1996, 'The Love Letter': 1997, 'The Lovely Bones': 1998, 'The Lovely Bones: A Novel': 1999, 'The Lunatic Cafe (Anita Blake Vampire Hunter (Paperback))': 2000, 'The Lust Lizard of Melancholy Cove': 2001, 'The Macgregors: Alan - Grant (The Macgregors)': 2002, 'The Magic Circle': 2003, 'The Magic of You (Malory Novels (Paperback))': 2004, \"The Magician's Assistant\": 2005, \"The Magician's Nephew (rack) (Narnia)\": 2006, 'The Main Corpse (Culinary Mysteries (Paperback))': 2007, \"The Mammoth Hunters (Auel, Jean M. , Earth's Children.)\": 2008, \"The Mammoth Hunters (Earth's Children (Paperback))\": 2009, 'The Man Who Ate the 747': 2010, 'The Map of Love': 2011, 'The Mark: The Beast Rules the World (Left Behind #8)': 2012, 'The Martian Chronicles': 2013, 'The Mask': 2014, 'The Master and Margarita': 2015, 'The Matarese Countdown': 2016, 'The Maze': 2017, 'The Meaning Of Life': 2018, 'The Mermaids Singing': 2019, 'The Midnight Club': 2020, 'The Millionaires': 2021, 'The Miracle Life of Edgar Mint: A Novel': 2022, 'The Mistress of Spices': 2023, 'The Mists of Avalon': 2024, 'The Morning After': 2025, 'The Mosquito Coast': 2026, 'The Most Wanted': 2027, 'The Mothman Prophecies': 2028, 'The Mouse and the Motorcycle': 2029, 'The Mulberry Tree': 2030, 'The Mummy or Ramses the Damned': 2031, 'The Murder Book': 2032, 'The Music of the Spheres': 2033, 'The Nanny Diaries: A Novel': 2034, 'The Neverending Story': 2035, 'The Next Accident': 2036, 'The Night Before': 2037, 'The Night Crew': 2038, \"The No. 1 Ladies' Detective Agency\": 2039, \"The No. 1 Ladies' Detective Agency (Today Show Book Club #8)\": 2040, 'The Notebook': 2041, 'The Oath': 2042, 'The Odyssey': 2043, 'The Once and Future King': 2044, \"The Orchid Thief (Ballantine Reader's Circle)\": 2045, 'The Other Boleyn Girl': 2046, 'The Other Daughter': 2047, 'The Outside Man': 2048, 'The Outsiders': 2049, 'The Outsiders (Now in Speak!)': 2050, 'The Pact: A Love Story': 2051, 'The Partner': 2052, 'The Passion': 2053, 'The Passion of Artemisia': 2054, 'The Patient': 2055, 'The Pearl': 2056, 'The Pelican Brief': 2057, 'The Penwyth Curse': 2058, 'The Perfect Husband': 2059, 'The Perfect Storm : A True Story of Men Against the Sea': 2060, 'The Perfect Storm: A True Story of Men Against the Sea': 2061, 'The Perfect Summer': 2062, 'The Perks of Being a Wallflower': 2063, 'The Persian Pickle Club': 2064, 'The Phantom Tollbooth': 2065, 'The Piano Tuner : A Novel': 2066, 'The Pied Piper': 2067, 'The Pillars of the Earth': 2068, \"The Pilot's Wife\": 2069, \"The Pilot's Wife : A Novel\": 2070, \"The Pilot's Wife : A Novel Tag: Author of the Weight of Water (Oprah's Book Club (Hardcover))\": 2071, \"The Plains of Passage (Earth's Children (Paperback))\": 2072, 'The Playboy': 2073, 'The Poet': 2074, 'The Poisonwood Bible': 2075, 'The Poisonwood Bible: A Novel': 2076, 'The Postman (Bantam Classics)': 2077, 'The Power of One': 2078, 'The Prayer of Jabez: Breaking Through to the Blessed Life': 2079, 'The Presence': 2080, \"The President's Daughter\": 2081, 'The Prince of Tides': 2082, \"The Princess Bride: S Morgenstern's Classic Tale of True Love and High Adventure\": 2083, 'The Princess Diaries': 2084, 'The Professor and the Madman': 2085, 'The Professor and the Madman: A Tale of Murder, Insanity, and the Making of The Oxford English Dictionary': 2086, 'The Program': 2087, 'The Prometheus Deception': 2088, 'The Promise': 2089, 'The Pull of the Moon': 2090, 'The Purpose-Driven Life: What on Earth Am I Here For?': 2091, 'The Pursuit (Avon Historical Romance)': 2092, 'The Queen of the Damned (Vampire Chronicles (Paperback))': 2093, \"The Queen's Fool : A Novel\": 2094, 'The Quiet Game': 2095, 'The Rainmaker': 2096, 'The Ranch': 2097, 'The Rapture of Canaan': 2098, 'The Reader': 2099, 'The Red Room': 2100, 'The Red Tent (Bestselling Backlist)': 2101, 'The Reef': 2102, 'The Regulators': 2103, 'The Remains of the Day (Vintage International)': 2104, 'The Remnant: On the Brink of Armageddon (Left Behind No. 10)': 2105, 'The Reptile Room (A Series of Unfortunate Events, Book 2)': 2106, 'The Rescue': 2107, \"The Restaurant at the End of the Universe (Hitchhiker's Trilogy (Paperback))\": 2108, 'The Return': 2109, 'The Return Journey': 2110, 'The Return of the Indian (Indian in the Cupboard)': 2111, 'The Return of the King (The Lord of the Rings, Part 3)': 2112, 'The Right Hand of Evil': 2113, 'The Ring': 2114, 'The Ritual Bath (Peter Decker &amp; Rina Lazarus Novels (Paperback))': 2115, 'The River King': 2116, 'The Road from Coorain': 2117, 'The Road to Omaha': 2118, 'The Robber Bride': 2119, 'The Rosewood Casket': 2120, 'The Rule of Four': 2121, 'The Runaway Jury': 2122, 'The SECRET DIARY OF ANNE BOLEYN': 2123, \"The Samurai's Garden : A Novel\": 2124, 'The Sands of Time': 2125, 'The Satanic Verses': 2126, 'The Saving Graces: A Novel': 2127, 'The Scandalous Summer of Sissy LeBlanc : A Novel': 2128, 'The Scarlet Letter': 2129, \"The Scold's Bridle\": 2130, 'The Scorpio Illusion': 2131, 'The Scottish Bride (Bride Trilogy (Paperback))': 2132, 'The Screwtape Letters': 2133, 'The Search': 2134, 'The Second Summer of the Sisterhood': 2135, 'The Second Time Around : A Novel': 2136, 'The Secret': 2137, 'The Secret Diary of Adrian Mole Aged 13 3/4': 2138, 'The Secret Garden': 2139, 'The Secret Life of Bees': 2140, 'The Servants of Twilight': 2141, 'The Shape of Snakes': 2142, 'The Shell Seekers (Shell Seekers)': 2143, \"The Shelters of Stone (Earth's Children Series, No 5)\": 2144, \"The Shelters of Stone (Earth's Children, Book 5)\": 2145, 'The Shining': 2146, 'The Shipping News : A Novel': 2147, 'The Short Forever': 2148, 'The Sigma Protocol': 2149, 'The Silmarillion': 2150, 'The Silver Chair': 2151, 'The Silver Wolf': 2152, 'The Simple Truth': 2153, 'The Sisterhood of the Traveling Pants': 2154, 'The Sixteen Pleasures: A Novel': 2155, 'The Sky Is Falling': 2156, 'The Smoke Jumper': 2157, 'The Songcatcher: A Ballad Novel': 2158, \"The Soul Catcher: A Maggie O'Dell Novel\": 2159, 'The Sparrow': 2160, 'The Stand (The Complete and Uncut Edition)': 2161, 'The Stand: Complete and Uncut': 2162, 'The Stand: The Complete &amp; Uncut Edition': 2163, 'The Stars Shine Down': 2164, 'The Stepford Wives': 2165, 'The Stone Diaries': 2166, 'The Stone Monkey (Lincoln Rhyme Novels (Paperback))': 2167, 'The Stranger': 2168, 'The Straw Men': 2169, 'The Street Lawyer': 2170, 'The Subtle Knife (His Dark Materials, Book 2)': 2171, 'The Sum of All Fears': 2172, 'The Sum of All Fears (Jack Ryan Novels)': 2173, 'The Summerhouse': 2174, 'The Summons': 2175, 'The Surgeon': 2176, 'The Survivors Club': 2177, \"The Sweet Potato Queens' Book of Love\": 2178, 'The Switch': 2179, 'The Tailor of Panama': 2180, 'The Tale of the Body Thief (Vampire Chronicles (Paperback))': 2181, 'The Tale of the Body Thief (Vampire Chronicles)': 2182, 'The Talented Mr. Ripley (Vintage Crime/Black Lizard)': 2183, 'The Talisman': 2184, 'The Tao of Pooh': 2185, 'The Target': 2186, 'The Te of Piglet': 2187, 'The Teeth of the Tiger': 2188, 'The Temple of My Familiar': 2189, 'The Tenth Insight : Holding the Vision': 2190, 'The Tenth Justice': 2191, 'The Terminal Man': 2192, 'The Testament': 2193, 'The Thief Lord': 2194, 'The Thief of Always': 2195, 'The Things They Carried': 2196, 'The Third Option': 2197, 'The Third Twin': 2198, 'The Third Victim': 2199, 'The Thorn Birds': 2200, \"The Time Traveler's Wife\": 2201, \"The Time Traveler's Wife (Harvest Book)\": 2202, \"The Time Traveler's Wife (Today Show Book Club #15)\": 2203, 'The Tipping Point: How Little Things Can Make a Big Difference': 2204, 'The Tommyknockers': 2205, 'The Tortilla Curtain': 2206, 'The Trials of Tiffany Trott': 2207, 'The Triumph of Katie Byrne': 2208, 'The True Confessions of Charlotte Doyle (rack)': 2209, 'The Two Dead Girls (Green Mile Series)': 2210, 'The Two Towers (The Lord of the Rings, Part 2)': 2211, 'The Ugly Duckling': 2212, 'The Unbearable Lightness of Being': 2213, 'The Unbearable Lightness of Being : A Novel (Perennial Classics)': 2214, \"The Undertaker's Widow\": 2215, 'The Vagina Monologues: The V-Day Edition': 2216, 'The Valley of Horses': 2217, 'The Vampire Armand (The Vampire Chronicles, Book 6)': 2218, 'The Vampire Lestat (Vampire Chronicles, Book II)': 2219, 'The Vendetta Defense': 2220, 'The Villa': 2221, 'The Vineyard': 2222, 'The Virgin Blue': 2223, 'The Virgin Suicides': 2224, 'The Vision': 2225, 'The Voice of the Night': 2226, 'The Wailing Wind': 2227, 'The Wasp Factory': 2228, 'The Waste Lands (The Dark Tower, Book 3)': 2229, 'The Web (Alex Delaware Series, No. 10)': 2230, 'The Wedding': 2231, 'The Weight of Water': 2232, 'The Weight of Water : A Novel Tag - Author of Resistance and Strange Fits of Passion': 2233, 'The Weight of Water : A Novel Tag: Author of Resistance and Strange Fits of Passion': 2234, 'The Westing Game (Now in Speak!)': 2235, 'The Wide Window (A Series of Unfortunate Events, Book 3)': 2236, 'The Wind-Up Bird Chronicle': 2237, 'The Winner': 2238, 'The Witches of Eastwick': 2239, 'The Witching Hour (Lives of the Mayfair Witches)': 2240, 'The Witness': 2241, 'The Woman Next Door': 2242, 'The Woman Warrior : Memoirs of a Girlhood Among Ghosts': 2243, 'The World According to Garp': 2244, 'The Worst-Case Scenario Survival Handbook': 2245, 'Their Eyes Were Watching God': 2246, 'Their Eyes Were Watching God: A Novel': 2247, \"Then Again, Maybe I Won't\": 2248, 'Then Came Heaven': 2249, 'Therapy': 2250, 'These High, Green Hills (The Mitford Years)': 2251, 'Thicker Than Water': 2252, 'Things Fall Apart : A Novel': 2253, 'Thinner': 2254, 'This Present Darkness': 2255, 'This Year It Will Be Different: And Other Stories': 2256, 'Thousand Acres': 2257, 'Three Fates': 2258, 'Three Junes': 2259, 'Three To Get Deadly : A Stephanie Plum Novel (A Stephanie Plum Novel)': 2260, 'Three Weeks in Paris': 2261, 'Three Wishes': 2262, \"Thursday'S At Eight\": 2263, \"Thursday's Child\": 2264, 'Thurston House': 2265, 'TickTock': 2266, 'Till We Meet Again': 2267, 'Time And Again': 2268, 'Time Bomb (Alex Delaware Novels (Paperback))': 2269, 'Time Flies': 2270, 'Timeline': 2271, 'Timequake': 2272, 'Tipping the Velvet': 2273, 'Tis : A Memoir': 2274, 'Tis: A Memoir': 2275, 'Tishomingo Blues': 2276, 'To Be the Best': 2277, 'To Kill a Mockingbird': 2278, 'To Love Again': 2279, 'To Say Nothing of the Dog': 2280, 'To Trust a Stranger': 2281, 'To the Hilt': 2282, 'To the Lighthouse': 2283, 'To the Nines: A Stephanie Plum Novel': 2284, \"Tom Clancy's Op-Center (Tom Clancy's Op Center (Paperback))\": 2285, \"Tom Clancy's Op-Center Balance of Power (Tom Clancy's Op Center (Paperback))\": 2286, \"Tom Clancy's Op-Center: Games of State (Tom Clancy's Op Center (Paperback))\": 2287, \"Tom Clancy's Op-Center: Line of Control (Tom Clancy's Op Center (Paperback))\": 2288, \"Tom Clancy's Op-Center: Mirror Image (Tom Clancy's Op Center (Paperback))\": 2289, 'Total Control': 2290, 'Total Recall: A V.I. Warshawski Novel': 2291, 'Touching Evil': 2292, 'Tough Cookie': 2293, 'Toujours Provence (Vintage Departures)': 2294, 'Tourist Season': 2295, 'Toxin': 2296, 'Track of the Cat (Anna Pigeon Mysteries (Paperback))': 2297, 'Trading Places': 2298, 'Traveling Mercies: Some Thoughts on Faith': 2299, 'Travels With Charley: In Search of America': 2300, 'Treasures': 2301, 'Trevayne': 2302, 'Trial by Fire': 2303, 'Tribulation Force: The Continuing Drama of Those Left Behind (Left Behind No. 2)': 2304, 'Tricky Business': 2305, 'Trinity': 2306, 'True Betrayals': 2307, 'True Blue': 2308, 'Truly, Madly Manhattan': 2309, 'Trunk Music (Detective Harry Bosch Mysteries)': 2310, 'Tuck Everlasting': 2311, \"Tuesdays with Morrie: An Old Man, a Young Man, and Life's Greatest Lesson\": 2312, 'Tunnel Vision (V.I. Warshawski Novels (Paperback))': 2313, 'Turtle Moon': 2314, 'Twilight Eyes': 2315, \"Twilight's Child (Cutler)\": 2316, 'Two for the Dough': 2317, 'Uh-Oh: Some Observations from Both Sides of the Refrigerator Door': 2318, 'Unbearable Lightness of Being': 2319, 'Under the Banner of Heaven : A Story of Violent Faith': 2320, 'Under the Tuscan Sun': 2321, 'Under the Tuscan Sun : At Home in Italy': 2322, 'Undue Influence': 2323, 'Unfinished Symphony (Logan)': 2324, 'Unfit to Practice': 2325, 'Unnatural Exposure': 2326, 'Unspeakable': 2327, 'Untamed': 2328, 'Until You': 2329, 'Up Country': 2330, 'Up Island: A Novel': 2331, 'Valhalla Rising (Dirk Pitt Adventures (Paperback))': 2332, \"Valley of the Horses (Auel, Jean M. , Earth's Children.)\": 2333, 'Vanished': 2334, 'Vector': 2335, 'Vernon God Little: A 21st Century Comedy in the Presence of Death': 2336, 'Veronika Decides to Die': 2337, 'Vertical Run': 2338, \"Vinegar Hill (Oprah's Book Club (Paperback))\": 2339, 'Violets Are Blue': 2340, 'Violin': 2341, 'Visions of Sugar Plums': 2342, 'Visions of Sugar Plums: A Stephanie Plum Holiday Novel': 2343, 'Vital Signs': 2344, 'Vittorio the Vampire: New Tales of the Vampires': 2345, 'Void Moon': 2346, 'Voyager': 2347, 'WAITING TO EXHALE': 2348, 'WEB OF DREAMS (Casteel Saga (Paperback))': 2349, 'WLD ACCORDNG GARP': 2350, 'Waiting': 2351, 'Waiting (Vintage International)': 2352, 'Waiting to Exhale': 2353, 'Walk Two Moons': 2354, 'Wanderlust': 2355, 'Warning Signs': 2356, 'Watchers': 2357, 'Watermelon': 2358, 'Watership Down': 2359, 'We Were the Mulvaneys': 2360, \"We'll Meet Again\": 2361, 'Weep No More My Lady': 2362, 'Weep No More, My Lady': 2363, 'Welcome to Dead House (Goosebumps, No 1)': 2364, 'Welcome to My Planet: Where English Is Sometimes Spoken': 2365, 'Welcome to Temptation': 2366, 'Welcome to the World, Baby Girl!': 2367, 'West With the Night': 2368, 'What Dreams May Come : A Novel': 2369, 'What Looks Like Crazy On An Ordinary Day': 2370, 'What We Keep': 2371, \"What We Keep : A Novel (Ballantine Reader's Circle)\": 2372, \"What to Expect When You're Expecting (Revised Edition)\": 2373, 'What to Expect the First Year': 2374, 'When Rabbit Howls': 2375, 'When the Wind Blows': 2376, 'Where Are the Children?': 2377, \"Where There's Smoke\": 2378, 'Where You Belong': 2379, 'Where is Joe Merchant?': 2380, 'Where or When  : A Novel': 2381, 'Where the Heart Is': 2382, \"Where the Heart Is (Oprah's Book Club (Paperback))\": 2383, 'Where the Red Fern Grows': 2384, 'While I Was Gone': 2385, 'While My Pretty One Sleeps': 2386, 'Whirlwind': 2387, 'Whirlwind (The X-Files)': 2388, 'Whirlwind (Tyler, Book 1)': 2389, 'Whisper of Evil (Hooper, Kay. Evil Trilogy.)': 2390, 'Whispers': 2391, 'Whispers and Lies': 2392, 'White Fang': 2393, 'White Noise (Contemporary American Fiction)': 2394, 'White Oleander : A Novel': 2395, \"White Oleander : A Novel (Oprah's Book Club)\": 2396, 'White Teeth: A Novel': 2397, 'Who Moved My Cheese? An Amazing Way to Deal with Change in Your Work and in Your Life': 2398, 'Why Girls Are Weird : A Novel': 2399, 'Wicked: The Life and Times of the Wicked Witch of the West': 2400, 'Wifey': 2401, 'Wild Animus': 2402, 'Wild Horses': 2403, 'Wild Justice': 2404, 'Wild Mountain Thyme': 2405, 'Wild Swans: Three Daughters of China': 2406, 'Windmills of the Gods': 2407, 'Windy City Blues (V.I. Warshawski Novels (Paperback))': 2408, 'Wings': 2409, 'Winter Moon': 2410, 'Winter Prey': 2411, 'Winter Solstice': 2412, \"Winter's Heart (The Wheel of Time, Book 9)\": 2413, \"Winter's Tale\": 2414, 'Wish You Well': 2415, 'Without Remorse': 2416, 'Witness in Death (Eve Dallas Mysteries (Paperback))': 2417, 'Wizard and Glass (The Dark Tower, Book 4)': 2418, \"Wizard's First Rule (Sword of Truth, Book 1)\": 2419, 'Wobegon Boy': 2420, 'Woman on the Edge of Time': 2421, 'Women Who Run with the Wolves': 2422, 'Women in His Life': 2423, 'Women of the Silk : A Novel': 2424, 'Word Freak: Heartbreak, Triumph, Genius, and Obsession in the World of Competitive Scrabble Players': 2425, 'World of Pies : A Novel': 2426, \"Wouldn't Take Nothing for My Journey Now\": 2427, 'Writ of Execution': 2428, 'Writing Down the Bones': 2429, 'Wuthering Heights': 2430, 'Wuthering Heights (Penguin Classics)': 2431, 'Wuthering Heights (Wordsworth Classics)': 2432, 'Xenocide (Ender Wiggins Saga (Paperback))': 2433, 'YOU BELONG TO ME': 2434, 'Year of Wonders': 2435, 'You Belong To Me': 2436, 'You Shall Know Our Velocity': 2437, 'Young Wives': 2438, 'Zen and the Art of Motorcycle Maintenance: An Inquiry into Values': 2439, 'Zoya': 2440, '\\\\O\\\\\" Is for Outlaw\"': 2441, '\\\\Surely You\\'re Joking, Mr. Feynman!\\\\\": Adventures of a Curious Character\"': 2442, 'stardust': 2443}\n"
          ],
          "name": "stdout"
        }
      ]
    },
    {
      "cell_type": "code",
      "metadata": {
        "id": "N6ZJAtpSj6WO"
      },
      "source": [
        "def recommendation(title):\r\n",
        " \r\n",
        "  ind = dict[title]\r\n",
        "  distances, indices = knn.kneighbors(data4_pivot.iloc[ind,:].values.reshape(1, -1), n_neighbors = 10)\r\n",
        "  \r\n",
        "  for i in range(0, len(distances.flatten())):\r\n",
        "    if i == 0:\r\n",
        "        print(\"Recommendations for :\" ,data4_pivot.index[ind] ,\"\\n\")\r\n",
        "    else:\r\n",
        "      print(i,\":\",data4_pivot.index[indices.flatten()[i]],\"with distance of\", distances.flatten()[i])\r\n",
        "        \r\n"
      ],
      "execution_count": 141,
      "outputs": []
    },
    {
      "cell_type": "code",
      "metadata": {
        "colab": {
          "base_uri": "https://localhost:8080/"
        },
        "id": "b0p2yZS8mhax",
        "outputId": "39278557-2e08-4906-8ab1-5992330b8605"
      },
      "source": [
        "recommendation('16 Lighthouse Road')"
      ],
      "execution_count": 142,
      "outputs": [
        {
          "output_type": "stream",
          "text": [
            "Recommendations for : 16 Lighthouse Road \n",
            "\n",
            "1 : Hurricane Bay with distance of 0.765919041125994\n",
            "2 : 204 Rosewood Lane with distance of 0.7700750185907947\n",
            "3 : Dangerous with distance of 0.8066883284051383\n",
            "4 : Rising Tides with distance of 0.8080944266281938\n",
            "5 : Macgregor Brides (Macgregors) with distance of 0.8146040901362714\n",
            "6 : Until You with distance of 0.8178463978903329\n",
            "7 : Tapestry with distance of 0.8297683405747119\n",
            "8 : Purity in Death with distance of 0.8327491540820668\n",
            "9 : French Silk with distance of 0.8404517850809274\n"
          ],
          "name": "stdout"
        }
      ]
    },
    {
      "cell_type": "markdown",
      "metadata": {
        "id": "RzPy9xV4Rzo6"
      },
      "source": [
        "# ${\\color{green}{III)}}~Content~Based~Recommendation~System$"
      ]
    },
    {
      "cell_type": "code",
      "metadata": {
        "id": "jGbMga2RXMqD",
        "colab": {
          "base_uri": "https://localhost:8080/",
          "height": 195
        },
        "outputId": "e000413e-c6af-4693-9a31-0da2af73010b"
      },
      "source": [
        "columns = ['year_of_publication', 'publisher','imageUrlS', 'imageUrlM', 'imageUrlL']\r\n",
        "data = book_data.drop(columns, axis=1)\r\n",
        "data.head()"
      ],
      "execution_count": 143,
      "outputs": [
        {
          "output_type": "execute_result",
          "data": {
            "text/html": [
              "<div>\n",
              "<style scoped>\n",
              "    .dataframe tbody tr th:only-of-type {\n",
              "        vertical-align: middle;\n",
              "    }\n",
              "\n",
              "    .dataframe tbody tr th {\n",
              "        vertical-align: top;\n",
              "    }\n",
              "\n",
              "    .dataframe thead th {\n",
              "        text-align: right;\n",
              "    }\n",
              "</style>\n",
              "<table border=\"1\" class=\"dataframe\">\n",
              "  <thead>\n",
              "    <tr style=\"text-align: right;\">\n",
              "      <th></th>\n",
              "      <th>book_id</th>\n",
              "      <th>book_title</th>\n",
              "      <th>book_author</th>\n",
              "    </tr>\n",
              "  </thead>\n",
              "  <tbody>\n",
              "    <tr>\n",
              "      <th>0</th>\n",
              "      <td>0195153448</td>\n",
              "      <td>Classical Mythology</td>\n",
              "      <td>Mark P. O. Morford</td>\n",
              "    </tr>\n",
              "    <tr>\n",
              "      <th>1</th>\n",
              "      <td>0002005018</td>\n",
              "      <td>Clara Callan</td>\n",
              "      <td>Richard Bruce Wright</td>\n",
              "    </tr>\n",
              "    <tr>\n",
              "      <th>2</th>\n",
              "      <td>0060973129</td>\n",
              "      <td>Decision in Normandy</td>\n",
              "      <td>Carlo D'Este</td>\n",
              "    </tr>\n",
              "    <tr>\n",
              "      <th>3</th>\n",
              "      <td>0374157065</td>\n",
              "      <td>Flu: The Story of the Great Influenza Pandemic...</td>\n",
              "      <td>Gina Bari Kolata</td>\n",
              "    </tr>\n",
              "    <tr>\n",
              "      <th>4</th>\n",
              "      <td>0393045218</td>\n",
              "      <td>The Mummies of Urumchi</td>\n",
              "      <td>E. J. W. Barber</td>\n",
              "    </tr>\n",
              "  </tbody>\n",
              "</table>\n",
              "</div>"
            ],
            "text/plain": [
              "      book_id  ...           book_author\n",
              "0  0195153448  ...    Mark P. O. Morford\n",
              "1  0002005018  ...  Richard Bruce Wright\n",
              "2  0060973129  ...          Carlo D'Este\n",
              "3  0374157065  ...      Gina Bari Kolata\n",
              "4  0393045218  ...       E. J. W. Barber\n",
              "\n",
              "[5 rows x 3 columns]"
            ]
          },
          "metadata": {
            "tags": []
          },
          "execution_count": 143
        }
      ]
    },
    {
      "cell_type": "code",
      "metadata": {
        "id": "zVug_4fYmgoh"
      },
      "source": [
        "data=data.iloc[0:5000,:]"
      ],
      "execution_count": 144,
      "outputs": []
    },
    {
      "cell_type": "code",
      "metadata": {
        "id": "BpZKgMczFTvF"
      },
      "source": [
        "from sklearn.feature_extraction.text import TfidfVectorizer\r\n",
        "\r\n",
        "\r\n",
        "tfv = TfidfVectorizer(min_df=3,  max_features=None, \r\n",
        "            strip_accents='unicode', analyzer='word',token_pattern=r'\\w{1,}',\r\n",
        "            ngram_range=(1, 3),\r\n",
        "            stop_words = 'english')\r\n",
        "\r\n",
        "# Filling NaNs with empty string\r\n",
        "data['book_author'] = data['book_author'].fillna('')"
      ],
      "execution_count": 145,
      "outputs": []
    },
    {
      "cell_type": "code",
      "metadata": {
        "id": "fVlWMUCyVLCi"
      },
      "source": [
        "# Fitting the TF-IDF on the 'book_author' text\r\n",
        "tfv_matrix = tfv.fit_transform(data['book_author'])"
      ],
      "execution_count": 146,
      "outputs": []
    },
    {
      "cell_type": "code",
      "metadata": {
        "id": "i_ZJblaQVfEr",
        "colab": {
          "base_uri": "https://localhost:8080/"
        },
        "outputId": "e3b5723f-3ae1-4538-e29c-a86e10aafed3"
      },
      "source": [
        "tfv_matrix.shape"
      ],
      "execution_count": 147,
      "outputs": [
        {
          "output_type": "execute_result",
          "data": {
            "text/plain": [
              "(5000, 1433)"
            ]
          },
          "metadata": {
            "tags": []
          },
          "execution_count": 147
        }
      ]
    },
    {
      "cell_type": "code",
      "metadata": {
        "id": "JgdpOTu0Vi9g"
      },
      "source": [
        "\r\n",
        "cosine_matrix=np.dot(tfv_matrix,tfv_matrix.T)\r\n",
        "cosine_matrix=cosine_matrix.toarray()"
      ],
      "execution_count": 148,
      "outputs": []
    },
    {
      "cell_type": "code",
      "metadata": {
        "id": "SOMCIUcFvESc",
        "colab": {
          "base_uri": "https://localhost:8080/"
        },
        "outputId": "2860cd8d-43c3-416b-a12a-55a337d840cf"
      },
      "source": [
        "cosine_matrix[0]"
      ],
      "execution_count": 149,
      "outputs": [
        {
          "output_type": "execute_result",
          "data": {
            "text/plain": [
              "array([1., 0., 0., ..., 0., 0., 0.])"
            ]
          },
          "metadata": {
            "tags": []
          },
          "execution_count": 149
        }
      ]
    },
    {
      "cell_type": "code",
      "metadata": {
        "id": "iLI6810FVrIu"
      },
      "source": [
        "# Reverse mapping of indices and book titles\r\n",
        "indices = pd.Series(data.index, index=data['book_title']).drop_duplicates()"
      ],
      "execution_count": 150,
      "outputs": []
    },
    {
      "cell_type": "code",
      "metadata": {
        "id": "8yQ7uJ2QVt-M",
        "colab": {
          "base_uri": "https://localhost:8080/"
        },
        "outputId": "0f20305a-8322-4438-f4eb-bcfbd212c899"
      },
      "source": [
        "indices"
      ],
      "execution_count": 151,
      "outputs": [
        {
          "output_type": "execute_result",
          "data": {
            "text/plain": [
              "book_title\n",
              "Classical Mythology                                                                                      0\n",
              "Clara Callan                                                                                             1\n",
              "Decision in Normandy                                                                                     2\n",
              "Flu: The Story of the Great Influenza Pandemic of 1918 and the Search for the Virus That Caused It       3\n",
              "The Mummies of Urumchi                                                                                   4\n",
              "                                                                                                      ... \n",
              "Strong Poison                                                                                         4995\n",
              "The Bad Girl's Guide to Getting What You Want                                                         4996\n",
              "A Matter of Honor                                                                                     4997\n",
              "Black Water                                                                                           4998\n",
              "Gap Creek: The Story of a Marriage                                                                    4999\n",
              "Length: 5000, dtype: int64"
            ]
          },
          "metadata": {
            "tags": []
          },
          "execution_count": 151
        }
      ]
    },
    {
      "cell_type": "code",
      "metadata": {
        "id": "PuFKI8jhV42o"
      },
      "source": [
        "def content_based_rec(title):\r\n",
        "    idx = indices[title]\r\n",
        "    sig_scores = sorted(list(enumerate(cosine_matrix[idx])), key=lambda x: x[1], reverse=True)\r\n",
        "    sig_scores = sig_scores[1:11]\r\n",
        "    book_indices = [i[0] for i in sig_scores]\r\n",
        "    # Top 10 most similar books\r\n",
        "    return data['book_title'].iloc[book_indices]"
      ],
      "execution_count": 152,
      "outputs": []
    },
    {
      "cell_type": "code",
      "metadata": {
        "id": "q2Pcvi8CWIPJ",
        "colab": {
          "base_uri": "https://localhost:8080/"
        },
        "outputId": "d2d0cb0d-0d87-4a4d-b93d-6b47b8387279"
      },
      "source": [
        "\r\n",
        "content_based_rec('Clara Callan')"
      ],
      "execution_count": 153,
      "outputs": [
        {
          "output_type": "execute_result",
          "data": {
            "text/plain": [
              "951     The Mp3 and Internet Audio Handbook: Your Guid...\n",
              "1315                                   THIS HALLOWED GRND\n",
              "1418                               My Teacher is an Alien\n",
              "2520    Thirty Five Thousand Plus Baby Names: The Larg...\n",
              "4705                    Golf Hall of Shame-12 Copy Prepak\n",
              "4287    Spy Catcher: The Candid Autobiography of a Sen...\n",
              "3479          Poison Apples (Worldwide Library Mysteries)\n",
              "1015                                The Real Mother Goose\n",
              "141                                  The Angelic Darkness\n",
              "394           Astral Travel for Beginners (For Beginners)\n",
              "Name: book_title, dtype: object"
            ]
          },
          "metadata": {
            "tags": []
          },
          "execution_count": 153
        }
      ]
    },
    {
      "cell_type": "code",
      "metadata": {
        "id": "Utz79E8Iya-a",
        "colab": {
          "base_uri": "https://localhost:8080/"
        },
        "outputId": "8c39facf-8176-4e7f-c7a3-b9b877e9a2fe"
      },
      "source": [
        "content_based_rec('Microserfs')"
      ],
      "execution_count": 154,
      "outputs": [
        {
          "output_type": "execute_result",
          "data": {
            "text/plain": [
              "4382                      LIFE AFTER GOD : LIFE AFTER GOD\n",
              "4641       Generation X: Tales for an Accelerated Culture\n",
              "2511                  Principles of Instrumental Analysis\n",
              "2821    The 21 Lessons of Merlyn: A Study in Druid Mag...\n",
              "4410                                              The Day\n",
              "2967         Godel, Escher, Bach: An Eternal Golden Braid\n",
              "1901                The Unofficial Guide to Having a Baby\n",
              "1615                                      The Big Picture\n",
              "1525                           The Cabinet of Curiosities\n",
              "2428                                            Reliquary\n",
              "Name: book_title, dtype: object"
            ]
          },
          "metadata": {
            "tags": []
          },
          "execution_count": 154
        }
      ]
    },
    {
      "cell_type": "markdown",
      "metadata": {
        "id": "nwjwSS3hLmjI"
      },
      "source": [
        "# ${\\color{green}{IV)}}~hybrid~Recommendation~System$\r\n"
      ]
    },
    {
      "cell_type": "code",
      "metadata": {
        "id": "FGJfQJUiQk-y",
        "colab": {
          "base_uri": "https://localhost:8080/"
        },
        "outputId": "7e2eb425-7a03-4a41-c64f-995c7b18db85"
      },
      "source": [
        "from scipy.sparse import csr_matrix\r\n",
        "data4 = data4.drop_duplicates(['user_id', 'book_title'])\r\n",
        "data4_pivot = data4.pivot(index = 'book_title', columns = 'user_id', values = 'bookRating').fillna(0)\r\n",
        "data_matrix = csr_matrix(data4_pivot.values)\r\n",
        "data4_pivot.shape"
      ],
      "execution_count": 155,
      "outputs": [
        {
          "output_type": "execute_result",
          "data": {
            "text/plain": [
              "(2444, 47994)"
            ]
          },
          "metadata": {
            "tags": []
          },
          "execution_count": 155
        }
      ]
    },
    {
      "cell_type": "code",
      "metadata": {
        "id": "Rsq1Ik-VRJmZ",
        "colab": {
          "base_uri": "https://localhost:8080/",
          "height": 195
        },
        "outputId": "5420b333-301a-4989-b602-198c5592748c"
      },
      "source": [
        "columns = ['year_of_publication', 'publisher','imageUrlS', 'imageUrlM', 'imageUrlL']\r\n",
        "data = book_data.drop(columns, axis=1)\r\n",
        "data.head()\r\n",
        "#data=data.iloc[0:5000,:]"
      ],
      "execution_count": 156,
      "outputs": [
        {
          "output_type": "execute_result",
          "data": {
            "text/html": [
              "<div>\n",
              "<style scoped>\n",
              "    .dataframe tbody tr th:only-of-type {\n",
              "        vertical-align: middle;\n",
              "    }\n",
              "\n",
              "    .dataframe tbody tr th {\n",
              "        vertical-align: top;\n",
              "    }\n",
              "\n",
              "    .dataframe thead th {\n",
              "        text-align: right;\n",
              "    }\n",
              "</style>\n",
              "<table border=\"1\" class=\"dataframe\">\n",
              "  <thead>\n",
              "    <tr style=\"text-align: right;\">\n",
              "      <th></th>\n",
              "      <th>book_id</th>\n",
              "      <th>book_title</th>\n",
              "      <th>book_author</th>\n",
              "    </tr>\n",
              "  </thead>\n",
              "  <tbody>\n",
              "    <tr>\n",
              "      <th>0</th>\n",
              "      <td>0195153448</td>\n",
              "      <td>Classical Mythology</td>\n",
              "      <td>Mark P. O. Morford</td>\n",
              "    </tr>\n",
              "    <tr>\n",
              "      <th>1</th>\n",
              "      <td>0002005018</td>\n",
              "      <td>Clara Callan</td>\n",
              "      <td>Richard Bruce Wright</td>\n",
              "    </tr>\n",
              "    <tr>\n",
              "      <th>2</th>\n",
              "      <td>0060973129</td>\n",
              "      <td>Decision in Normandy</td>\n",
              "      <td>Carlo D'Este</td>\n",
              "    </tr>\n",
              "    <tr>\n",
              "      <th>3</th>\n",
              "      <td>0374157065</td>\n",
              "      <td>Flu: The Story of the Great Influenza Pandemic...</td>\n",
              "      <td>Gina Bari Kolata</td>\n",
              "    </tr>\n",
              "    <tr>\n",
              "      <th>4</th>\n",
              "      <td>0393045218</td>\n",
              "      <td>The Mummies of Urumchi</td>\n",
              "      <td>E. J. W. Barber</td>\n",
              "    </tr>\n",
              "  </tbody>\n",
              "</table>\n",
              "</div>"
            ],
            "text/plain": [
              "      book_id  ...           book_author\n",
              "0  0195153448  ...    Mark P. O. Morford\n",
              "1  0002005018  ...  Richard Bruce Wright\n",
              "2  0060973129  ...          Carlo D'Este\n",
              "3  0374157065  ...      Gina Bari Kolata\n",
              "4  0393045218  ...       E. J. W. Barber\n",
              "\n",
              "[5 rows x 3 columns]"
            ]
          },
          "metadata": {
            "tags": []
          },
          "execution_count": 156
        }
      ]
    },
    {
      "cell_type": "code",
      "metadata": {
        "id": "vNBndLK9RUaC"
      },
      "source": [
        "from sklearn.feature_extraction.text import TfidfVectorizer\r\n",
        "\r\n",
        "\r\n",
        "tfv = TfidfVectorizer(max_features=None, \r\n",
        "            strip_accents='unicode', analyzer='word',token_pattern=r'\\w{1,}',\r\n",
        "            ngram_range=(1, 3),\r\n",
        "            stop_words = 'english')\r\n",
        "\r\n",
        "# Filling NaNs with empty string\r\n",
        "data['book_author'] = data['book_author'].fillna('')"
      ],
      "execution_count": 157,
      "outputs": []
    },
    {
      "cell_type": "code",
      "metadata": {
        "id": "e_ee_Dt7QzBZ",
        "colab": {
          "base_uri": "https://localhost:8080/"
        },
        "outputId": "5b71815d-db21-4e8c-984f-8b2c40146973"
      },
      "source": [
        "from sklearn.neighbors import NearestNeighbors\r\n",
        "knn = NearestNeighbors(metric = 'cosine')\r\n",
        "knn.fit(data_matrix)"
      ],
      "execution_count": 158,
      "outputs": [
        {
          "output_type": "execute_result",
          "data": {
            "text/plain": [
              "NearestNeighbors(algorithm='auto', leaf_size=30, metric='cosine',\n",
              "                 metric_params=None, n_jobs=None, n_neighbors=5, p=2,\n",
              "                 radius=1.0)"
            ]
          },
          "metadata": {
            "tags": []
          },
          "execution_count": 158
        }
      ]
    },
    {
      "cell_type": "code",
      "metadata": {
        "id": "PX18TruOQ3Xe",
        "colab": {
          "base_uri": "https://localhost:8080/"
        },
        "outputId": "de729e39-fc57-4288-e868-1a9729828992"
      },
      "source": [
        "dict = {}\r\n",
        "for i in range(data_matrix.shape[0]):\r\n",
        "  dict[data4_pivot.index[i]] = i\r\n",
        "print(dict)\r\n",
        "tit= '16 Lighthouse Road'\r\n",
        "ind = dict[tit]\r\n",
        "distances, indices = knn.kneighbors(data4_pivot.iloc[ind,:].values.reshape(1, -1), n_neighbors = 20)"
      ],
      "execution_count": 159,
      "outputs": [
        {
          "output_type": "stream",
          "text": [
            "{'10 Lb. Penalty': 0, '16 Lighthouse Road': 1, '1984': 2, '1st to Die: A Novel': 3, '2010: Odyssey Two': 4, '204 Rosewood Lane': 5, '2061: Odyssey Three': 6, '24 Hours': 7, '2nd Chance': 8, '3rd Degree': 9, '4 Blondes': 10, '50 Simple Things You Can Do to Save the Earth': 11, '84 Charing Cross Road': 12, 'A 2nd Helping of Chicken Soup for the Soul (Chicken Soup for the Soul Series (Paper))': 13, 'A Beautiful Mind: The Life of Mathematical Genius and Nobel Laureate John Nash': 14, 'A Bend in the Road': 15, 'A Case of Need': 16, 'A Child Called \\\\It\\\\\": One Child\\'s Courage to Survive\"': 17, 'A Civil Action': 18, 'A Clockwork Orange (Norton Paperback Fiction)': 19, 'A Cold Heart (Alex Delaware Novels (Paperback))': 20, 'A Cold Heart: An Alex Delaware Novel': 21, 'A Confederacy of Dunces': 22, 'A Confederacy of Dunces (Evergreen Book)': 23, 'A Cry In The Night': 24, \"A Cup of Tea (Ballantine Reader's Circle)\": 25, 'A Dangerous Fortune': 26, 'A Darkness More Than Night': 27, 'A Day Late and a Dollar Short': 28, 'A Density of Souls': 29, 'A Fine Balance': 30, 'A Game of Thrones (A Song of Ice and Fire, Book 1)': 31, 'A Girl Named Zippy: Growing Up Small in Mooreland Indiana (Today Show Book Club #3)': 32, 'A Great Deliverance': 33, 'A Heartbreaking Work Of Staggering Genius : A Memoir Based on a True Story': 34, 'A Heartbreaking Work of Staggering Genius': 35, 'A Is for Alibi (Kinsey Millhone Mysteries (Paperback))': 36, 'A Kiss of Shadows (Meredith Gentry Novels (Paperback))': 37, 'A Knight in Shining Armor': 38, 'A Lesson Before Dying (Vintage Contemporaries (Paperback))': 39, 'A Light in the Window (The Mitford Years)': 40, 'A Little Princess': 41, 'A Long Fatal Love Chase': 42, \"A Maiden's Grave\": 43, 'A Man Named Dave: A Story of Triumph and Forgiveness': 44, 'A Man in Full': 45, 'A Map of the World': 46, 'A Monk Swimming : A Memoir': 47, 'A Natural History of the Senses': 48, 'A New Song (Mitford Years (Paperback))': 49, 'A Night to Remember': 50, 'A Painted House': 51, 'A Passage to India': 52, 'A Patchwork Planet': 53, \"A Patchwork Planet (Ballantine Reader's Circle)\": 54, 'A Perfect Stranger': 55, 'A Pirate Looks at Fifty': 56, 'A Place Called Freedom': 57, 'A Place of Execution': 58, 'A Portrait of the Artist As a Young Man': 59, 'A Prayer for Owen Meany': 60, 'A RIVER RUNS THROUGH IT AND OTHER STORIES : AND OTHER STORIES': 61, \"A Rose For Her Grave &amp; Other True Cases (Ann Rule's Crime Files)\": 62, 'A Season Beyond a Kiss': 63, \"A Second Chicken Soup for the Woman's Soul (Chicken Soup for the Soul Series)\": 64, 'A Secret Affair': 65, 'A Separate Peace': 66, 'A Short Guide to a Happy Life': 67, 'A Simple Plan': 68, 'A Small Death in Lisbon': 69, 'A Son of the Circus': 70, 'A Spell for Chameleon (Xanth Novels (Paperback))': 71, 'A Sudden Change of Heart': 72, 'A Swiftly Tilting Planet': 73, 'A Theory of Relativity': 74, 'A Thief of Time (Joe Leaphorn/Jim Chee Novels)': 75, 'A Thin Dark Line (Mysteries &amp; Horror)': 76, \"A Thousand Acres (Ballantine Reader's Circle)\": 77, 'A Time to Kill': 78, 'A Traitor to Memory': 79, 'A Tree Grows in Brooklyn': 80, \"A Virtuous Woman (Oprah's Book Club (Paperback))\": 81, 'A Walk Across America': 82, 'A Walk in the Woods: Rediscovering America on the Appalachian Trail': 83, 'A Walk in the Woods: Rediscovering America on the Appalachian Trail (Official Guides to the Appalachian Trail)': 84, 'A Walk to Remember': 85, 'A Widow for One Year': 86, 'A Widow for One Year : A Novel': 87, 'A Wind in the Door': 88, 'A Wizard of Earthsea (Earthsea Trilogy, Book 1)': 89, 'A Woman Betrayed': 90, 'A Woman of Substance': 91, 'A Wrinkle In Time': 92, 'A Wrinkle in Time': 93, 'A Year in Provence': 94, 'A Yellow Raft in Blue Water': 95, 'AGE OF INNOCENCE (MOVIE TIE-IN)': 96, \"ANGELA'S ASHES\": 97, 'Abduction': 98, 'About Face': 99, 'About a Boy': 100, 'About a Boy (Movie Tie-In)': 101, 'Absolute Power': 102, 'Acceptable Risk': 103, 'Accident': 104, 'Accidental Tourist': 105, 'Accordion Crimes': 106, 'Acts of Malice': 107, \"Acts of War (Tom Clancy's Op Center (Paperback))\": 108, 'Adventures of Huckleberry Finn': 109, 'Affinity': 110, 'After All These Years': 111, 'After Dark': 112, 'After the Fire': 113, \"Ahab's Wife: Or, The Star-Gazer: A Novel\": 114, 'Airframe': 115, 'Alaska': 116, 'Alias Grace': 117, 'Alias Grace : A Novel': 118, 'Alive : The Story of the Andes Survivors (Avon Nonfiction)': 119, 'All Around the Town': 120, 'All Creatures Great and Small': 121, 'All He Ever Wanted': 122, 'All I Need Is You': 123, 'All I Need to Know I Learned from My Cat': 124, 'All I Really Need to Know': 125, 'All I Really Need to Know I Learned in Kindergarten: Uncommon Thoughts on Common Things': 126, 'All Quiet on the Western Front': 127, 'All That Glitters (Landry)': 128, 'All That Remains (Kay Scarpetta Mysteries (Paperback))': 129, 'All Things Wise and Wonderful': 130, 'All Through the Night (Holiday Classics)': 131, \"All over but the Shoutin'\": 132, 'All the Pretty Horses (The Border Trilogy, Vol 1)': 133, \"All the Queen's Men\": 134, 'Along Came a Spider (Alex Cross Novels)': 135, 'American Gods': 136, 'American Gods: A Novel': 137, 'American Psycho (Vintage Contemporaries)': 138, 'Amsterdam : A Novel': 139, 'Amy and Isabelle : A novel': 140, 'An Accidental Woman': 141, 'An Equal Music': 142, 'An Indecent Obsession': 143, 'An Instance of the Fingerpost': 144, 'And Ladies of the Club': 145, 'And Never Let Her Go : Thomas Capano: The Deadly Seducer': 146, 'And Then There Were None': 147, 'And Then There Were None : A Novel': 148, 'And Then You Die': 149, 'Angel': 150, 'Angel Falls': 151, \"Angela's Ashes (MMP) : A Memoir\": 152, \"Angela's Ashes: A Memoir\": 153, 'Angelas Ashes': 154, 'Angels': 155, 'Angels &amp; Demons': 156, 'Angels Flight (Detective Harry Bosch Mysteries)': 157, 'Angle of Repose (Contemporary American Fiction)': 158, 'Angry Housewives Eating Bon Bons': 159, \"Angry Housewives Eating Bon Bons (Ballantine Reader's Circle)\": 160, 'Angus, Thongs and Full-Frontal Snogging: Confessions of Georgia Nicolson': 161, \"Anil's Ghost (Vintage International)\": 162, 'Animal Dreams': 163, 'Animal Farm': 164, 'Animal Husbandry': 165, 'Anne Frank: The Diary of a Young Girl': 166, 'Anne of Avonlea (Anne of Green Gables Novels (Paperback))': 167, 'Anne of Green Gables': 168, 'Anne of Green Gables (Anne of Green Gables Novels (Paperback))': 169, 'Anne of Ingleside (Anne of Green Gables Novels (Paperback))': 170, 'Anne of Windy Poplars (Anne of Green Gables Novels (Paperback))': 171, 'Anne of the Island': 172, \"Anne's House of Dreams\": 173, 'Another City, Not My Own: A Novel in the Form of a Memoir': 174, 'Another Roadside Attraction': 175, 'Answered Prayers': 176, 'Anthem': 177, 'Apocalipstick': 178, 'Apollo 13 : Lost Moon': 179, 'Apollyon: The Destroyer Is Unleashed (Left Behind No. 5)': 180, 'Archangel': 181, \"Are You There God?  It's Me, Margaret\": 182, 'Artemis Fowl (Artemis Fowl, Book 1)': 183, 'As Nature Made Him: The Boy Who Was Raised As a Girl': 184, 'As the Crow Flies': 185, 'Ashes to Ashes': 186, 'Asking for Trouble: A Novel': 187, 'Assassins: Assignment: Jerusalem, Target: Antichrist (Left Behind No. 6)': 188, 'At Home in Mitford (The Mitford Years)': 189, 'At Risk': 190, 'Atlantis Found': 191, 'Atlas Shrugged': 192, 'Atonement : A Novel': 193, 'Atonement: A Novel': 194, 'Autobiography of a Face': 195, 'Awakening': 196, 'B Is for Burglar (Kinsey Millhone Mysteries (Paperback))': 197, 'BAG OF BONES : A NOVEL': 198, 'BODY FARM': 199, 'Babyhood': 200, 'Babyville': 201, \"Bachelor Brothers' Bed &amp; Breakfast\": 202, 'Back Roads': 203, \"Back When We Were Grownups : A Novel (Ballantine Reader's Circle)\": 204, 'Back When We Were Grownups: A Novel': 205, 'Bad Boy': 206, 'Bad Heir Day': 207, 'Bad Love (Alex Delaware Novels (Paperback))': 208, 'Bag of Bones': 209, 'Balzac and the Little Chinese Seamstress': 210, 'Balzac and the Little Chinese Seamstress : A Novel': 211, \"Band of Brothers : E Company, 506th Regiment, 101st Airborne from Normandy to Hitler's Eagle's Nest\": 212, 'Bare Bones : A Novel': 213, 'Barrel Fever : Stories and Essays (Barrel Fever)': 214, 'Basket Case': 215, 'Bastard Out of Carolina': 216, 'Battlefield Earth: A Saga of the Year 3000': 217, 'Baudolino': 218, 'Be Cool': 219, 'Beach House': 220, 'Beach Music': 221, 'Bearing an Hourglass (Incarnations of Immortality (Paperback))': 222, 'Beauty': 223, 'Bee Season: A Novel': 224, 'Before I Say Good-Bye': 225, 'Before I Say Good-Bye : A Novel': 226, \"Before Women Had Wings (Ballantine Reader's Circle)\": 227, 'Before and After': 228, 'Behind the Scenes at the Museum': 229, 'Behind the Scenes at the Museum : A Novel': 230, 'Bel Canto': 231, 'Bel Canto: A Novel': 232, 'Belinda': 233, 'Bell Jar': 234, 'Bellwether': 235, 'Beloved': 236, 'Beloved (Plume Contemporary Fiction)': 237, 'Beneath the Skin': 238, 'Betrayal in Death': 239, 'Between Friends': 240, 'Beyond Eden': 241, \"Big Cherry Holler: A Big Stone Gap Novel (Ballantine Reader's Circle)\": 242, 'Big Fish': 243, 'Big Stone Gap': 244, \"Big Stone Gap: A Novel (Ballantine Reader's Circle)\": 245, 'Big Trouble': 246, 'Billy': 247, 'Billy Straight : A Novel': 248, \"Bio-Strike (Tom Clancy's Power Plays (Paperback))\": 249, 'Bird by Bird: Some Instructions on Writing and Life': 250, 'Birdman': 251, 'Birds of Prey: A Novel of Suspense': 252, 'Birthright': 253, 'Bitter Harvest': 254, 'Bitter Sweet': 255, 'Bittersweet': 256, 'Black Friday': 257, 'Black Hawk Down (Movie Tie-in)': 258, 'Black Hawk Down: A Story of Modern War': 259, 'Black House': 260, 'Black Lightning': 261, 'Black Like Me': 262, 'Black Notice': 263, 'Black Sunday': 264, 'Black Water': 265, 'Black and Blue': 266, 'Black and Blue : A Novel': 267, 'Blackberry Wine': 268, 'Blackbird: A Childhood Lost and Found': 269, 'Blackout': 270, 'Blackwood Farm (Rice, Anne, Vampire Chronicles.)': 271, 'Bleachers': 272, 'Bless Me, Ultima': 273, 'Blessings': 274, 'Blessings : A Novel': 275, 'Blind Faith': 276, 'Blindness (Harvest Book)': 277, 'Blindsight': 278, 'Blindsighted': 279, 'Blood Lure': 280, 'Blood Orchid': 281, 'Blood Shot (V.I. Warshawski Novels (Paperback))': 282, 'Blood Work': 283, 'Blood and Gold (Rice, Anne, Vampire Chronicles.)': 284, 'Bloodline': 285, 'Bloodstream': 286, 'Bloodsucking Fiends: A Love Story': 287, 'Bloody Bones (Anita Blake Vampire Hunter (Paperback))': 288, 'Blow Fly: A Scarpetta Novel': 289, 'Blue Diary': 290, 'Blue Highways a Journey Into America': 291, 'Blue Moon': 292, 'Blue Shoe': 293, 'Body of Evidence': 294, 'Body of Evidence (Kay Scarpetta Mysteries (Paperback))': 295, 'Body of Lies': 296, 'Book Club': 297, 'Booked to Die (Cliff Janeway Novels (Paperback))': 298, 'Bookends : A Novel': 299, 'Border Music': 300, 'Born in Fire': 301, 'Born in Ice': 302, 'Born in Shame': 303, 'Bourne Identity': 304, \"Boy's Life\": 305, 'Brain Droppings': 306, 'Brave New World': 307, 'Brazen Virtue': 308, 'Breach of Promise': 309, 'Breakfast of Champions': 310, \"Breaking Point (Tom Clancy's Net Force, No. 4)\": 311, 'Breath, Eyes, Memory': 312, 'Breathing Lessons': 313, 'Briar Rose': 314, 'Brideshead Revisited': 315, 'Bridge to Terabithia': 316, 'Bridget Jones : The Edge of Reason': 317, \"Bridget Jones's Diary\": 318, 'Bridget Jones: The Edge of Reason': 319, 'Burn Factor': 320, 'Burn Marks (V.I. Warshawski Novels (Paperback))': 321, 'Butterfly (Orphans)': 322, 'By the Light of the Moon': 323, 'Bygones': 324, 'C Is for Corpse (Kinsey Millhone Mysteries (Paperback))': 325, \"CAT'S EYE\": 326, 'CHOCOLATE FOR A WOMANS SOUL : 77 STORIES TO FEED YOUR SPIRIT AND WARM YOUR HEART (Chocolate)': 327, 'CRY IN THE NIGHT, A': 328, 'Cabin': 329, 'Call of the Wild': 330, 'Can You Keep a Secret?': 331, 'Candide (Penguin Classics)': 332, 'Cane River': 333, \"Cane River (Oprah's Book Club (Paperback))\": 334, 'Cannery Row': 335, 'Capital Crimes': 336, 'Caribbean': 337, 'Carnal Innocence': 338, 'Carolina Moon': 339, 'Carrie': 340, 'Carter Beats the Devil': 341, 'Castles': 342, 'Cat &amp; Mouse (Alex Cross Novels)': 343, 'Cat and Mouse': 344, \"Cat's Cradle\": 345, \"Cat's Eye\": 346, 'Catch 22': 347, 'Catch Me If You Can: The True Story of a Real Fake': 348, 'Catering to Nobody': 349, 'Catherine, Called Birdy (Trophy Newbery)': 350, 'Cause Celeb': 351, 'Cause of Death': 352, 'Cavedweller': 353, 'Celestial Navigation': 354, 'Certain Prey': 355, 'Changes': 356, 'Chapterhouse Dune (Dune Chronicles, Book 6)': 357, 'Charade': 358, 'Charlie and the Chocolate Factory': 359, \"Charlotte's Web\": 360, \"Charlotte's Web (Trophy Newbery)\": 361, 'Charming Billy': 362, 'Charms for Easy Life': 363, 'Chasing Cezanne': 364, 'Chasing the Dime': 365, 'Cheaper by the Dozen': 366, 'Cheet (Plume Books)': 367, 'Chesapeake': 368, 'Chesapeake Blue (Quinn Brothers (Hardcover))': 369, 'Chicken Soup for the College Soul : Inspiring and Humorous Stories for College Students (Chicken Soup for the Soul)': 370, \"Chicken Soup for the Mother's Soul (Chicken Soup for the Soul Series (Paper))\": 371, \"Chicken Soup for the Pet Lover's Soul (Chicken Soup for the Soul)\": 372, 'Chicken Soup for the Soul (Chicken Soup for the Soul)': 373, 'Chicken Soup for the Teenage Soul (Chicken Soup for the Soul)': 374, 'Chicken Soup for the Teenage Soul II (Chicken Soup for the Soul Series)': 375, \"Chicken Soup for the Woman's Soul (Chicken Soup for the Soul Series (Paper))\": 376, 'Child of My Heart': 377, \"Childhood's End\": 378, 'Children of Dune (Dune Chronicles, Book 3)': 379, 'Chocolat': 380, 'Choke': 381, 'Chopping Spree': 382, 'Chosen Prey': 383, 'Christine': 384, 'Christmas Box (Christmas Box Trilogy)': 385, 'Christy': 386, 'Chromosome 6': 387, 'Circle of Friends': 388, 'Circle of Three: A Novel': 389, 'Circus of the Damned (Anita Blake Vampire Hunter (Paperback))': 390, 'City of Bones': 391, 'City of Golden Shadow (Otherland, Volume 1)': 392, 'City of Light': 393, 'Clan of the Cave Bear': 394, 'Claws and Effect': 395, 'Clear and Present Danger': 396, 'Clear and Present Danger (Jack Ryan Novels)': 397, 'Cloud Nine': 398, 'Club Dead (Southern Vampire Mysteries)': 399, 'Coast Road: A Novel': 400, 'Coastliners : A Novel': 401, 'Code to Zero': 402, 'Cold Blooded': 403, 'Cold Case': 404, 'Cold Fire': 405, 'Cold Mountain': 406, 'Cold Mountain : A Novel': 407, 'Cold Paradise (Stone Barrington Novels (Paperback))': 408, 'Cold Sassy Tree': 409, 'Colony': 410, 'Color Purple': 411, 'Come to Grief': 412, 'Comeback': 413, 'Coming Home': 414, 'Communion : A True Story': 415, 'Compelling Evidence': 416, 'Confessions of a Shopaholic': 417, 'Confessions of a Shopaholic (Summer Display Opportunity)': 418, 'Confessions of a Sociopathic Social Climber : The Katya Livingston Chronicles (Katya Livingston Chronicles (Hardcover))': 419, 'Confessions of an Ugly Stepsister : A Novel': 420, 'Congo': 421, 'Considering Kate (The Stanislaskis) (Silhouette Special Edition)': 422, 'Contact': 423, 'Contagion': 424, 'Conversations with God : An Uncommon Dialogue (Book 1)': 425, 'Coraline': 426, \"Cordina's Crown Jewel\": 427, \"Corelli's Mandolin : A Novel\": 428, 'Couplehood': 429, 'Courting Trouble': 430, 'Coyote Blue': 431, 'Coyote Waits (Joe Leaphorn/Jim Chee Novels)': 432, 'Cradle and All': 433, 'Crazy for You': 434, 'Crazy in Alabama': 435, 'Creature': 436, 'Creed for the Third Millennium': 437, 'Critical Judgment': 438, 'Critical Mass': 439, 'Crocodile on the Sandbank': 440, 'Crooked Little Heart': 441, 'Crossings': 442, 'Crow Lake (Today Show Book Club #7)': 443, 'Cruel &amp; Unusual (Kay Scarpetta Mysteries (Paperback))': 444, 'Cry Wolf': 445, 'Cry to Heaven': 446, \"Cry, the Beloved Country (Oprah's Book Club)\": 447, 'Cryptonomicon': 448, 'Crystal Line': 449, 'Cuba Libre': 450, 'Cujo': 451, \"Cybernation (Tom Clancy's Net Force, No. 6)\": 452, 'D Is for Deadbeat (Kinsey Millhone Mysteries (Paperback))': 453, 'DAUGHTER OF TIME': 454, 'DEAD BY SUNSET : DEAD BY SUNSET': 455, 'Daddy': 456, \"Daddy's Little Girl\": 457, 'Daisy Fay and the Miracle Man': 458, 'Dance Hall of the Dead (Joe Leaphorn Novels)': 459, 'Dance upon the Air (Three Sisters Island Trilogy)': 460, 'Dances With Wolves': 461, 'Dandelion Wine (Grand Master Editions)': 462, 'Dangerous': 463, 'Dangerous to Know': 464, 'Daring to Dream': 465, 'Dark Angel': 466, 'Dark Horse': 467, 'Dark Lady': 468, 'Dark Paradise': 469, 'Dark Rivers of the Heart': 470, 'Dark Water (Mira Romantic Suspense)': 471, 'Darkest Hour (Cutler)': 472, 'Darkfall': 473, 'Darkness': 474, \"Darwin's Radio\": 475, 'Das Parfum: Die Geschichte Eines Morders': 476, 'Dating Big Bird': 477, 'Dating Game': 478, 'Dating Without Novocaine (Red Dress Ink)': 479, 'Daughter of Fortune': 480, \"Daughter of Fortune : A Novel (Oprah's Book Club (Hardcover))\": 481, 'Daughter of Fortune: A Novel': 482, 'Dave Barry in Cyberspace': 483, \"Dave Barry's Greatest Hits\": 484, 'Dawn (Cutler)': 485, 'Day of Confession': 486, 'Daybreak': 487, 'Dazzle': 488, 'Dead Aim': 489, 'Dead Even': 490, 'Dead Famous': 491, 'Dead Ringer': 492, 'Dead Run': 493, 'Dead Sleep': 494, 'Dead Until Dark (Southern Vampire Mysteries)': 495, 'Dead in the Water': 496, 'Deadly Decisions': 497, 'Death du Jour': 498, 'Death in Holy Orders : An Adam Dalgliesh Mystery': 499, 'Death of A Salesman': 500, 'Debt of Honor': 501, 'Debt of Honor (Jack Ryan Novels)': 502, 'Deception Point': 503, 'Deception on His Mind': 504, 'Decider': 505, 'Deck the Halls': 506, 'Deck the Halls (Holiday Classics)': 507, 'Deep South': 508, 'Degree of Guilt': 509, 'Deja Dead': 510, 'Demolition Angel': 511, 'Demon Seed': 512, 'Der Vorleser': 513, 'Desecration: Antichrist Takes the Throne (Left Behind No. 9)': 514, 'Desert Solitaire': 515, 'Desperation': 516, 'Detective: A Novel': 517, 'Devices and Desires': 518, \"Devil's Waltz (Alex Delaware Novels (Paperback))\": 519, 'Diary of a Mad Bride (Summer Display Opportunity)': 520, 'Different Seasons': 521, 'Different Seasons (Signet)': 522, 'Digital Fortress : A Thriller': 523, 'Dinner at the Homesick Restaurant': 524, \"Dirk Gently's Holistic Detective Agency\": 525, 'Dirty Jokes and Beer : Stories of the Unrefined': 526, 'Disclosure': 527, 'Disgrace': 528, 'Disobedience: A Novel': 529, 'Distant Shores': 530, 'Divine Secrets of the Ya-Ya Sisterhood : A Novel': 531, 'Divine Secrets of the Ya-Ya Sisterhood: A Novel': 532, 'Dog Handling': 533, 'Doing Good': 534, 'Dolores Claiborne': 535, \"Don't Let's Go to the Dogs Tonight : An African Childhood\": 536, \"Don't Stand Too Close to a Naked Man\": 537, \"Don't Sweat the Small Stuff and It's All Small Stuff : Simple Ways to Keep the Little Things from Taking Over Your Life (Don't Sweat the Small Stuff Series)\": 538, 'Doomsday Book': 539, 'Downtown': 540, \"Dr. Atkins' New Diet Revolution\": 541, 'Dr. Death (Alex Delaware Novels (Paperback))': 542, 'Dr. Death: A Novel': 543, 'Dracula': 544, 'Dracula (Signet Classics (Paperback))': 545, 'Dragon Tears': 546, 'Dragonflight (Dragonriders of Pern Trilogy (Paperback))': 547, 'Dragonfly in Amber': 548, 'Dragons of Autumn Twilight (Dragonlance Chronicles, Vol 1)': 549, 'Dragonsdawn': 550, 'Dream Country': 551, 'Dreamcatcher': 552, 'Driving Force': 553, 'Drowning Ruth': 554, \"Drowning Ruth (Oprah's Book Club)\": 555, 'Drums of Autumn': 556, \"Dude, Where's My Country?\": 557, 'Dune': 558, 'Dune (Remembering Tomorrow)': 559, 'Dune Messiah (Dune Chronicles, Book 2)': 560, 'Dust to Dust': 561, 'Dying for Chocolate (Culinary Mysteries (Paperback))': 562, 'Dying to Please': 563, 'E Is for Evidence: A Kinsey Millhone Mystery (Kinsey Millhone Mysteries (Paperback))': 564, 'EVERYTHING SHE EVER WANTED': 565, 'East of Eden': 566, \"East of Eden (Oprah's Book Club)\": 567, 'East of the Mountains': 568, 'East of the Mountains (Vintage Contemporaries (Paperback))': 569, 'Easy Prey': 570, 'Eaters of the Dead': 571, 'Eats, Shoots &amp; Leaves: The Zero Tolerance Approach to Punctuation': 572, 'Echoes': 573, 'Eden Close': 574, \"Einstein's Dreams\": 575, 'Eleventh Hour: An FBI Thriller (FBI Thriller (Jove Paperback))': 576, 'Elfstones of Shannara': 577, 'Ella Minnow Pea: A Novel in Letters': 578, 'Ellen Foster': 579, 'Embraced by the Light': 580, 'Emma': 581, 'Empire Falls': 582, 'Empty Promises': 583, \"Enchanters' End Game (The Belgariad, Book 5)\": 584, 'Enchantment': 585, 'Endangered Species (Anna Pigeon Mysteries (Paperback))': 586, \"Ender's Game (Ender Wiggins Saga (Paperback))\": 587, \"Ender's Shadow\": 588, 'Enemy Women: A Novel': 589, 'Engaging Men (Red Dress Ink (Paperback))': 590, 'Engaging The Enemy': 591, 'Envy': 592, 'Eragon (Inheritance, Book 1)': 593, 'Escape the Night': 594, 'Eternity': 595, 'Eva Luna': 596, 'Even Cowgirls Get the Blues': 597, 'Evening': 598, 'Evening Class': 599, 'Every Breath You Take : A True Story of Obsession, Revenge, and Murder': 600, 'Every Living Thing': 601, 'Everything Is Illuminated : A Novel': 602, \"Everything's Eventual : 14 Dark Tales\": 603, 'Exclusive': 604, 'Executive Orders': 605, 'Executive Orders (Jack Ryan Novels)': 606, 'Exit to Eden': 607, 'Exodus': 608, 'Extreme Measures': 609, 'Eye of the Beholder': 610, 'Eyes of Prey': 611, 'Eyes of a Child': 612, 'Eyes of the Dragon': 613, 'F Is for Fugitive (Kinsey Millhone Mysteries (Paperback))': 614, 'FIRST WIVES CLUB': 615, 'FLOOD TIDE': 616, 'FOREVER : A Novel of Good and Evil, Love and Hope': 617, 'FORREST GUMP (Movie Tie in)': 618, \"FROM POTTER'S FIELD\": 619, 'Face the Fire (Three Sisters Island Trilogy)': 620, 'Fahrenheit 451': 621, 'Faking It': 622, 'Fall On Your Knees (Oprah #45)': 623, 'Fall on Your Knees': 624, 'Fallen Hearts': 625, 'Falling Angels': 626, 'Falling Leaves Brit Edition': 627, 'Falling Leaves: The True Story of an Unwanted Chinese Daughter': 628, 'False Memory': 629, 'False Pretenses': 630, 'Family Album': 631, 'Family Blessings': 632, 'Family Honor': 633, 'Family: The Ties That Bind and Gag': 634, 'Farewell To Arms': 635, 'Farewell to Manzanar: A True Story of Japanese American Experience During and  After the World War II Internment': 636, 'Farm Fatale: A Comedy of Country Manors': 637, 'Fast Food Nation: The Dark Side of the All-American Meal': 638, 'Fast Women': 639, 'Fat Tuesday': 640, 'Fatal': 641, 'Fatal Cure': 642, 'Fatal Voyage': 643, 'Fatherhood': 644, 'Fault Lines': 645, 'Fear Nothing': 646, 'Fear and Loathing in Las Vegas : A Savage Journey to the Heart of the American Dream': 647, 'Feast of All Saints': 648, \"Felicia's Journey\": 649, 'Female Intelligence': 650, 'Fever': 651, 'Fever Pitch': 652, 'Field of Thirteen': 653, 'Fierce Invalids Home from Hot Climates': 654, 'Fight Club': 655, 'Filthy Rich': 656, 'Final Appeal': 657, 'Final Target': 658, 'Find Me': 659, 'Finding Moon': 660, 'Finding the Dream': 661, 'Fine Things': 662, 'Fingersmith': 663, 'Fire Ice: A Novel from the Numa Files (Kurt Austin Adventures (Paperback))': 664, 'Firebird': 665, 'Firefly Beach': 666, 'Firefly Summer': 667, 'Firestarter': 668, 'Firestorm (Anna Pigeon Mysteries (Paperback))': 669, 'First Offense': 670, 'Fishbowl (Red Dress Ink (Paperback))': 671, 'Five Days in Paris': 672, 'Five Quarters of the Orange': 673, 'Flashback': 674, 'Flatland: A Romance of Many Dimensions (Dover Thrift Editions)': 675, 'Flesh Tones: A Novel': 676, 'Flesh and Blood': 677, 'Flight Lessons': 678, 'Flight of the Old Dog': 679, 'Flirting with Pete : A Novel': 680, 'Flowers In The Attic (Dollanganger)': 681, 'Flowers for Algernon (Bantam Classic)': 682, 'Fluke : Or, I Know Why the Winged Whale Sings': 683, 'Follow the Stars Home': 684, 'For Better, for Worse: A Novel': 685, 'For Love': 686, 'For the Roses': 687, 'For the Sake of Elena': 688, 'Forbidden Fruit': 689, 'Forever and Always': 690, 'Forever... : A Novel of Good and Evil, Love and Hope': 691, \"Fortune's Hand\": 692, \"Fortune's Rocks : A Novel\": 693, \"Fortune's Rocks: A Novel\": 694, \"Foucault's Pendulum\": 695, 'Foundation (Foundation Novels (Paperback))': 696, 'Four Blind Mice': 697, 'Four Blondes': 698, 'Four Past Midnight': 699, 'Four To Score (A Stephanie Plum Novel)': 700, 'Fourplay: A Novel': 701, 'Fourth Procedure': 702, 'Frankenstein': 703, 'Frankenstein (Changing Our World)': 704, 'Franny and Zooey': 705, 'Free': 706, 'Free Fall': 707, 'French Silk': 708, 'Friday': 709, 'Fried Green Tomatoes at the Whistle Stop Cafe': 710, \"From Potter's Field\": 711, 'From a Buick 8': 712, 'From a Buick 8 : A Novel': 713, 'From the Corner of His Eye': 714, 'From the Heart: Tonight and Always/A Matter of Choice/Endings and Beginnings': 715, 'From the Mixed-Up Files of Mrs. Basil E. Frankweiler': 716, \"Full Blast (Janet Evanovich's Full Series)\": 717, 'Full Circle': 718, \"Full House (Janet Evanovich's Full Series)\": 719, \"Full Speed (Janet Evanovich's Full Series)\": 720, \"Full Tilt (Janet Evanovich's Full Series)\": 721, 'G Is for Gumshoe (Kinsey Millhone Mysteries (Paperback))': 722, 'GARDEN OF SHADOWS (Dollanger Saga (Paperback))': 723, 'Gai-Jin: A Novel of Japan': 724, 'Galapagos': 725, \"Galileo's Daughter: A Historical Memoir of Science, Faith, and Love\": 726, 'Gap Creek: A Novel': 727, 'Gap Creek: The Story Of A Marriage': 728, 'Gap Creek: The Story of a Marriage': 729, 'Gates of Paradise': 730, 'Geek Love': 731, 'Generation X: Tales for an Accelerated Culture': 732, 'Genuine Lies': 733, \"Gerald's Game\": 734, 'Get Shorty': 735, 'Getting Over It': 736, 'Getting Rid Of Bradley': 737, 'Ghost Moon': 738, 'Gift from the Sea': 739, 'Girl With a Pearl Earring': 740, 'Girl in Hyacinth Blue': 741, 'Girl with a Pearl Earring': 742, 'Girl, Interrupted': 743, 'Girlfriend in a Coma': 744, 'Girlfriends: Invisible Bonds, Enduring Ties': 745, 'Girls Night': 746, \"Girls' Poker Night\": 747, 'Glory in Death': 748, 'Go Ask Alice': 749, 'God Emperor of Dune (Dune Chronicles, Book 4)': 750, 'God Save the Sweet Potato Queens': 751, 'Godplayer': 752, 'Going Home': 753, 'Gone But Not Forgotten': 754, 'Gone For Good': 755, 'Gone for Good': 756, 'Gone with the Wind': 757, 'Good Harbor: A Novel': 758, 'Good Omens': 759, 'Good in Bed': 760, 'Gorky Park': 761, 'Grand Avenue': 762, 'Granny Dan': 763, 'Grave Secrets': 764, 'Grave Secrets (Temperance Brennan Novel (Hardcover))': 765, 'Gravity : A Novel of Medical Suspense': 766, 'Great Expectations': 767, 'Grendel': 768, 'Griffin &amp; Sabine: An Extraordinary Correspondence': 769, 'Ground Zero and Beyond': 770, 'Growing Pains of Adrian Mole': 771, 'Growing Up': 772, 'Guardian': 773, 'Guardian Angel': 774, 'Guilt': 775, 'Guilty Pleasures (Anita Blake Vampire Hunter (Paperback))': 776, 'Guilty as Sin': 777, 'Guns, Germs, and Steel: The Fates of Human Societies': 778, 'H Is for Homicide (Kinsey Millhone Mysteries (Paperback))': 779, 'Half Asleep in Frog Pajamas': 780, 'Hamlet': 781, \"Hanna's Daughters (Ballantine Reader's Circle)\": 782, 'Hannibal': 783, 'Hard Eight : A Stephanie Plum Novel (A Stephanie Plum Novel)': 784, 'Hard Time (V.I. Warshawski Novels (Paperback))': 785, 'Harmful Intent': 786, 'Harriet the Spy': 787, 'Harry Potter and the Chamber of Secrets (Book 2)': 788, 'Harry Potter and the Goblet of Fire (Book 4)': 789, 'Harry Potter and the Order of the Phoenix (Book 5)': 790, 'Harry Potter and the Prisoner of Azkaban (Book 3)': 791, \"Harry Potter and the Sorcerer's Stone (Book 1)\": 792, \"Harry Potter and the Sorcerer's Stone (Harry Potter (Paperback))\": 793, 'Harvest': 794, 'Hatchet': 795, 'Haunted': 796, \"Having Our Say : The Delany Sisters' First 100 Years\": 797, 'Hawaii': 798, \"He Sees You When You're Sleeping : A Novel\": 799, 'Heart Song (Logan)': 800, 'Heart of a Warrior': 801, 'Heart of the Sea (Irish Trilogy)': 802, 'Heartbeat': 803, 'Heartbreaker': 804, 'Hearts In Atlantis': 805, 'Hearts In Atlantis : New Fiction': 806, 'Hearts in Atlantis': 807, 'Heaven': 808, 'Heaven and Earth (Three Sisters Island Trilogy)': 809, 'Heir to the Empire (Star Wars: The Thrawn Trilogy, Vol. 1)': 810, 'Hello, Darkness': 811, 'Hemlock Bay': 812, \"Her Father's House\": 813, 'Here on Earth': 814, \"Here on Earth (Oprah's Book Club)\": 815, \"Hidden Agendas (Tom Clancy's Net Force, No. 2)\": 816, 'Hidden Jewel (Landry)': 817, 'Hidden Riches': 818, 'Hide &amp; Seek': 819, 'Hideaway': 820, 'Hiding Place': 821, 'Hiding in the Shadows (Shadows Trilogy (Paperback))': 822, 'High Fidelity': 823, 'High Five (A Stephanie Plum Novel)': 824, 'High Maintenance': 825, 'High Tide': 826, 'Hill Towns': 827, 'Hiroshima': 828, \"Hitchhikers's Guide to the Galaxy\": 829, 'Hocus Pocus': 830, 'Holding the Dream (Dream Trilogy)': 831, 'Holes': 832, 'Holes (Yearling Newbery)': 833, 'Holidays on Ice : Stories': 834, 'Home Song': 835, 'Home for the Holidays': 836, 'Homecoming': 837, 'Homeport': 838, 'Honest Illusions': 839, 'Honor Among Thieves': 840, 'Hornet Flight': 841, \"Hornet's Nest\": 842, 'Horse Whisperer': 843, 'Hot Ice': 844, 'Hot Six : A Stephanie Plum Novel (A Stephanie Plum Novel)': 845, 'House Atreides (Dune: House Trilogy, Book 1)': 846, 'House of Leaves': 847, 'House of Sand and Fog': 848, 'Housekeeping': 849, 'How Stella Got Her Groove Back': 850, 'How To Win Friends And Influence People': 851, 'How the Garcia Girls Lost Their Accents (Plume Contemporary Fiction)': 852, 'How to Be Good': 853, 'How to Eat Fried Worms': 854, 'How to Make an American Quilt': 855, 'Howards End': 856, 'Hunting Badger (Joe Leaphorn/Jim Chee Novels)': 857, 'Hunting Season (Anna Pigeon Novels (Paperback))': 858, 'Hurricane Bay': 859, 'Hush': 860, 'I Capture the Castle': 861, \"I Don't Know How She Does It\": 862, \"I Don't Know How She Does It: The Life of Kate Reddy, Working Mother\": 863, 'I Heard the Owl Call My Name': 864, 'I Is for Innocent': 865, 'I Know This Much Is True': 866, \"I Know This Much Is True (Oprah's Book Club)\": 867, 'I Know Why the Caged Bird Sings': 868, 'I Never Promised You a Rose Garden': 869, \"I'll Be Seeing You\": 870, \"I'll Take Manhattan\": 871, \"I'm Not Really Here\": 872, \"I'm a Stranger Here Myself: Notes on Returning to America After 20 Years Away\": 873, 'I, Robot': 874, 'Iacocca: An Autobiography': 875, \"Ice Bound: A Doctor's Incredible Battle for Survival at the South Pole\": 876, 'Icebound': 877, 'Iced': 878, 'Icy Sparks': 879, 'Idoru': 880, \"If I'd Killed Him When I Met Him (Elizabeth MacPherson Novels (Paperback))\": 881, 'If Looks Could Kill': 882, 'If Only It Were True': 883, 'If Tomorrow Comes': 884, 'Ill Wind (Anna Pigeon Mysteries (Paperback))': 885, 'Illuminati.': 886, 'Illusions': 887, 'Illusions: The Adventures of a Reluctant Messiah': 888, 'Imajica': 889, 'Imitation in Death (Eve Dallas Mysteries (Paperback))': 890, 'Impulse': 891, 'In Cold Blood (Vintage International)': 892, 'In Her Shoes : A Novel': 893, 'In Pursuit of the Proper Sinner': 894, 'In a Sunburned Country': 895, 'In the Heart of the Sea: The Tragedy of the Whaleship Essex': 896, \"In the Kitchen With Rosie: Oprah's Favorite Recipes\": 897, 'In the Lake of the Woods': 898, 'In the Presence of the Enemy': 899, 'Inca Gold (Clive Cussler)': 900, 'Inconceivable': 901, 'Inner Harbor (Quinn Brothers (Paperback))': 902, 'Insomnia': 903, 'Intensity': 904, 'Interest of Justice': 905, 'Interpreter of Maladies': 906, 'Interview with the Vampire': 907, 'Into Thin Air : A Personal Account of the Mount Everest Disaster': 908, 'Into Thin Air : A Personal Account of the Mt. Everest Disaster': 909, 'Into the Forest': 910, 'Into the Wild': 911, 'Invasion': 912, 'Invasion of Privacy': 913, 'Invisible Man': 914, 'Invisible Monsters': 915, 'Irish Hearts': 916, 'Irish Rebel (Special Edition, 1328)': 917, 'Ironweed': 918, 'Irresistible Forces': 919, 'Ishmael: An Adventure of the Mind and Spirit': 920, 'Island': 921, 'Island of the Blue Dolphins': 922, 'Island of the Blue Dolphins (Laurel Leaf Books)': 923, 'Isle of Dogs': 924, 'It': 925, 'It Was on Fire When I Lay Down on It': 926, \"It's Always Something\": 927, \"It's My F---ing Birthday : A Novel\": 928, \"It's Not About the Bike: My Journey Back to Life\": 929, 'J Is for Judgment': 930, 'Jack &amp; Jill (Alex Cross Novels)': 931, 'Jackdaws': 932, 'Jacob Have I Loved': 933, 'James and the Giant Peach': 934, 'Jane Eyre': 935, 'Jane Eyre (Bantam Classics)': 936, 'Jane Eyre (Penguin Classics)': 937, 'Jazz (Plume Contemporary Fiction)': 938, 'Jemima J': 939, 'Jemima J: A Novel About Ugly Ducklings and Swans': 940, 'Jennifer Government : A Novel': 941, 'Jewel': 942, \"Jewel (Oprah's Book Club)\": 943, 'Jewels': 944, 'Jewels of the Sun (Irish Trilogy)': 945, 'Jitterbug Perfume': 946, 'Job: A Comedy of Justice': 947, 'Johnny Angel': 948, 'Jonathan Livingston Seagull': 949, 'Journey': 950, 'Judgment in Death': 951, 'Julie and Romeo: A Novel': 952, 'Julie of the Wolves (Julie of the Wolves)': 953, \"Jupiter's Bones : A Peter Decker/Rina Lazarus Novel (Peter Decker &amp; Rina Lazarus Novels (Paperback))\": 954, 'Jurassic Park': 955, 'K Is for Killer (Kinsey Millhone Mysteries (Paperback))': 956, 'Kaleidoscope': 957, 'Kane &amp; Abel': 958, 'Keeping Faith : A Novel': 959, 'Kentucky Rich': 960, 'Key of Knowledge (Key Trilogy (Paperback))': 961, 'Key of Light (Key Trilogy (Paperback))': 962, 'Key of Valor (Roberts, Nora. Key Trilogy, 3.)': 963, 'Kill and Tell': 964, 'Killer Pancake': 965, 'Killing Time': 966, 'Killjoy': 967, 'King Rat': 968, 'Kiss of the Bees: A Novel of Suspense': 969, 'Kiss the Girls': 970, 'Kitchen': 971, 'Kitchen Confidential: Adventures in the Culinary Underbelly': 972, 'Koko': 973, \"Kushiel's Dart\": 974, 'L Is for Lawless': 975, 'L Is for Lawless (Kinsey Millhone Mysteries)': 976, 'L.A. Requiem': 977, 'LONESOME DOVE': 978, 'Ladder of Years': 979, 'Lady Oracle': 980, 'Lady of Avalon': 981, 'Lake News': 982, 'Lake Wobegon Days': 983, 'Lake Wobegon days': 984, \"Lamb : The Gospel According to Biff, Christ's Childhood Pal\": 985, \"Larry's Party\": 986, 'Lasher': 987, 'Lasher: Lives of the Mayfair Witches (Lives of the Mayfair Witches)': 988, 'Last Chance Saloon': 989, \"Last Dance, Last Chance (Ann Rule's Crime Files)\": 990, 'Last Man Standing': 991, 'Last Orders': 992, 'Lawless': 993, 'Le Divorce (William Abrahams Book)': 994, 'Le Mariage': 995, 'Leap of Faith': 996, \"Left Behind: A Novel of the Earth's Last Days (Left Behind #1)\": 997, \"Left Behind: A Novel of the Earth's Last Days (Left Behind No. 1)\": 998, 'Legacy': 999, 'Legacy of Silence': 1000, 'Legal Tender': 1001, 'Legend': 1002, 'Less Of A Stranger (Silhouette Single Title)': 1003, 'Let Me Call You Sweetheart': 1004, 'Letters from a Nut': 1005, 'Lie Down With Lions': 1006, 'Lies and the Lying Liars Who Tell Them: A Fair and Balanced Look at the Right': 1007, 'Life Before Man': 1008, 'Life Strategies: Doing What Works, Doing What Matters': 1009, 'Life Support': 1010, 'Life of Pi': 1011, \"Life's Little Instruction Book (Life's Little Instruction Books (Paperback))\": 1012, 'Life,the Universe and Everything': 1013, 'Light a Penny Candle': 1014, 'Lightning': 1015, 'Like Water for Chocolate : A Novel in Monthly Installments with Recipes, Romances, and Home Remedies': 1016, 'Like Water for Chocolate: A Novel in Monthly Installments With Recipes, Romances and Home Remedies': 1017, 'Like Water for Chocolate: A Novel in Monthly Installments, With Recipes, Romances, and Home Remedies': 1018, 'Lily White': 1019, 'Lion, the Witch and the Wardrobe': 1020, 'Little Altars Everywhere': 1021, 'Little Altars Everywhere: A Novel': 1022, 'Little Drummer Girl': 1023, 'Little House in the Big Woods': 1024, 'Little House on the Prairie': 1025, 'Little Women': 1026, 'Living Dead in Dallas (Southern Vampire Mysteries)': 1027, 'Living History': 1028, 'Local Girls': 1029, 'Lolita (Vintage International)': 1030, 'London : The Novel': 1031, 'London Transports': 1032, 'Lone Eagle': 1033, 'Lonesome Dove': 1034, 'Long After Midnight': 1035, 'Long Dark Tea Time of the Soul': 1036, 'Long Time No See': 1037, 'Longshot': 1038, 'Looking Back': 1039, 'Lord of the Flies': 1040, 'Los Alamos: A Novel': 1041, 'Lost': 1042, 'Lost Girls': 1043, 'Lost Light': 1044, 'Lost Souls': 1045, 'Lost and Found': 1046, 'Lost in a Good Book: A Thursday Next Novel': 1047, 'Love': 1048, 'Love Medicine': 1049, 'Love in Another Town': 1050, 'Love in the Time of Cholera': 1051, 'Love in the Time of Cholera (Penguin Great Books of the 20th Century)': 1052, 'Lovers': 1053, 'Loves Music, Loves to Dance': 1054, 'Low Country': 1055, 'Lucky': 1056, 'Lucky : A Memoir': 1057, 'Lucky Man: A Memoir': 1058, 'Lucky You': 1059, \"Lucky's Lady\": 1060, 'Lucy Sullivan Is Getting Married': 1061, 'Lullaby: A Novel': 1062, 'Lying Awake': 1063, 'M Is for Malice': 1064, 'M Is for Malice (Kinsey Millhone Mysteries (Hardcover))': 1065, 'MOONLIGHT BECOMES YOU': 1066, 'MY SWEET AUDRINA': 1067, 'Macbeth': 1068, 'Macgregor Brides (Macgregors)': 1069, 'Macgregor Grooms (Macgregors)': 1070, 'Madame Bovary': 1071, 'Magic Kingdom for Sale - Sold! (Magic Kingdom of Landover)': 1072, 'Make the Connection: Ten Steps to a Better Body and a Better Life': 1073, 'Malice': 1074, 'Mama Makes Up Her Mind: And Other Dangers of Southern Living': 1075, 'Man From St Petersburg': 1076, 'Man and Boy: A Novel': 1077, 'Manhattan Hunt Club': 1078, 'Maniac Magee': 1079, 'Marrying Mom': 1080, 'Masquerade': 1081, 'Master of the Game': 1082, 'Matilda': 1083, \"McNally's Secret (Archy McNally Novels (Paperback))\": 1084, 'Me Talk Pretty One Day': 1085, 'Me: Stories of My Life': 1086, 'Melody (Logan)': 1087, 'Memnoch the Devil (Vampire Chronicles, No 5)': 1088, 'Memnoch the Devil : The Vampire Chronicles (Vampire Chronicles)': 1089, 'Memoirs of a Geisha': 1090, 'Memoirs of a Geisha Uk': 1091, 'Memories of Midnight': 1092, 'Men Are from Mars, Women Are from Venus: A Practical Guide for Improving Communication and Getting What You Want in Your Relationships': 1093, 'Mercy': 1094, 'Mere Christianity': 1095, 'Merrick (Vampire Chronicles)': 1096, 'Merrick (Vampire/Witches Chronicles)': 1097, 'Message from Nam': 1098, 'Message in a Bottle': 1099, 'Messiah': 1100, 'Mexico': 1101, 'Microserfs': 1102, 'Middle of Nowhere': 1103, 'Middlesex: A Novel': 1104, 'Midnight': 1105, 'Midnight Bayou': 1106, 'Midnight Voices': 1107, 'Midnight Whispers (Cutler)': 1108, 'Midnight in Ruby Bayou': 1109, 'Midnight in the Garden of Good and Evil': 1110, 'Midnight in the Garden of Good and Evil: A Savannah Story': 1111, \"Midnight's Children\": 1112, 'Midwives: A Novel': 1113, 'Milk and Honey (Peter Decker/Rina Lazarus Novels)': 1114, 'Milkrun': 1115, 'Mind Prey': 1116, 'Mindbend': 1117, 'Miracle Cure': 1118, 'Mirror Image': 1119, 'Misery': 1120, 'Miss Julia Speaks Her Mind : A Novel': 1121, 'Missing Joseph': 1122, 'Mistaken Identity': 1123, 'Mitigating Circumstances': 1124, 'Mixed Blessings': 1125, 'Moment of Truth': 1126, 'Monster : A Novel (Alex Delaware Novels (Paperback))': 1127, 'Monster Blood (Goosebumps, No 3)': 1128, 'Montana': 1129, 'Montana Sky': 1130, 'Moo': 1131, 'Moon Music (Peter Decker &amp; Rina Lazarus Novels (Paperback))': 1132, 'Moonlight Becomes You': 1133, 'Morality for Beautiful Girls (No.1 Ladies Detective Agency)': 1134, 'More Than You Know: A Novel': 1135, 'More Than a Carpenter': 1136, 'Moreta: Dragonlady of Pern': 1137, 'Morning Glory': 1138, 'Morning, Noon &amp; Night': 1139, 'Mortal Fear': 1140, 'Mortal Prey': 1141, 'Mother of Pearl': 1142, \"Mother of Pearl (Oprah's Book Club (Paperback))\": 1143, 'Mount Vernon Love Story : A Novel of George and Martha Washington': 1144, 'Move to Strike': 1145, 'Moving Target': 1146, 'Mr. Maybe': 1147, 'Mr. Murder': 1148, 'Mr. Perfect': 1149, 'Mrs Dalloway': 1150, 'Music in the Night (Logan)': 1151, 'Must Love Dogs': 1152, 'Must Love Dogs: A Novel': 1153, 'Mutant Message Down Under': 1154, 'Mutation': 1155, 'My Antonia': 1156, 'My Dream of You': 1157, 'My Gal Sunday': 1158, 'My Point - And I Do Have One': 1159, 'My Point...And I Do Have One': 1160, 'My Side of the Mountain': 1161, 'My Year of Meats': 1162, 'Mystery': 1163, 'Mystic River': 1164, 'MÃ?Â¶rder ohne Gesicht.': 1165, 'N Is for Noose': 1166, 'N Is for Noose (Kinsey Millhone Mysteries (Hardcover))': 1167, 'Naked': 1168, 'Naked Prey': 1169, 'Naked in Death': 1170, 'Name Dropping : What If Two Very Different Women Had The Same Exact Name?': 1171, 'Name of the Rose': 1172, 'Name of the Rose-Nla': 1173, 'Narcissus in Chains (Anita Blake Vampire Hunter (Paperback))': 1174, 'Nathaniel': 1175, 'Native Tongue': 1176, 'Natural Causes': 1177, 'Neanderthal: A Novel': 1178, 'Needful Things': 1179, 'Needful Things: The Last Castle Rock Story': 1180, 'Nemesis': 1181, 'Nerd in Shining Armor': 1182, 'Net Force': 1183, 'Neuromancer (Remembering Tomorrow)': 1184, 'Never Change': 1185, 'Neverwhere': 1186, 'Nickel and Dimed: On (Not) Getting By in America': 1187, 'Nicolae: The Rise of Antichrist (Left Behind No. 3)': 1188, 'Night': 1189, 'Night Chills': 1190, \"Night Moves (Tom Clancy's Net Force, No. 3)\": 1191, 'Night Prey': 1192, 'Night Shield (Intimate Moments, 1027)': 1193, 'Night Shift': 1194, 'Night Sins': 1195, 'Night Whispers': 1196, 'Night over Water': 1197, 'Nightmares &amp; Dreamscapes': 1198, 'Nights in Rodanthe': 1199, 'Nightshade': 1200, 'Nine Stories': 1201, 'No Greater Love': 1202, 'No One to Trust': 1203, 'No Safe Place': 1204, 'No Second  Chance': 1205, 'Nobody Knows': 1206, 'Nora, Nora: A Novel': 1207, 'Northern Lights (His Dark Materials S.)': 1208, 'Not Without My Daughter': 1209, 'Notes From a Small Planet': 1210, 'Notes from a Small Island': 1211, 'Nothing Lasts Forever': 1212, 'Nothing but the Truth': 1213, 'November of the Heart': 1214, 'Now You See Her': 1215, 'Now You See Me': 1216, 'Now and Forever': 1217, 'Number the Stars (Yearling Newbery)': 1218, 'Numbered Account': 1219, 'OLD MAN AND THE SEA': 1220, 'ONE DAY MY SOUL JUST OPENED UP : 40 DAYS AND 40 NIGHTS TOWARD SPIRITUAL STRENGTH AND PERSONAL GROWTH': 1221, 'Obasan': 1222, 'Object Lessons': 1223, 'Obsidian Butterfly': 1224, 'October Sky: A Memoir': 1225, 'Odd Thomas': 1226, 'Of Mice and Men': 1227, 'Of Mice and Men (Penguin Great Books of the 20th Century)': 1228, 'Oldest Living Confederate Widow Tells All': 1229, 'Omerta': 1230, 'On Mystic Lake': 1231, 'On Wings of Eagles': 1232, 'On Writing': 1233, 'On a Pale Horse (Incarnations of Immortality, Bk. 1)': 1234, 'On the Banks of Plum Creek': 1235, 'On the Occasion of My Last Afternoon': 1236, 'On the Road': 1237, 'On the Road (Penguin 20th Century Classics)': 1238, 'On the Street Where You Live': 1239, 'On the Street Where You Live : A Novel': 1240, 'Once a Thief': 1241, 'Once in a Lifetime': 1242, 'Once upon a More Enlightened Time: More Politically Correct Bedtime Stories': 1243, 'One': 1244, 'One Door Away from Heaven': 1245, \"One Flew Over the Cuckoo's Nest\": 1246, 'One Hundred Years of Solitude': 1247, \"One Hundred Years of Solitude (Oprah's Book Club)\": 1248, 'One Thousand White Women : The Journals of May Dodd: A Novel': 1249, 'One True Thing': 1250, 'One for the Money (A Stephanie Plum Novel)': 1251, 'One for the Money (Stephanie Plum Novels (Paperback))': 1252, 'Open House': 1253, \"Open House (Oprah's Book Club (Paperback))\": 1254, 'Open Season': 1255, 'Oranges Are Not the Only Fruit': 1256, 'Orchid Beach (Holly Barker Novels (Paperback))': 1257, 'Orchid Blues (Holly Barker Novels (Paperback))': 1258, 'Ordinary People': 1259, 'Original Sin': 1260, 'Orlando: A Biography': 1261, 'Oryx and Crake': 1262, 'Oscar and Lucinda': 1263, 'Out of Africa ; and, Shadows on the grass': 1264, 'Out of Sight': 1265, 'Out of This World': 1266, 'Out of the Shadows (Shadows Trilogy (Paperback))': 1267, 'Out on a Limb': 1268, 'Out to Canaan (The Mitford Years)': 1269, 'Outbreak': 1270, 'Outer Banks': 1271, 'Outlander': 1272, 'Over the Edge': 1273, 'P Is for Peril': 1274, 'P Is for Peril (Kinsey Millhone Mysteries (Hardcover))': 1275, 'POSTCARDS': 1276, 'Paddy Clarke Ha Ha Ha': 1277, 'Pagan Babies': 1278, 'Palomino': 1279, 'Pandora : New Tales of the Vampires': 1280, \"Pandora's Clock\": 1281, 'Pandora: New Tales of the Vampires (New Tales of the Vampires)': 1282, 'Paradise': 1283, 'Paradise Lost': 1284, 'Parallel Lies': 1285, 'Paris to the Moon': 1286, 'Partner in Crime': 1287, 'Passage': 1288, 'Patriot Games': 1289, 'Patriot Games (Jack Ryan Novels)': 1290, 'Pattern Recognition': 1291, \"Patty Jane's House of Curl\": 1292, \"Patty Jane's House of Curl (Ballantine Reader's Circle)\": 1293, 'Paula': 1294, 'Pawn of Prophecy (The Belgariad, Book 1)': 1295, 'Pay It Forward': 1296, 'Pay It Forward: A Novel': 1297, 'Payment in Blood': 1298, 'Peace Like a River': 1299, 'Peachtree Road': 1300, 'Pearl in the Mist (Landry)': 1301, 'Pen Pals': 1302, 'Pendragon': 1303, 'Perfect': 1304, \"Perfect Evil (Maggie O'Dell Novels (Paperback))\": 1305, 'Perfume: The Story of a Murderer (Vintage International)': 1306, 'Personal History': 1307, 'Personal Injuries': 1308, 'Pet Sematary': 1309, 'Phantoms': 1310, 'Picture of Dorian Gray': 1311, 'Piercing the Darkness': 1312, 'Pigs in Heaven': 1313, 'Pink Slip': 1314, 'Plague Dogs': 1315, 'Plain Jane': 1316, 'Plain Truth': 1317, 'Plainsong': 1318, 'Plainsong (Vintage Contemporaries)': 1319, 'Plantation: A Lowcountry Tale': 1320, 'Playing for the Ashes': 1321, 'Pleading Guilty': 1322, 'Plum Island': 1323, 'Point of Origin': 1324, 'Poland': 1325, 'Polar Star': 1326, 'Politically Correct Bedtime Stories: Modern Tales for Our Life and Times': 1327, \"Politika (Tom Clancy's Power Plays (Paperback))\": 1328, 'Pop Goes the Weasel': 1329, \"Pope Joan (Ballantine Reader's Circle)\": 1330, 'Portrait in Death': 1331, 'Portrait in Sepia': 1332, 'Portrait in Sepia : A Novel': 1333, 'Portrait of a Killer: Jack the Ripper -- Case Closed': 1334, 'Portrait of a Killer: Jack the Ripper-- Case Closed (Berkley True Crime)': 1335, 'Possessing the Secret of Joy': 1336, 'Possession : A Romance': 1337, 'Postmortem': 1338, 'Postmortem (Kay Scarpetta Mysteries (Paperback))': 1339, 'Pot Shot': 1340, 'Power of a Woman': 1341, 'Practical Demonkeeping': 1342, 'Practical Magic': 1343, 'Prague : A Novel': 1344, 'Praying for Sleep': 1345, 'Prelude to Foundation (Foundation Novels (Paperback))': 1346, 'Presumed Innocent': 1347, \"Pretend You Don't See Her\": 1348, 'Prey': 1349, 'Prey: A Novel': 1350, 'Pride and Prejudice': 1351, 'Pride and Prejudice (Penguin Popular Classics)': 1352, 'Pride and Prejudice (The Penguin English Library, El 72)': 1353, 'Primal Fear': 1354, 'Primary Colors: A Novel of Politics': 1355, 'Prime Cut': 1356, 'Prime Witness': 1357, 'Princess Daisy': 1358, 'Princess in the Spotlight (The Princess Diaries, Vol. 2)': 1359, 'Princess: A True Story of Life Behind the Veil in Saudi Arabia': 1360, 'Private Eyes (Alex Delaware Novels (Paperback))': 1361, 'Private Scandals': 1362, 'Private Screening': 1363, 'Privileged Information': 1364, 'Prodigal Summer': 1365, 'Prodigal Summer: A Novel': 1366, 'Promises': 1367, 'Protect and Defend': 1368, 'Public Secrets': 1369, 'Puerto Vallarta Squeeze': 1370, 'Purity in Death': 1371, 'Purple Cane Road': 1372, 'Q Is for Quarry': 1373, 'Queen Bee of Mimosa Branch': 1374, 'Quentins': 1375, 'REMEMBER ME': 1376, 'ROAD LESS TRAVELED : A New Psychology of Love, Traditional Values, and Spritual Growth (Touchstone Books (Paperback))': 1377, 'RUSSIA HOUSE, THE': 1378, \"Rachel's Holiday\": 1379, 'Rage of Angels': 1380, 'Ragtime': 1381, 'Rain': 1382, 'Rainbow Six': 1383, \"Ralph's Party\": 1384, 'Range of Motion': 1385, 'Ransom': 1386, 'Reader': 1387, 'Reading Lolita in Tehran : A Memoir in Books': 1388, 'Reading Lolita in Tehran: A Memoir in Books': 1389, 'Reap the Wind': 1390, 'Reasonable Doubt': 1391, 'Rebecca': 1392, 'Red Dragon': 1393, 'Red Mars (Mars Trilogy)': 1394, 'Red Rabbit': 1395, 'Red Storm Rising': 1396, 'Redwall (Redwall, Book 1)': 1397, 'Reflections And Dreams': 1398, 'Relic': 1399, 'Reliquary': 1400, 'Remember': 1401, 'Remember Me': 1402, 'Remember When': 1403, 'Remembrance': 1404, 'Rendezvous with Rama': 1405, 'Replay': 1406, 'Resistance : A Novel': 1407, 'Restaurant At the End of the Universe': 1408, 'Reunion in Death': 1409, 'Revenge of the Middle-Aged Woman': 1410, 'Reversible Errors': 1411, 'Reversible Errors: A Novel': 1412, \"Reviving Ophelia: Saving the Selves of Adolescent Girls (Ballantine Reader's Circle)\": 1413, 'Rich Dad, Poor Dad: What the Rich Teach Their Kids About Money--That the Poor and Middle Class Do Not!': 1414, 'Riding in Cars With Boys: Confessions of a Bad Girl Who Makes Good': 1415, 'Ringworld': 1416, 'Riptide': 1417, 'Rising Sun': 1418, 'Rising Tides': 1419, 'River God': 1420, \"River's End\": 1421, 'River, Cross My Heart': 1422, \"Robert Ludlum's The Cassandra Compact (A Covert-One Novel)\": 1423, \"Robert Ludlum's The Hades Factor\": 1424, \"Robert Ludlum's The Paris Option : A Covert-One Novel (A Covert-One Novel)\": 1425, 'Roll of Thunder, Hear My Cry': 1426, 'Roots': 1427, 'Rose': 1428, 'Rose Madder': 1429, 'Rosehaven': 1430, 'Roses Are Red': 1431, 'Roses Are Red (Alex Cross Novels)': 1432, 'Rough Justice': 1433, 'Round Ireland With a Fridge': 1434, 'Ruby (Landry)': 1435, 'Rubyfruit Jungle': 1436, 'Rules of Prey': 1437, 'Running Scared': 1438, 'Running with Scissors': 1439, 'Running with Scissors: A Memoir': 1440, 'Rush Limbaugh Is a Big Fat Idiot: And Other Observations': 1441, 'Russendisko.': 1442, \"Ruthless.Com (Tom Clancy's Power Plays (Paperback))\": 1443, 'SAHARA': 1444, 'SEAT OF THE SOUL': 1445, 'SEEDS OF YESTERDY (Dollanger Saga (Paperback))': 1446, 'SHAMPOO PLANET : SHAMPOO PLANET': 1447, 'SHIPPING NEWS': 1448, 'SILENT NIGHT : The Story of the World War I Christmas Truce': 1449, 'SKINNY LEGS AND ALL': 1450, 'STONES FROM THE RIVER': 1451, \"Sabine's Notebook: In Which the Extraordinary Correspondence of Griffin &amp; Sabine Continues\": 1452, 'Sabriel (The Abhorsen Trilogy)': 1453, 'Sacred Sins': 1454, 'Sacred and Profane (Peter Decker &amp; Rina Lazarus Novels (Paperback))': 1455, 'Safe Harbor': 1456, 'Saint Maybe': 1457, 'Salem Falls': 1458, \"Salem's Lot\": 1459, 'Sanctuary': 1460, 'Sarum: The Novel of England': 1461, 'Saucer': 1462, 'Saving Faith': 1463, 'Saving Grace': 1464, 'Scarlet Feather': 1465, 'Scarlet Letter': 1466, 'Scarlett : The Sequel to Margaret Mitchell\\'s \\\\Gone With the Wind\\\\\"\"': 1467, \"Scarlett: The Sequel to Margaret Mitchell's Gone With the Wind\": 1468, \"Schindler's List\": 1469, 'Sea Glass: A Novel': 1470, 'Sea Swept (Quinn Brothers (Paperback))': 1471, 'Seabiscuit': 1472, 'Seabiscuit: An American Legend': 1473, 'Season of the Machete': 1474, 'Second Child': 1475, 'Second Nature': 1476, 'Second Wind': 1477, 'Secrecy': 1478, 'Secret History': 1479, 'Secret History : A Novel': 1480, 'Secret Prey': 1481, 'Secrets': 1482, 'Secrets of the Morning (Cutler)': 1483, 'Seduction in Death': 1484, 'See How They Run': 1485, 'See Jane Date (Red Dress Ink (Paperback))': 1486, 'Sein Language': 1487, 'Seinlanguage': 1488, 'Seize the Night': 1489, 'Self Matters : Creating Your Life from the Inside Out': 1490, 'Self-Defense (Alex Delaware Novels (Paperback))': 1491, 'Sense and Sensibility': 1492, 'September': 1493, 'Serpent : A Novel from the NUMA Files (Numa Files Series)': 1494, \"Serpent's Tooth : A Peter Decker/Rina Lazarus Novel (Peter Decker &amp; Rina Lazarus Novels (Paperback))\": 1495, 'Servant of the Bones': 1496, 'Seven Habits Of Highly Effective People': 1497, 'Seven Up (A Stephanie Plum Novel)': 1498, 'Seventh Heaven': 1499, 'Sex &amp; the City': 1500, 'Shadow Prey': 1501, \"Shadow Watch (Tom Clancy's Power Plays (Paperback))\": 1502, 'Shadowfires': 1503, 'Shadows': 1504, 'Shattered': 1505, 'She Walks These Hills': 1506, 'She Went All the Way (Avon Light Contemporary Romances)': 1507, 'She Who Remembers': 1508, \"She's Come Undone (Oprah's Book Club (Paperback))\": 1509, \"She's Come Undone (Oprah's Book Club)\": 1510, 'Shell Seekers': 1511, 'Shipping News': 1512, 'Shock': 1513, 'Shock Wave (Dirk Pitt Adventures (Paperback))': 1514, 'Shoeless Joe': 1515, 'Shogun': 1516, 'Shopaholic Takes Manhattan (Summer Display Opportunity)': 1517, 'Shopaholic Ties the Knot': 1518, 'Shopgirl': 1519, 'Shopgirl : A Novella': 1520, 'Show of Evil': 1521, 'Sick Puppy': 1522, 'Siddhartha': 1523, 'Side Effects': 1524, 'Sights Unseen': 1525, 'Silence of the Lambs': 1526, 'Silent Honor': 1527, 'Silent Night : A Christmas Suspense Story': 1528, 'Silent Partner (Alex Delaware Novels (Paperback))': 1529, 'Silent Prey': 1530, 'Silent Treatment': 1531, 'Silent Witness': 1532, 'Silk': 1533, 'Silver Wedding': 1534, 'Simple Abundance:  A Daybook of Comfort and Joy': 1535, 'Sister of My Heart': 1536, 'Sisterhood of the Traveling Pants': 1537, 'Sisters Found': 1538, 'Skeleton Crew': 1539, 'Skin Tight': 1540, 'Skinny Legs and All': 1541, 'Skinwalkers (Joe Leaphorn/Jim Chee Novels)': 1542, 'Skipping Christmas': 1543, 'Slammerkin': 1544, \"Slaughterhouse Five or the Children's Crusade: A Duty Dance With Death\": 1545, 'Sleep No More': 1546, 'Sleepers': 1547, 'Sleepwalk': 1548, 'Slightly Shady': 1549, 'Slow Waltz in Cedar Bend': 1550, 'Small Town Girl': 1551, 'Smart Women': 1552, \"Smilla's Sense of Snow\": 1553, 'Smoke in Mirrors': 1554, 'Snow Crash': 1555, 'Snow Falling on Cedars': 1556, 'Snow in August': 1557, 'Sole Survivor': 1558, 'Someone to Watch Over Me : A Novel': 1559, 'Something More: Excavating Your Authentic Self': 1560, 'Something Wicked This Way Comes': 1561, \"Song of Solomon (Oprah's Book Club (Paperback))\": 1562, \"Songs in Ordinary Time (Oprah's Book Club (Paperback))\": 1563, \"Sophie's World: A Novel About the History of Philosophy\": 1564, 'Sophies Choice': 1565, 'Soul Harvest: The World Takes Sides (Left Behind No. 4)': 1566, 'Soul Mountain': 1567, 'Southern Cross': 1568, 'Space': 1569, 'Speak': 1570, 'Speaker for the Dead (Ender Wiggins Saga (Paperback))': 1571, 'Speaking With the Angel': 1572, 'Speaking in Tongues': 1573, 'Special Delivery': 1574, 'Special Delivery: A Novel': 1575, 'Spencerville': 1576, 'Sphere': 1577, 'Split Second': 1578, \"Split Second (Maggie O'Dell Novels (Paperback))\": 1579, 'Spring Moon: A Novel of China': 1580, 'Ssn': 1581, 'Stalker: A Peter Decker and Rina Lazarus Novel': 1582, 'Stand': 1583, 'Standing in the Rainbow': 1584, 'Standing in the Rainbow : A Novel': 1585, 'Standoff': 1586, 'Stanislaski Brothers (Silhouette Promo)': 1587, 'Stanislaski Sisters': 1588, 'Star': 1589, 'Stardust': 1590, 'Stargirl': 1591, 'Starship Troopers': 1592, \"State of Siege (Tom Clancy's Op-Center, 6)\": 1593, 'Stealing Shadows (Shadows Trilogy (Paperback))': 1594, 'Sticks &amp; Scones': 1595, 'Stiff: The Curious Lives of Human Cadavers': 1596, 'Still Life with Woodpecker': 1597, 'Still Waters': 1598, 'Stillwatch': 1599, 'Stitches in Time': 1600, 'Stolen Lives: Twenty Years in a Desert Jail': 1601, 'Stone Kiss': 1602, 'Stone Kiss (Peter Decker &amp; Rina Lazarus Novels (Hardcover))': 1603, 'Stone of Tears (Sword of Truth, Book 2)': 1604, 'Storm Warning': 1605, 'Storming Heaven': 1606, 'Stormy Weather': 1607, 'Story of O': 1608, 'Straight Man : A Novel (Vintage Contemporaries)': 1609, 'Strange Fits of Passion: A Novel': 1610, 'Strange Highways': 1611, 'Stranger Is Watching': 1612, 'Stranger in a Strange Land (Remembering Tomorrow)': 1613, 'Strangers': 1614, 'Strip Tease': 1615, 'Stuart Little': 1616, 'Stupid White Men ...and Other Sorry Excuses for the State of the Nation!': 1617, 'Stupid White Men. Eine Abrechnung mit dem Amerika unter George W. Bush': 1618, 'Succulent Wild Woman': 1619, 'Sudden Prey': 1620, 'Sula': 1621, \"Sullivan's Island: A Lowcountry Tale\": 1622, 'Summer Island': 1623, 'Summer Light': 1624, 'Summer Pleasures': 1625, 'Summer Sisters': 1626, \"Summer's End\": 1627, 'Summon the Keeper': 1628, 'Sun Also Rises': 1629, 'Sunset in St. Tropez': 1630, 'Superstitious': 1631, 'Surfacing': 1632, 'Survival of the Fittest: An Alex Delaware Novel': 1633, 'Survivor : A Novel': 1634, 'Sushi for Beginners': 1635, \"Suzanne's Diary for Nicholas\": 1636, 'Sweet Liar': 1637, 'Sweet Revenge': 1638, 'Swimming to Catalina': 1639, 'Switcheroo : A Novel': 1640, 'Sword of Shannara': 1641, 'TIME AND AGAIN': 1642, 'Table For Two': 1643, 'Tai-Pan': 1644, \"Tailchaser's Song\": 1645, 'Tales of a Fourth Grade Nothing': 1646, 'Tales of the City (Tales of the City Series, V. 1)': 1647, 'Talk Before Sleep: A Novel': 1648, 'Talking God (Jim Chee Novels)': 1649, 'Taltos: Lives of the Mayfair Witches': 1650, 'Tapestry': 1651, 'Tar Baby': 1652, 'Tara Road': 1653, 'Tarnished Gold (Landry)': 1654, 'Tears of the Giraffe (No.1 Ladies Detective Agency)': 1655, 'Tears of the Moon (Irish Trilogy)': 1656, 'Tell Me Lies (Tell Me Lies)': 1657, 'Tell Me Your Dreams': 1658, 'Tell No One': 1659, 'Temple of the Winds (Sword of Truth, Book 4)': 1660, 'Temptation': 1661, 'Ten Big Ones: A Stephanie Plum Novel': 1662, 'Ten Stupid Things Women Do to Mess Up Their Lives': 1663, 'Tender at the Bone: Growing Up at the Table': 1664, 'Term Limits': 1665, 'Terminal': 1666, 'Texas': 1667, 'That Camden Summer': 1668, 'The 13th Juror': 1669, 'The Absence of Nectar': 1670, 'The Accidental Tourist': 1671, 'The Adventures of Huckleberry Finn (Bantam Classics)': 1672, 'The Alchemist: A Fable About Following Your Dream': 1673, 'The Alibi': 1674, 'The Alienist': 1675, 'The Amazing Adventures of Kavalier &amp; Clay': 1676, 'The Amber Spyglass (His Dark Materials, Book 3)': 1677, 'The Anastasia Syndrome': 1678, 'The Andromeda Strain': 1679, 'The Angel of Darkness': 1680, 'The Apocalypse Watch': 1681, 'The Apprentice': 1682, 'The Arctic Incident (Artemis Fowl, Book 2)': 1683, 'The Arraignment': 1684, 'The Art of Deception': 1685, 'The Art of Happiness: A Handbook for Living': 1686, \"The Artist's Way : A Spiritual Path to Higher Creativity\": 1687, 'The Associate': 1688, 'The Attorney': 1689, 'The Autobiography of Malcolm X': 1690, 'The Awakening': 1691, 'The BFG': 1692, 'The Bachelor (Warner Books Contemporary Romance)': 1693, 'The Bachman Books: Rage, the Long Walk, Roadwork, the Running Man': 1694, 'The Bad Beginning (A Series of Unfortunate Events, Book 1)': 1695, 'The Bad Place': 1696, 'The Ballad of Frankie Silver': 1697, 'The Beach': 1698, 'The Beach House': 1699, 'The Bean Trees': 1700, 'The Beans of Egypt, Maine': 1701, 'The Bear and the Dragon': 1702, 'The Bear and the Dragon (Jack Ryan Novels)': 1703, \"The Beekeeper's Apprentice\": 1704, 'The Bell Jar': 1705, 'The Bell Jar : A Novel (Perennial Classics)': 1706, 'The Best Laid Plans': 1707, 'The Bestseller': 1708, 'The Big Bad Wolf: A Novel': 1709, 'The Black Unicorn (Magic Kingdom of Landover Novel)': 1710, 'The Blessing': 1711, 'The Blind Assassin': 1712, 'The Blooding': 1713, 'The Blue Day Book': 1714, 'The Blue Last: A Richard Jury Mystery (Richard Jury Mysteries (Paperback))': 1715, 'The Blue Nowhere : A Novel': 1716, 'The Bluest Eye': 1717, 'The Body Farm': 1718, 'The Bone Collector (Lincoln Rhyme Novels (Paperback))': 1719, 'The Bone People': 1720, \"The Bonesetter's Daughter\": 1721, 'The Bonfire of the Vanities': 1722, 'The Book Borrower: A Novel': 1723, 'The Book of Questions': 1724, \"The Book of Ruth (Oprah's Book Club (Paperback))\": 1725, \"The Bookman's Wake (Cliff Janeway Novels (Paperback))\": 1726, 'The Bourne Identity': 1727, 'The Bourne Supremacy': 1728, 'The Bourne Ultimatum': 1729, 'The Boy Next Door': 1730, 'The Breaker': 1731, 'The Brethren': 1732, 'The Bridge Across Forever': 1733, 'The Bridges of Madison County': 1734, 'The Burden of Proof': 1735, 'The Burning Man': 1736, 'The Cabinet of Curiosities': 1737, 'The Cardinal of the Kremlin (Jack Ryan Novels)': 1738, 'The Carousel': 1739, 'The Cat Who Ate Danish Modern (Cat Who... (Paperback))': 1740, 'The Cat Who Brought Down the House': 1741, 'The Cat Who Came for Christmas': 1742, 'The Cat Who Came to Breakfast': 1743, 'The Cat Who Could Read Backwards': 1744, 'The Cat Who Knew Shakespeare': 1745, 'The Cat Who Knew a Cardinal': 1746, 'The Cat Who Lived High': 1747, 'The Cat Who Moved a Mountain': 1748, 'The Cat Who Played Brahms': 1749, 'The Cat Who Played Post Office (Cat Who... (Paperback))': 1750, 'The Cat Who Robbed a Bank (Cat Who... (Paperback))': 1751, 'The Cat Who Said Cheese': 1752, 'The Cat Who Sang for the Birds (Cat Who... (Paperback))': 1753, 'The Cat Who Saw Red': 1754, 'The Cat Who Saw Stars (Cat Who... (Paperback))': 1755, 'The Cat Who Smelled a Rat (Cat Who... (Paperback))': 1756, 'The Cat Who Sniffed Glue': 1757, 'The Cat Who Tailed a Thief': 1758, 'The Cat Who Talked to Ghosts': 1759, 'The Cat Who Turned on and Off (Cat Who... (Paperback))': 1760, \"The Cat Who Wasn't There\": 1761, 'The Cat Who Went Up the Creek': 1762, 'The Cat Who Went into the Closet': 1763, 'The Cat Who Went to Heaven': 1764, 'The Cat and the Curmudgeon': 1765, 'The Cat in the Hat': 1766, 'The Catcher in the Rye': 1767, 'The Cater Street Hangman': 1768, 'The Celestine Prophecy': 1769, 'The Celestine Prophecy (Celestine Prophecy)': 1770, 'The Cereal Murders': 1771, 'The Chamber': 1772, 'The Charm School': 1773, 'The Children of Men': 1774, 'The Chocolate War (Laurel Leaf Books)': 1775, 'The Chosen': 1776, 'The Christmas Train': 1777, 'The Cider House Rules': 1778, 'The Claiming of Sleeping Beauty (Erotic Adventures of Sleeping Beauty)': 1779, \"The Clan of the Cave Bear (Earth's Children (Paperback))\": 1780, 'The Client': 1781, 'The Clinic (Alex Delaware Novels (Paperback))': 1782, 'The Cobra Event': 1783, 'The Coffin Dancer (Lincoln Rhyme Novels (Paperback))': 1784, 'The Color Purple': 1785, 'The Color of Magic': 1786, \"The Color of Water: A Black Man's Tribute to His White Mother\": 1787, 'The Concrete Blonde (A Harry Bosch Novel)': 1788, 'The Constant Gardener': 1789, 'The Copper Beech': 1790, 'The Corrections': 1791, 'The Corrections (Oprah Edition)': 1792, 'The Corrections: A Novel': 1793, 'The Cottage': 1794, 'The Cove': 1795, 'The Cradle Will Fall': 1796, 'The Crimson Petal and the White': 1797, 'The Crucible: A Play in Four Acts (Penguin Plays)': 1798, 'The Crush': 1799, 'The Cry of the Halidon': 1800, 'The Curious Incident of the Dog in the Night-Time (Today Show Book Club #13)': 1801, 'The Curious Incident of the Dog in the Night-Time (Vintage Contemporaries)': 1802, 'The Curious Incident of the Dog in the Night-Time : A Novel': 1803, 'The Da Vinci Code': 1804, \"The Dance of Anger: A Woman's Guide to Changing the Patterns of Intimate Relationships\": 1805, 'The Dante Club : A Novel': 1806, 'The Dark Half': 1807, 'The Dark Room': 1808, 'The Darwin Awards II: Unnatural Selection': 1809, 'The Darwin Awards: Evolution in Action': 1810, 'The Day After Tomorrow': 1811, 'The Dead Zone': 1812, 'The Deadhouse': 1813, 'The Death of Vishnu: A Novel': 1814, 'The Deep End of the Ocean': 1815, \"The Deep End of the Ocean (Oprah's Book Club (Hardcover))\": 1816, 'The Devil Wears Prada : A Novel': 1817, 'The Devil in the White City : Murder, Magic, and Madness at the Fair That Changed America (Illinois)': 1818, \"The Devil's Code\": 1819, \"The Devil's Teardrop\": 1820, 'The Diary of Ellen Rimbauer: My Life at Rose Red': 1821, \"The Dilbert Principle: A Cubicle'S-Eye View of Bosses, Meetings, Management Fads &amp; Other Workplace Afflictions\": 1822, \"The Dive From Clausen's Pier (Alex Awards)\": 1823, \"The Dive From Clausen's Pier : A Novel (Vintage Contemporaries (Paperback))\": 1824, 'The Divine Secrets of the Ya-Ya Sisterhood: A Novel': 1825, 'The Diving Bell and the Butterfly : A Memoir of Life in Death': 1826, 'The Dogs of Babel (Today Show Book Club #12)': 1827, 'The Doomsday Conspiracy': 1828, 'The Door to December': 1829, 'The Dragon Reborn (The Wheel of Time, Book 3)': 1830, 'The Drawing of the Three (The Dark Tower, Book 2)': 1831, 'The Dream of Scipio': 1832, \"The Dress Lodger (Ballantine Reader's Circle)\": 1833, 'The Drowning People': 1834, 'The Echo': 1835, 'The Edge': 1836, 'The Edible Woman': 1837, 'The Education of Little Tree (A Zia Book)': 1838, 'The Eight': 1839, 'The Eleventh Commandment': 1840, 'The Emperor of Ocean Park (Today Show Book Club #1)': 1841, 'The Empress File': 1842, 'The Empty Chair': 1843, 'The English Patient': 1844, 'The Eternity Code (Artemis Fowl, Book 3)': 1845, 'The Experiment': 1846, 'The Eye of the World (The Wheel of Time, Book 1)': 1847, 'The Eyes of Darkness': 1848, 'The Eyes of the Dragon': 1849, 'The Eyre Affair (Alex Awards (Awards))': 1850, 'The Eyre Affair: A Novel': 1851, 'The Face': 1852, 'The Face of Deception': 1853, 'The Face of Fear': 1854, 'The Fallen Man (Joe Leaphorn Novels)': 1855, 'The Feast of Love (Vintage Contemporaries (Paperback))': 1856, 'The Fellowship of the Ring (The Lord of the Rings, Part 1)': 1857, 'The Fiery Cross': 1858, 'The Fig Eater : A Novel': 1859, 'The Final Judgment': 1860, 'The Fires of Heaven (The Wheel of Time, Book 5)': 1861, 'The Firm': 1862, 'The First Counsel': 1863, 'The First Eagle (Jim Chee Novels)': 1864, 'The First Horseman': 1865, 'The First Man in Rome': 1866, 'The First Time': 1867, 'The First Victim': 1868, 'The First Wives Club Movie Tie In': 1869, 'The Five People You Meet in Heaven': 1870, 'The Flanders Panel': 1871, 'The Fly on the Wall': 1872, \"The Fool's Run\": 1873, 'The Footprints of God : A Novel': 1874, 'The Forest': 1875, 'The Forest House': 1876, 'The Forgotten (Peter Decker &amp; Rina Lazarus Novels (Paperback))': 1877, 'The Fountainhead': 1878, 'The Four Agreements: A Practical Guide to Personal Freedom': 1879, 'The Fourth Estate': 1880, 'The Fourth Hand': 1881, 'The Frog King: A Love Story': 1882, 'The Funhouse': 1883, 'The Future Homemakers of America': 1884, 'The GREAT GATSBY (Scribner Classic)': 1885, \"The General's Daughter\": 1886, 'The Genesis Code': 1887, 'The Ghost': 1888, 'The Gift': 1889, 'The Girl Who Loved Tom Gordon': 1890, 'The Girl Who Loved Tom Gordon : A Novel': 1891, \"The Girls' Guide to Hunting and Fishing\": 1892, 'The Giver (21st Century Reference)': 1893, 'The Glass Lake': 1894, 'The God of Small Things': 1895, 'The Godfather': 1896, 'The Gold Coast': 1897, 'The Golden Compass (His Dark Materials, Book 1)': 1898, 'The Good Earth (Enriched Classics)': 1899, 'The Grapes of Wrath': 1900, 'The Grapes of Wrath: John Steinbeck Centennial Edition (1902-2002)': 1901, 'The Great Gatsby': 1902, 'The Great Hunt (The Wheel of Time, Book 2)': 1903, 'The Great Train Robbery': 1904, 'The Greatest Generation': 1905, 'The Green Mile': 1906, 'The Green Mile: Coffey on the Mile (Green Mile Series)': 1907, \"The Green Mile: Coffey's Hands (Green Mile Series)\": 1908, 'The Green Mile: Night Journey (Green Mile Series)': 1909, 'The Green Mile: The Bad Death of Eduard Delacroix (Green Mile Series)': 1910, 'The Green Mile: The Complete Serial Novel': 1911, 'The Green Mile: The Mouse on the Mile (Green Mile Series)': 1912, 'The Grilling Season': 1913, 'The Guardian': 1914, 'The Gunslinger (The Dark Tower, Book 1)': 1915, 'The Hammer of Eden: A Novel': 1916, \"The Handmaid's Tale\": 1917, \"The Handmaid's Tale : A Novel\": 1918, \"The Hangman's Beautiful Daughter\": 1919, 'The Hearing': 1920, 'The Heart Is a Lonely Hunter': 1921, 'The Heart of a Woman': 1922, 'The Heir': 1923, 'The Hellfire Club': 1924, 'The Hero and the Crown': 1925, \"The Hitchhiker's Guide to the Galaxy\": 1926, 'The Hobbit': 1927, 'The Hobbit : The Enchanting Prelude to The Lord of the Rings': 1928, 'The Hobbit: or There and Back Again': 1929, 'The Homing': 1930, 'The Honk and Holler Opening Soon': 1931, 'The Horse Whisperer': 1932, 'The Horse You Came In On': 1933, 'The Hot Zone': 1934, 'The Hours : A Novel': 1935, 'The Hours: A Novel': 1936, 'The House of Thunder': 1937, 'The House of the Spirits': 1938, 'The House on Hope Street': 1939, 'The House on Mango Street (Vintage Contemporaries)': 1940, 'The Human Stain : A Novel': 1941, 'The Hundred Secret Senses': 1942, 'The Hunt for Red October': 1943, 'The Hunt for Red October (Jack Ryan Novels)': 1944, 'The Icarus Agenda': 1945, 'The Ice House': 1946, \"The Idiot Girls' Action Adventure Club\": 1947, 'The Indian in the Cupboard': 1948, 'The Indwelling: The Beast Takes Possession (Left Behind #7)': 1949, 'The Invitation': 1950, 'The Island of the Day Before': 1951, 'The Jester': 1952, 'The Joy Luck Club': 1953, 'The Judge': 1954, 'The Jungle (Bantam Classics)': 1955, 'The Juror': 1956, 'The Jury': 1957, \"The Kalahari Typing School for Men (No. 1 Ladies' Detective Agency)\": 1958, 'The Key to Midnight': 1959, 'The Killer Angels': 1960, 'The Killing Game: Only One Can Win...and the Loser Dies': 1961, 'The King of Torts': 1962, 'The Kiss': 1963, \"The Kitchen God's Wife\": 1964, 'The Klone and I: A High-Tech Love Story': 1965, \"The Ladies Auxiliary (Ballantine Reader's Circle)\": 1966, 'The Lake House': 1967, \"The Lake of Dead Languages (Ballantine Reader's Circle)\": 1968, 'The Last Don': 1969, 'The Last Juror': 1970, 'The Last Precinct': 1971, 'The Last Suppers': 1972, 'The Last Time They Met : A Novel': 1973, 'The Laughing Corpse (Anita Blake Vampire Hunter (Paperback))': 1974, 'The Law of Love': 1975, 'The Laws of Our Fathers': 1976, 'The Left Hand of Darkness (Remembering Tomorrow)': 1977, 'The Legend of Bagger Vance': 1978, \"The Liar's Club: A Memoir\": 1979, 'The Light Fantastic (Discworld Novels (Paperback))': 1980, 'The Lilac Bus: Stories': 1981, \"The Lion's Game\": 1982, 'The Lion, the Witch, and the Wardrobe (The Chronicles of Narnia, Book 2)': 1983, 'The List': 1984, 'The Little Friend': 1985, 'The Little Prince': 1986, 'The Long Road Home': 1987, 'The Loop': 1988, 'The Loop: A Novel': 1989, 'The Lord of the Rings (Movie Art Cover)': 1990, \"The Lost Boy: A Foster Child's Search for the Love of a Family\": 1991, 'The Lost Continent: Travels in Small-Town America': 1992, 'The Lost World': 1993, 'The Lost World: A Novel': 1994, 'The Lottery Winner : Alvirah And Willy Stories': 1995, 'The Lottery Winner: Alvirah and Willy Stories': 1996, 'The Love Letter': 1997, 'The Lovely Bones': 1998, 'The Lovely Bones: A Novel': 1999, 'The Lunatic Cafe (Anita Blake Vampire Hunter (Paperback))': 2000, 'The Lust Lizard of Melancholy Cove': 2001, 'The Macgregors: Alan - Grant (The Macgregors)': 2002, 'The Magic Circle': 2003, 'The Magic of You (Malory Novels (Paperback))': 2004, \"The Magician's Assistant\": 2005, \"The Magician's Nephew (rack) (Narnia)\": 2006, 'The Main Corpse (Culinary Mysteries (Paperback))': 2007, \"The Mammoth Hunters (Auel, Jean M. , Earth's Children.)\": 2008, \"The Mammoth Hunters (Earth's Children (Paperback))\": 2009, 'The Man Who Ate the 747': 2010, 'The Map of Love': 2011, 'The Mark: The Beast Rules the World (Left Behind #8)': 2012, 'The Martian Chronicles': 2013, 'The Mask': 2014, 'The Master and Margarita': 2015, 'The Matarese Countdown': 2016, 'The Maze': 2017, 'The Meaning Of Life': 2018, 'The Mermaids Singing': 2019, 'The Midnight Club': 2020, 'The Millionaires': 2021, 'The Miracle Life of Edgar Mint: A Novel': 2022, 'The Mistress of Spices': 2023, 'The Mists of Avalon': 2024, 'The Morning After': 2025, 'The Mosquito Coast': 2026, 'The Most Wanted': 2027, 'The Mothman Prophecies': 2028, 'The Mouse and the Motorcycle': 2029, 'The Mulberry Tree': 2030, 'The Mummy or Ramses the Damned': 2031, 'The Murder Book': 2032, 'The Music of the Spheres': 2033, 'The Nanny Diaries: A Novel': 2034, 'The Neverending Story': 2035, 'The Next Accident': 2036, 'The Night Before': 2037, 'The Night Crew': 2038, \"The No. 1 Ladies' Detective Agency\": 2039, \"The No. 1 Ladies' Detective Agency (Today Show Book Club #8)\": 2040, 'The Notebook': 2041, 'The Oath': 2042, 'The Odyssey': 2043, 'The Once and Future King': 2044, \"The Orchid Thief (Ballantine Reader's Circle)\": 2045, 'The Other Boleyn Girl': 2046, 'The Other Daughter': 2047, 'The Outside Man': 2048, 'The Outsiders': 2049, 'The Outsiders (Now in Speak!)': 2050, 'The Pact: A Love Story': 2051, 'The Partner': 2052, 'The Passion': 2053, 'The Passion of Artemisia': 2054, 'The Patient': 2055, 'The Pearl': 2056, 'The Pelican Brief': 2057, 'The Penwyth Curse': 2058, 'The Perfect Husband': 2059, 'The Perfect Storm : A True Story of Men Against the Sea': 2060, 'The Perfect Storm: A True Story of Men Against the Sea': 2061, 'The Perfect Summer': 2062, 'The Perks of Being a Wallflower': 2063, 'The Persian Pickle Club': 2064, 'The Phantom Tollbooth': 2065, 'The Piano Tuner : A Novel': 2066, 'The Pied Piper': 2067, 'The Pillars of the Earth': 2068, \"The Pilot's Wife\": 2069, \"The Pilot's Wife : A Novel\": 2070, \"The Pilot's Wife : A Novel Tag: Author of the Weight of Water (Oprah's Book Club (Hardcover))\": 2071, \"The Plains of Passage (Earth's Children (Paperback))\": 2072, 'The Playboy': 2073, 'The Poet': 2074, 'The Poisonwood Bible': 2075, 'The Poisonwood Bible: A Novel': 2076, 'The Postman (Bantam Classics)': 2077, 'The Power of One': 2078, 'The Prayer of Jabez: Breaking Through to the Blessed Life': 2079, 'The Presence': 2080, \"The President's Daughter\": 2081, 'The Prince of Tides': 2082, \"The Princess Bride: S Morgenstern's Classic Tale of True Love and High Adventure\": 2083, 'The Princess Diaries': 2084, 'The Professor and the Madman': 2085, 'The Professor and the Madman: A Tale of Murder, Insanity, and the Making of The Oxford English Dictionary': 2086, 'The Program': 2087, 'The Prometheus Deception': 2088, 'The Promise': 2089, 'The Pull of the Moon': 2090, 'The Purpose-Driven Life: What on Earth Am I Here For?': 2091, 'The Pursuit (Avon Historical Romance)': 2092, 'The Queen of the Damned (Vampire Chronicles (Paperback))': 2093, \"The Queen's Fool : A Novel\": 2094, 'The Quiet Game': 2095, 'The Rainmaker': 2096, 'The Ranch': 2097, 'The Rapture of Canaan': 2098, 'The Reader': 2099, 'The Red Room': 2100, 'The Red Tent (Bestselling Backlist)': 2101, 'The Reef': 2102, 'The Regulators': 2103, 'The Remains of the Day (Vintage International)': 2104, 'The Remnant: On the Brink of Armageddon (Left Behind No. 10)': 2105, 'The Reptile Room (A Series of Unfortunate Events, Book 2)': 2106, 'The Rescue': 2107, \"The Restaurant at the End of the Universe (Hitchhiker's Trilogy (Paperback))\": 2108, 'The Return': 2109, 'The Return Journey': 2110, 'The Return of the Indian (Indian in the Cupboard)': 2111, 'The Return of the King (The Lord of the Rings, Part 3)': 2112, 'The Right Hand of Evil': 2113, 'The Ring': 2114, 'The Ritual Bath (Peter Decker &amp; Rina Lazarus Novels (Paperback))': 2115, 'The River King': 2116, 'The Road from Coorain': 2117, 'The Road to Omaha': 2118, 'The Robber Bride': 2119, 'The Rosewood Casket': 2120, 'The Rule of Four': 2121, 'The Runaway Jury': 2122, 'The SECRET DIARY OF ANNE BOLEYN': 2123, \"The Samurai's Garden : A Novel\": 2124, 'The Sands of Time': 2125, 'The Satanic Verses': 2126, 'The Saving Graces: A Novel': 2127, 'The Scandalous Summer of Sissy LeBlanc : A Novel': 2128, 'The Scarlet Letter': 2129, \"The Scold's Bridle\": 2130, 'The Scorpio Illusion': 2131, 'The Scottish Bride (Bride Trilogy (Paperback))': 2132, 'The Screwtape Letters': 2133, 'The Search': 2134, 'The Second Summer of the Sisterhood': 2135, 'The Second Time Around : A Novel': 2136, 'The Secret': 2137, 'The Secret Diary of Adrian Mole Aged 13 3/4': 2138, 'The Secret Garden': 2139, 'The Secret Life of Bees': 2140, 'The Servants of Twilight': 2141, 'The Shape of Snakes': 2142, 'The Shell Seekers (Shell Seekers)': 2143, \"The Shelters of Stone (Earth's Children Series, No 5)\": 2144, \"The Shelters of Stone (Earth's Children, Book 5)\": 2145, 'The Shining': 2146, 'The Shipping News : A Novel': 2147, 'The Short Forever': 2148, 'The Sigma Protocol': 2149, 'The Silmarillion': 2150, 'The Silver Chair': 2151, 'The Silver Wolf': 2152, 'The Simple Truth': 2153, 'The Sisterhood of the Traveling Pants': 2154, 'The Sixteen Pleasures: A Novel': 2155, 'The Sky Is Falling': 2156, 'The Smoke Jumper': 2157, 'The Songcatcher: A Ballad Novel': 2158, \"The Soul Catcher: A Maggie O'Dell Novel\": 2159, 'The Sparrow': 2160, 'The Stand (The Complete and Uncut Edition)': 2161, 'The Stand: Complete and Uncut': 2162, 'The Stand: The Complete &amp; Uncut Edition': 2163, 'The Stars Shine Down': 2164, 'The Stepford Wives': 2165, 'The Stone Diaries': 2166, 'The Stone Monkey (Lincoln Rhyme Novels (Paperback))': 2167, 'The Stranger': 2168, 'The Straw Men': 2169, 'The Street Lawyer': 2170, 'The Subtle Knife (His Dark Materials, Book 2)': 2171, 'The Sum of All Fears': 2172, 'The Sum of All Fears (Jack Ryan Novels)': 2173, 'The Summerhouse': 2174, 'The Summons': 2175, 'The Surgeon': 2176, 'The Survivors Club': 2177, \"The Sweet Potato Queens' Book of Love\": 2178, 'The Switch': 2179, 'The Tailor of Panama': 2180, 'The Tale of the Body Thief (Vampire Chronicles (Paperback))': 2181, 'The Tale of the Body Thief (Vampire Chronicles)': 2182, 'The Talented Mr. Ripley (Vintage Crime/Black Lizard)': 2183, 'The Talisman': 2184, 'The Tao of Pooh': 2185, 'The Target': 2186, 'The Te of Piglet': 2187, 'The Teeth of the Tiger': 2188, 'The Temple of My Familiar': 2189, 'The Tenth Insight : Holding the Vision': 2190, 'The Tenth Justice': 2191, 'The Terminal Man': 2192, 'The Testament': 2193, 'The Thief Lord': 2194, 'The Thief of Always': 2195, 'The Things They Carried': 2196, 'The Third Option': 2197, 'The Third Twin': 2198, 'The Third Victim': 2199, 'The Thorn Birds': 2200, \"The Time Traveler's Wife\": 2201, \"The Time Traveler's Wife (Harvest Book)\": 2202, \"The Time Traveler's Wife (Today Show Book Club #15)\": 2203, 'The Tipping Point: How Little Things Can Make a Big Difference': 2204, 'The Tommyknockers': 2205, 'The Tortilla Curtain': 2206, 'The Trials of Tiffany Trott': 2207, 'The Triumph of Katie Byrne': 2208, 'The True Confessions of Charlotte Doyle (rack)': 2209, 'The Two Dead Girls (Green Mile Series)': 2210, 'The Two Towers (The Lord of the Rings, Part 2)': 2211, 'The Ugly Duckling': 2212, 'The Unbearable Lightness of Being': 2213, 'The Unbearable Lightness of Being : A Novel (Perennial Classics)': 2214, \"The Undertaker's Widow\": 2215, 'The Vagina Monologues: The V-Day Edition': 2216, 'The Valley of Horses': 2217, 'The Vampire Armand (The Vampire Chronicles, Book 6)': 2218, 'The Vampire Lestat (Vampire Chronicles, Book II)': 2219, 'The Vendetta Defense': 2220, 'The Villa': 2221, 'The Vineyard': 2222, 'The Virgin Blue': 2223, 'The Virgin Suicides': 2224, 'The Vision': 2225, 'The Voice of the Night': 2226, 'The Wailing Wind': 2227, 'The Wasp Factory': 2228, 'The Waste Lands (The Dark Tower, Book 3)': 2229, 'The Web (Alex Delaware Series, No. 10)': 2230, 'The Wedding': 2231, 'The Weight of Water': 2232, 'The Weight of Water : A Novel Tag - Author of Resistance and Strange Fits of Passion': 2233, 'The Weight of Water : A Novel Tag: Author of Resistance and Strange Fits of Passion': 2234, 'The Westing Game (Now in Speak!)': 2235, 'The Wide Window (A Series of Unfortunate Events, Book 3)': 2236, 'The Wind-Up Bird Chronicle': 2237, 'The Winner': 2238, 'The Witches of Eastwick': 2239, 'The Witching Hour (Lives of the Mayfair Witches)': 2240, 'The Witness': 2241, 'The Woman Next Door': 2242, 'The Woman Warrior : Memoirs of a Girlhood Among Ghosts': 2243, 'The World According to Garp': 2244, 'The Worst-Case Scenario Survival Handbook': 2245, 'Their Eyes Were Watching God': 2246, 'Their Eyes Were Watching God: A Novel': 2247, \"Then Again, Maybe I Won't\": 2248, 'Then Came Heaven': 2249, 'Therapy': 2250, 'These High, Green Hills (The Mitford Years)': 2251, 'Thicker Than Water': 2252, 'Things Fall Apart : A Novel': 2253, 'Thinner': 2254, 'This Present Darkness': 2255, 'This Year It Will Be Different: And Other Stories': 2256, 'Thousand Acres': 2257, 'Three Fates': 2258, 'Three Junes': 2259, 'Three To Get Deadly : A Stephanie Plum Novel (A Stephanie Plum Novel)': 2260, 'Three Weeks in Paris': 2261, 'Three Wishes': 2262, \"Thursday'S At Eight\": 2263, \"Thursday's Child\": 2264, 'Thurston House': 2265, 'TickTock': 2266, 'Till We Meet Again': 2267, 'Time And Again': 2268, 'Time Bomb (Alex Delaware Novels (Paperback))': 2269, 'Time Flies': 2270, 'Timeline': 2271, 'Timequake': 2272, 'Tipping the Velvet': 2273, 'Tis : A Memoir': 2274, 'Tis: A Memoir': 2275, 'Tishomingo Blues': 2276, 'To Be the Best': 2277, 'To Kill a Mockingbird': 2278, 'To Love Again': 2279, 'To Say Nothing of the Dog': 2280, 'To Trust a Stranger': 2281, 'To the Hilt': 2282, 'To the Lighthouse': 2283, 'To the Nines: A Stephanie Plum Novel': 2284, \"Tom Clancy's Op-Center (Tom Clancy's Op Center (Paperback))\": 2285, \"Tom Clancy's Op-Center Balance of Power (Tom Clancy's Op Center (Paperback))\": 2286, \"Tom Clancy's Op-Center: Games of State (Tom Clancy's Op Center (Paperback))\": 2287, \"Tom Clancy's Op-Center: Line of Control (Tom Clancy's Op Center (Paperback))\": 2288, \"Tom Clancy's Op-Center: Mirror Image (Tom Clancy's Op Center (Paperback))\": 2289, 'Total Control': 2290, 'Total Recall: A V.I. Warshawski Novel': 2291, 'Touching Evil': 2292, 'Tough Cookie': 2293, 'Toujours Provence (Vintage Departures)': 2294, 'Tourist Season': 2295, 'Toxin': 2296, 'Track of the Cat (Anna Pigeon Mysteries (Paperback))': 2297, 'Trading Places': 2298, 'Traveling Mercies: Some Thoughts on Faith': 2299, 'Travels With Charley: In Search of America': 2300, 'Treasures': 2301, 'Trevayne': 2302, 'Trial by Fire': 2303, 'Tribulation Force: The Continuing Drama of Those Left Behind (Left Behind No. 2)': 2304, 'Tricky Business': 2305, 'Trinity': 2306, 'True Betrayals': 2307, 'True Blue': 2308, 'Truly, Madly Manhattan': 2309, 'Trunk Music (Detective Harry Bosch Mysteries)': 2310, 'Tuck Everlasting': 2311, \"Tuesdays with Morrie: An Old Man, a Young Man, and Life's Greatest Lesson\": 2312, 'Tunnel Vision (V.I. Warshawski Novels (Paperback))': 2313, 'Turtle Moon': 2314, 'Twilight Eyes': 2315, \"Twilight's Child (Cutler)\": 2316, 'Two for the Dough': 2317, 'Uh-Oh: Some Observations from Both Sides of the Refrigerator Door': 2318, 'Unbearable Lightness of Being': 2319, 'Under the Banner of Heaven : A Story of Violent Faith': 2320, 'Under the Tuscan Sun': 2321, 'Under the Tuscan Sun : At Home in Italy': 2322, 'Undue Influence': 2323, 'Unfinished Symphony (Logan)': 2324, 'Unfit to Practice': 2325, 'Unnatural Exposure': 2326, 'Unspeakable': 2327, 'Untamed': 2328, 'Until You': 2329, 'Up Country': 2330, 'Up Island: A Novel': 2331, 'Valhalla Rising (Dirk Pitt Adventures (Paperback))': 2332, \"Valley of the Horses (Auel, Jean M. , Earth's Children.)\": 2333, 'Vanished': 2334, 'Vector': 2335, 'Vernon God Little: A 21st Century Comedy in the Presence of Death': 2336, 'Veronika Decides to Die': 2337, 'Vertical Run': 2338, \"Vinegar Hill (Oprah's Book Club (Paperback))\": 2339, 'Violets Are Blue': 2340, 'Violin': 2341, 'Visions of Sugar Plums': 2342, 'Visions of Sugar Plums: A Stephanie Plum Holiday Novel': 2343, 'Vital Signs': 2344, 'Vittorio the Vampire: New Tales of the Vampires': 2345, 'Void Moon': 2346, 'Voyager': 2347, 'WAITING TO EXHALE': 2348, 'WEB OF DREAMS (Casteel Saga (Paperback))': 2349, 'WLD ACCORDNG GARP': 2350, 'Waiting': 2351, 'Waiting (Vintage International)': 2352, 'Waiting to Exhale': 2353, 'Walk Two Moons': 2354, 'Wanderlust': 2355, 'Warning Signs': 2356, 'Watchers': 2357, 'Watermelon': 2358, 'Watership Down': 2359, 'We Were the Mulvaneys': 2360, \"We'll Meet Again\": 2361, 'Weep No More My Lady': 2362, 'Weep No More, My Lady': 2363, 'Welcome to Dead House (Goosebumps, No 1)': 2364, 'Welcome to My Planet: Where English Is Sometimes Spoken': 2365, 'Welcome to Temptation': 2366, 'Welcome to the World, Baby Girl!': 2367, 'West With the Night': 2368, 'What Dreams May Come : A Novel': 2369, 'What Looks Like Crazy On An Ordinary Day': 2370, 'What We Keep': 2371, \"What We Keep : A Novel (Ballantine Reader's Circle)\": 2372, \"What to Expect When You're Expecting (Revised Edition)\": 2373, 'What to Expect the First Year': 2374, 'When Rabbit Howls': 2375, 'When the Wind Blows': 2376, 'Where Are the Children?': 2377, \"Where There's Smoke\": 2378, 'Where You Belong': 2379, 'Where is Joe Merchant?': 2380, 'Where or When  : A Novel': 2381, 'Where the Heart Is': 2382, \"Where the Heart Is (Oprah's Book Club (Paperback))\": 2383, 'Where the Red Fern Grows': 2384, 'While I Was Gone': 2385, 'While My Pretty One Sleeps': 2386, 'Whirlwind': 2387, 'Whirlwind (The X-Files)': 2388, 'Whirlwind (Tyler, Book 1)': 2389, 'Whisper of Evil (Hooper, Kay. Evil Trilogy.)': 2390, 'Whispers': 2391, 'Whispers and Lies': 2392, 'White Fang': 2393, 'White Noise (Contemporary American Fiction)': 2394, 'White Oleander : A Novel': 2395, \"White Oleander : A Novel (Oprah's Book Club)\": 2396, 'White Teeth: A Novel': 2397, 'Who Moved My Cheese? An Amazing Way to Deal with Change in Your Work and in Your Life': 2398, 'Why Girls Are Weird : A Novel': 2399, 'Wicked: The Life and Times of the Wicked Witch of the West': 2400, 'Wifey': 2401, 'Wild Animus': 2402, 'Wild Horses': 2403, 'Wild Justice': 2404, 'Wild Mountain Thyme': 2405, 'Wild Swans: Three Daughters of China': 2406, 'Windmills of the Gods': 2407, 'Windy City Blues (V.I. Warshawski Novels (Paperback))': 2408, 'Wings': 2409, 'Winter Moon': 2410, 'Winter Prey': 2411, 'Winter Solstice': 2412, \"Winter's Heart (The Wheel of Time, Book 9)\": 2413, \"Winter's Tale\": 2414, 'Wish You Well': 2415, 'Without Remorse': 2416, 'Witness in Death (Eve Dallas Mysteries (Paperback))': 2417, 'Wizard and Glass (The Dark Tower, Book 4)': 2418, \"Wizard's First Rule (Sword of Truth, Book 1)\": 2419, 'Wobegon Boy': 2420, 'Woman on the Edge of Time': 2421, 'Women Who Run with the Wolves': 2422, 'Women in His Life': 2423, 'Women of the Silk : A Novel': 2424, 'Word Freak: Heartbreak, Triumph, Genius, and Obsession in the World of Competitive Scrabble Players': 2425, 'World of Pies : A Novel': 2426, \"Wouldn't Take Nothing for My Journey Now\": 2427, 'Writ of Execution': 2428, 'Writing Down the Bones': 2429, 'Wuthering Heights': 2430, 'Wuthering Heights (Penguin Classics)': 2431, 'Wuthering Heights (Wordsworth Classics)': 2432, 'Xenocide (Ender Wiggins Saga (Paperback))': 2433, 'YOU BELONG TO ME': 2434, 'Year of Wonders': 2435, 'You Belong To Me': 2436, 'You Shall Know Our Velocity': 2437, 'Young Wives': 2438, 'Zen and the Art of Motorcycle Maintenance: An Inquiry into Values': 2439, 'Zoya': 2440, '\\\\O\\\\\" Is for Outlaw\"': 2441, '\\\\Surely You\\'re Joking, Mr. Feynman!\\\\\": Adventures of a Curious Character\"': 2442, 'stardust': 2443}\n"
          ],
          "name": "stdout"
        }
      ]
    },
    {
      "cell_type": "code",
      "metadata": {
        "id": "tGTBF55rQ7WV",
        "colab": {
          "base_uri": "https://localhost:8080/",
          "height": 35
        },
        "outputId": "dd174b15-1c26-4ddf-f870-9352c9ac6cf6"
      },
      "source": [
        "data4_pivot.index[ind]"
      ],
      "execution_count": 160,
      "outputs": [
        {
          "output_type": "execute_result",
          "data": {
            "application/vnd.google.colaboratory.intrinsic+json": {
              "type": "string"
            },
            "text/plain": [
              "'16 Lighthouse Road'"
            ]
          },
          "metadata": {
            "tags": []
          },
          "execution_count": 160
        }
      ]
    },
    {
      "cell_type": "code",
      "metadata": {
        "colab": {
          "base_uri": "https://localhost:8080/",
          "height": 780
        },
        "id": "CFKWgW8HRBJZ",
        "outputId": "72a0f0b9-bd2d-4fcc-89a0-527eae266272"
      },
      "source": [
        "list1= [data4_pivot.index[ind]]\r\n",
        "for i in range(0, len(distances.flatten())):\r\n",
        "    if i == 0:\r\n",
        "        print('Recommendations for {0}:\\n'.format(data4_pivot.index[ind]))\r\n",
        "    else:\r\n",
        "        title=data4_pivot.index[indices.flatten()[i]]\r\n",
        "        list1.append(title)\r\n",
        "data10 = data.loc[data['book_title'].isin(list1),:]        \r\n",
        "\r\n",
        "data11 = data10\r\n",
        "data11['book_title'] = data11['book_title'].drop_duplicates()\r\n",
        "data11 = data11.dropna()\r\n",
        "data11=data11.reset_index()\r\n",
        "data11.drop('index',axis=1,inplace=True)\r\n",
        "data11.head(220)\r\n"
      ],
      "execution_count": 161,
      "outputs": [
        {
          "output_type": "stream",
          "text": [
            "Recommendations for 16 Lighthouse Road:\n",
            "\n"
          ],
          "name": "stdout"
        },
        {
          "output_type": "stream",
          "text": [
            "/usr/local/lib/python3.6/dist-packages/ipykernel_launcher.py:11: SettingWithCopyWarning: \n",
            "A value is trying to be set on a copy of a slice from a DataFrame.\n",
            "Try using .loc[row_indexer,col_indexer] = value instead\n",
            "\n",
            "See the caveats in the documentation: https://pandas.pydata.org/pandas-docs/stable/user_guide/indexing.html#returning-a-view-versus-a-copy\n",
            "  # This is added back by InteractiveShellApp.init_path()\n"
          ],
          "name": "stderr"
        },
        {
          "output_type": "execute_result",
          "data": {
            "text/html": [
              "<div>\n",
              "<style scoped>\n",
              "    .dataframe tbody tr th:only-of-type {\n",
              "        vertical-align: middle;\n",
              "    }\n",
              "\n",
              "    .dataframe tbody tr th {\n",
              "        vertical-align: top;\n",
              "    }\n",
              "\n",
              "    .dataframe thead th {\n",
              "        text-align: right;\n",
              "    }\n",
              "</style>\n",
              "<table border=\"1\" class=\"dataframe\">\n",
              "  <thead>\n",
              "    <tr style=\"text-align: right;\">\n",
              "      <th></th>\n",
              "      <th>book_id</th>\n",
              "      <th>book_title</th>\n",
              "      <th>book_author</th>\n",
              "    </tr>\n",
              "  </thead>\n",
              "  <tbody>\n",
              "    <tr>\n",
              "      <th>0</th>\n",
              "      <td>042518630X</td>\n",
              "      <td>Purity in Death</td>\n",
              "      <td>J.D. Robb</td>\n",
              "    </tr>\n",
              "    <tr>\n",
              "      <th>1</th>\n",
              "      <td>0821772953</td>\n",
              "      <td>The Morning After</td>\n",
              "      <td>Lisa Jackson</td>\n",
              "    </tr>\n",
              "    <tr>\n",
              "      <th>2</th>\n",
              "      <td>0515131091</td>\n",
              "      <td>Out of This World</td>\n",
              "      <td>J. D. Robb</td>\n",
              "    </tr>\n",
              "    <tr>\n",
              "      <th>3</th>\n",
              "      <td>051512317X</td>\n",
              "      <td>Rising Tides</td>\n",
              "      <td>Nora Roberts</td>\n",
              "    </tr>\n",
              "    <tr>\n",
              "      <th>4</th>\n",
              "      <td>0425181464</td>\n",
              "      <td>Seduction in Death</td>\n",
              "      <td>J. D. Robb</td>\n",
              "    </tr>\n",
              "    <tr>\n",
              "      <th>5</th>\n",
              "      <td>0553293176</td>\n",
              "      <td>Dangerous</td>\n",
              "      <td>Amanda Quick</td>\n",
              "    </tr>\n",
              "    <tr>\n",
              "      <th>6</th>\n",
              "      <td>0451188616</td>\n",
              "      <td>The Heir</td>\n",
              "      <td>Catherine Coulter</td>\n",
              "    </tr>\n",
              "    <tr>\n",
              "      <th>7</th>\n",
              "      <td>1551669498</td>\n",
              "      <td>Girls Night</td>\n",
              "      <td>Stef Ann Holm</td>\n",
              "    </tr>\n",
              "    <tr>\n",
              "      <th>8</th>\n",
              "      <td>0425191583</td>\n",
              "      <td>Imitation in Death (Eve Dallas Mysteries (Pape...</td>\n",
              "      <td>J. D. Robb</td>\n",
              "    </tr>\n",
              "    <tr>\n",
              "      <th>9</th>\n",
              "      <td>0515129933</td>\n",
              "      <td>The Scottish Bride (Bride Trilogy (Paperback))</td>\n",
              "      <td>Catherine Coulter</td>\n",
              "    </tr>\n",
              "    <tr>\n",
              "      <th>10</th>\n",
              "      <td>1551666650</td>\n",
              "      <td>Hurricane Bay</td>\n",
              "      <td>Heather Graham</td>\n",
              "    </tr>\n",
              "    <tr>\n",
              "      <th>11</th>\n",
              "      <td>0373483503</td>\n",
              "      <td>Macgregor Brides (Macgregors)</td>\n",
              "      <td>Nora Roberts</td>\n",
              "    </tr>\n",
              "    <tr>\n",
              "      <th>12</th>\n",
              "      <td>0373270976</td>\n",
              "      <td>Night Shield (Intimate Moments, 1027)</td>\n",
              "      <td>Nora Roberts</td>\n",
              "    </tr>\n",
              "    <tr>\n",
              "      <th>13</th>\n",
              "      <td>0515133620</td>\n",
              "      <td>Tapestry</td>\n",
              "      <td>Lynn Kurland</td>\n",
              "    </tr>\n",
              "    <tr>\n",
              "      <th>14</th>\n",
              "      <td>0671880608</td>\n",
              "      <td>Until You</td>\n",
              "      <td>Judith McNaught</td>\n",
              "    </tr>\n",
              "    <tr>\n",
              "      <th>15</th>\n",
              "      <td>0515116750</td>\n",
              "      <td>Born in Ice</td>\n",
              "      <td>Nora Roberts</td>\n",
              "    </tr>\n",
              "    <tr>\n",
              "      <th>16</th>\n",
              "      <td>0061096083</td>\n",
              "      <td>The Bestseller</td>\n",
              "      <td>Olivia Goldsmith</td>\n",
              "    </tr>\n",
              "    <tr>\n",
              "      <th>17</th>\n",
              "      <td>0446364266</td>\n",
              "      <td>French Silk</td>\n",
              "      <td>Sandra Brown</td>\n",
              "    </tr>\n",
              "    <tr>\n",
              "      <th>18</th>\n",
              "      <td>1551669293</td>\n",
              "      <td>204 Rosewood Lane</td>\n",
              "      <td>Debbie Macomber</td>\n",
              "    </tr>\n",
              "    <tr>\n",
              "      <th>19</th>\n",
              "      <td>1551668300</td>\n",
              "      <td>16 Lighthouse Road</td>\n",
              "      <td>Debbie Macomber</td>\n",
              "    </tr>\n",
              "  </tbody>\n",
              "</table>\n",
              "</div>"
            ],
            "text/plain": [
              "       book_id  ...        book_author\n",
              "0   042518630X  ...          J.D. Robb\n",
              "1   0821772953  ...       Lisa Jackson\n",
              "2   0515131091  ...         J. D. Robb\n",
              "3   051512317X  ...       Nora Roberts\n",
              "4   0425181464  ...         J. D. Robb\n",
              "5   0553293176  ...       Amanda Quick\n",
              "6   0451188616  ...  Catherine Coulter\n",
              "7   1551669498  ...      Stef Ann Holm\n",
              "8   0425191583  ...         J. D. Robb\n",
              "9   0515129933  ...  Catherine Coulter\n",
              "10  1551666650  ...     Heather Graham\n",
              "11  0373483503  ...       Nora Roberts\n",
              "12  0373270976  ...       Nora Roberts\n",
              "13  0515133620  ...       Lynn Kurland\n",
              "14  0671880608  ...    Judith McNaught\n",
              "15  0515116750  ...       Nora Roberts\n",
              "16  0061096083  ...   Olivia Goldsmith\n",
              "17  0446364266  ...       Sandra Brown\n",
              "18  1551669293  ...    Debbie Macomber\n",
              "19  1551668300  ...    Debbie Macomber\n",
              "\n",
              "[20 rows x 3 columns]"
            ]
          },
          "metadata": {
            "tags": []
          },
          "execution_count": 161
        }
      ]
    },
    {
      "cell_type": "code",
      "metadata": {
        "id": "aOBG_fiIRwSg"
      },
      "source": [
        "# Fitting the TF-IDF on the 'book_author' text\r\n",
        "tfv_matrix = tfv.fit_transform(data11['book_author'])\r\n",
        "cosine_matrix=np.dot(tfv_matrix,tfv_matrix.T)\r\n",
        "cosine_matrix=cosine_matrix.toarray()\r\n",
        "# Reverse mapping of indices and book titles\r\n",
        "indices = pd.Series(data11.index, index=data11['book_title']).drop_duplicates()"
      ],
      "execution_count": 162,
      "outputs": []
    },
    {
      "cell_type": "code",
      "metadata": {
        "id": "8j-wgyD3KfT1",
        "colab": {
          "base_uri": "https://localhost:8080/"
        },
        "outputId": "5d109ce0-897d-4371-efdd-053ef14e01ec"
      },
      "source": [
        "indices"
      ],
      "execution_count": 163,
      "outputs": [
        {
          "output_type": "execute_result",
          "data": {
            "text/plain": [
              "book_title\n",
              "Purity in Death                                           0\n",
              "The Morning After                                         1\n",
              "Out of This World                                         2\n",
              "Rising Tides                                              3\n",
              "Seduction in Death                                        4\n",
              "Dangerous                                                 5\n",
              "The Heir                                                  6\n",
              "Girls Night                                               7\n",
              "Imitation in Death (Eve Dallas Mysteries (Paperback))     8\n",
              "The Scottish Bride (Bride Trilogy (Paperback))            9\n",
              "Hurricane Bay                                            10\n",
              "Macgregor Brides (Macgregors)                            11\n",
              "Night Shield (Intimate Moments, 1027)                    12\n",
              "Tapestry                                                 13\n",
              "Until You                                                14\n",
              "Born in Ice                                              15\n",
              "The Bestseller                                           16\n",
              "French Silk                                              17\n",
              "204 Rosewood Lane                                        18\n",
              "16 Lighthouse Road                                       19\n",
              "dtype: int64"
            ]
          },
          "metadata": {
            "tags": []
          },
          "execution_count": 163
        }
      ]
    },
    {
      "cell_type": "code",
      "metadata": {
        "id": "n6do8BNM8c6h"
      },
      "source": [
        "def content_based_rec(title):\r\n",
        "    idx = indices[title]\r\n",
        "    sig_scores = sorted(list(enumerate(cosine_matrix[idx])), key=lambda x: x[1], reverse=True)\r\n",
        "    sig_scores = sig_scores[1:11]\r\n",
        "    book_indices = [i[0] for i in sig_scores]\r\n",
        "    # Top 10 most similar books\r\n",
        "    return data['book_title'].iloc[book_indices]"
      ],
      "execution_count": 169,
      "outputs": []
    },
    {
      "cell_type": "code",
      "metadata": {
        "id": "k8N3u3_x3HOc",
        "colab": {
          "base_uri": "https://localhost:8080/"
        },
        "outputId": "e8146779-49bb-4d5d-aad2-45c99edd2c6d"
      },
      "source": [
        "content_based_rec(tit)"
      ],
      "execution_count": 170,
      "outputs": [
        {
          "output_type": "execute_result",
          "data": {
            "text/plain": [
              "19                 Beloved (Plume Contemporary Fiction)\n",
              "0                                   Classical Mythology\n",
              "1                                          Clara Callan\n",
              "2                                  Decision in Normandy\n",
              "3     Flu: The Story of the Great Influenza Pandemic...\n",
              "4                                The Mummies of Urumchi\n",
              "5                                The Kitchen God's Wife\n",
              "6     What If?: The World's Foremost Military Histor...\n",
              "7                                       PLEADING GUILTY\n",
              "8     Under the Black Flag: The Romance and the Real...\n",
              "Name: book_title, dtype: object"
            ]
          },
          "metadata": {
            "tags": []
          },
          "execution_count": 170
        }
      ]
    },
    {
      "cell_type": "code",
      "metadata": {
        "id": "qrMc_QdXTlGh"
      },
      "source": [
        ""
      ],
      "execution_count": 165,
      "outputs": []
    },
    {
      "cell_type": "code",
      "metadata": {
        "id": "O1KtfD1tptAq"
      },
      "source": [
        "def hybrid_recommendation(title):\r\n",
        " \r\n",
        "  ind = dict[title]\r\n",
        "  distances, indices = knn.kneighbors(data4_pivot.iloc[ind,:].values.reshape(1, -1), n_neighbors = 20)\r\n",
        "  list1= [data4_pivot.index[ind]]\r\n",
        "  for i in range(0, len(distances.flatten())):\r\n",
        "    if i == 0:\r\n",
        "        print('Recommendations for {0}:\\n'.format(data4_pivot.index[ind]))\r\n",
        "    else:\r\n",
        "        title=data4_pivot.index[indices.flatten()[i]]\r\n",
        "        list1.append(title)\r\n",
        "  data10 = data.loc[data['book_title'].isin(list1),:]        \r\n",
        "  data11 = data10\r\n",
        "  data11['book_title'] = data11['book_title'].drop_duplicates()\r\n",
        "  data11 = data11.dropna()\r\n",
        "  data11=data11.reset_index()\r\n",
        "  data11.drop('index',axis=1,inplace=True)\r\n",
        "  tfv_matrix = tfv.fit_transform(data11['book_author'])\r\n",
        "  cosine_matrix=np.dot(tfv_matrix,tfv_matrix.T)\r\n",
        "  cosine_matrix=cosine_matrix.toarray()\r\n",
        "  indices = pd.Series(data11.index, index=data11['book_title']).drop_duplicates()\r\n",
        "  idx = indices[title]\r\n",
        "\r\n",
        "  sig_scores = sorted(list(enumerate(cosine_matrix[idx])), key=lambda x: x[1], reverse=True)\r\n",
        "\r\n",
        "    # Scores of the 10 most similar books\r\n",
        "  sig_scores = sig_scores[1:11]\r\n",
        "  book_indices = [i[0] for i in sig_scores]\r\n",
        "\r\n",
        "    # Top 10 most similar books\r\n",
        "  return data11['book_title'].iloc[book_indices].drop_duplicates()\r\n"
      ],
      "execution_count": 166,
      "outputs": []
    },
    {
      "cell_type": "code",
      "metadata": {
        "colab": {
          "base_uri": "https://localhost:8080/"
        },
        "id": "yk9OnQhyrDxh",
        "outputId": "65c1a4ee-6066-4642-f6dd-e575196ebf84"
      },
      "source": [
        "hybrid_recommendation('16 Lighthouse Road')"
      ],
      "execution_count": 167,
      "outputs": [
        {
          "output_type": "stream",
          "text": [
            "Recommendations for 16 Lighthouse Road:\n",
            "\n"
          ],
          "name": "stdout"
        },
        {
          "output_type": "stream",
          "text": [
            "/usr/local/lib/python3.6/dist-packages/ipykernel_launcher.py:14: SettingWithCopyWarning: \n",
            "A value is trying to be set on a copy of a slice from a DataFrame.\n",
            "Try using .loc[row_indexer,col_indexer] = value instead\n",
            "\n",
            "See the caveats in the documentation: https://pandas.pydata.org/pandas-docs/stable/user_guide/indexing.html#returning-a-view-versus-a-copy\n",
            "  \n"
          ],
          "name": "stderr"
        },
        {
          "output_type": "execute_result",
          "data": {
            "text/plain": [
              "2                                     Out of This World\n",
              "4                                    Seduction in Death\n",
              "8     Imitation in Death (Eve Dallas Mysteries (Pape...\n",
              "1                                     The Morning After\n",
              "3                                          Rising Tides\n",
              "5                                             Dangerous\n",
              "6                                              The Heir\n",
              "7                                           Girls Night\n",
              "9        The Scottish Bride (Bride Trilogy (Paperback))\n",
              "10                                        Hurricane Bay\n",
              "Name: book_title, dtype: object"
            ]
          },
          "metadata": {
            "tags": []
          },
          "execution_count": 167
        }
      ]
    },
    {
      "cell_type": "code",
      "metadata": {
        "id": "Mp3MC2d07MrB"
      },
      "source": [
        ""
      ],
      "execution_count": 167,
      "outputs": []
    }
  ]
}